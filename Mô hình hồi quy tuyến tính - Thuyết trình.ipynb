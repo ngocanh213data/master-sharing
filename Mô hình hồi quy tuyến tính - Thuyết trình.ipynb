{
 "cells": [
  {
   "cell_type": "markdown",
   "id": "5c7027a0",
   "metadata": {},
   "source": [
    "# Mô hình hồi quy tuyến tính\n",
    "## Định nghĩa Mô hình hồi quy tuyến tính\n",
    "*Xét mô hình hồi quy tuyến tính với biến đầu ra $y$ và $p$ biến đầu vào $x_1, x_2, ..., x_p$*\n",
    "<br>\n",
    "<br>\n",
    "**Thành phần ngẫu nhiên** giả định rằng biến đầu ra $y_i$ có giá trị phương sai $\\sigma^2$ ***cố định***. Mô hình có thể có một trọng số (đã biết) $w_i$ sao cho $var[y_i] = \\frac{\\sigma^2}{w_i}$ với $i=1,2,...n$\n",
    "<br>\n",
    "<br>\n",
    "**Thành phần hệ thống** giả định rằng kỳ vọng $E[y_i]=\\mu_i$ phụ thuộc tuyến tính vào các biến $x_i$ theo công thức $\\mu_i=\\beta_0+\\sum_{j=1}^{p} \\beta_jx_{ji}$\n",
    "<br>\n",
    "<br>\n",
    "Công thức tổng quát của mô hình hồi quy tuyến tính\n",
    "<br>\n",
    "<center>$\\begin{cases}\n",
    "    var[y_i]=\\sigma^2/w_i\\\\\n",
    "    \\mu_i=\\beta_0+\\displaystyle\\sum_{j=1}^{p} \\beta_jx_{ji}\n",
    "  \\end{cases}$</center>\n",
    "<br>\n",
    "Trong đó, $E[y_i]=\\mu_i$ và $w_i$ đã biết. Từ dữ liệu đang có cần ước lượng $\\beta_0,\\beta_1,...,\\beta_p$ và $\\sigma^2$"
   ]
  },
  {
   "cell_type": "markdown",
   "id": "a799cdb0",
   "metadata": {},
   "source": [
    "Giả định của mô hình: <br>\n",
    "- Phù hợp: Mô hình hồi quy phải phù hợp với tất cả các quan sát <br>\n",
    "- Tuyến tính: Mối quan hệ giữa $\\mu$ với mỗi biến định lượng phải là tuyến tính <br>\n",
    "- Phương sai không đổi <br>\n",
    "- Độc lập: Các giá trị đầu ra $y$ là độc lập với nhau"
   ]
  },
  {
   "cell_type": "code",
   "execution_count": 199,
   "id": "cf40fe99",
   "metadata": {
    "scrolled": true
   },
   "outputs": [
    {
     "name": "stdout",
     "output_type": "stream",
     "text": [
      "'data.frame':\t21 obs. of  4 variables:\n",
      " $ Age   : int  22 23 25 27 28 29 30 31 32 33 ...\n",
      " $ Births: int  1 1 1 1 6 1 3 6 7 7 ...\n",
      " $ Weight: num  0.52 0.7 1 1.17 1.2 ...\n",
      " $ SD    : num  NA NA NA NA 0.121 NA 0.589 0.319 0.438 0.313 ...\n"
     ]
    }
   ],
   "source": [
    "library(GLMsData); data(\"gestation\"); str(gestation)"
   ]
  },
  {
   "cell_type": "code",
   "execution_count": null,
   "id": "308b0f91",
   "metadata": {},
   "outputs": [],
   "source": [
    "summary(gestation)"
   ]
  },
  {
   "cell_type": "markdown",
   "id": "8edcd131",
   "metadata": {},
   "source": [
    "**Mô tả dữ liệu** <br>\n",
    "Age: tuần tuổi <br>\n",
    "Births: số lượng em bé được sinh ra ở tuần tuổi tương ứng <br>\n",
    "Weight: cân nặng trung bình (kg) <br>\n",
    "SD: độ lệch chuẩn (kg)"
   ]
  },
  {
   "cell_type": "code",
   "execution_count": 200,
   "id": "b52bb3d2",
   "metadata": {},
   "outputs": [
    {
     "data": {
      "image/png": "[encoded data removed]",
      "text/plain": [
       "plot without title"
      ]
     },
     "metadata": {},
     "output_type": "display_data"
    }
   ],
   "source": [
    "plot(Weight ~ Age, data = gestation, las = 1, pch = ifelse(Births < 20, 1, 19),\n",
    "     xlab = \"Gestationl age (weeks)\", \n",
    "     ylab = \"Mean birthweight (kg)\",\n",
    "     xlim = c(20, 45),\n",
    "     ylim = c(0,4))"
   ]
  },
  {
   "cell_type": "markdown",
   "id": "0ebd3e36",
   "metadata": {},
   "source": [
    "Gọi $m$ là số em bé sinh ra ở tuần tuổi tương ứng (**Note**: $m=Births$)"
   ]
  },
  {
   "cell_type": "markdown",
   "id": "755618c5",
   "metadata": {},
   "source": [
    "Biến đầu ra $y_i$ là trung bình của 1 bộ các quan sát <br>\n",
    "Giả sử rằng mỗi em bé sinh ở $x_i$ tuần tuổi có phương sai $\\sigma^2$ thì phương sai của 1 bộ các quan sát $y_i$ là $\\sigma^2/m_i$ <br>\n",
    "Mô hình hồi quy hợp lý cho tập dữ liệu: <br>\n",
    "<center>$\\begin{cases}\n",
    "    var[y_i]=\\sigma^2/m_i\\\\\n",
    "    \\mu_i=\\beta_0+\\beta_1x_i\n",
    "  \\end{cases}$</center>"
   ]
  },
  {
   "cell_type": "markdown",
   "id": "5b2104ee",
   "metadata": {},
   "source": [
    "Mô hình hồi quy sử dụng trọng số mang nhiều thông tin hơn so với mô hình hồi quy đơn"
   ]
  },
  {
   "cell_type": "markdown",
   "id": "4a2370c7",
   "metadata": {},
   "source": [
    "## Hồi quy tuyến tính đơn giản\n",
    "Mô hình hồi quy tuyến tính đơn giản có dạng: <br>\n",
    "<center>$\\begin{cases}\n",
    "    var[y_i]=\\sigma^2/w_i\\\\\n",
    "    \\mu_i=\\beta_0+\\beta_1x_i\n",
    "  \\end{cases}$</center>\n",
    "Trong đó $E[y_i]=\\mu_i$ và $w_i$ đã biết, cần ước lượng $\\sigma, \\beta_0, \\beta_1$\n"
   ]
  },
  {
   "cell_type": "markdown",
   "id": "28a87414",
   "metadata": {},
   "source": [
    "### Phương pháp bình phương nhỏ nhất\n",
    "Phần dư $e_i$ là chệnh lệch giữa giá trị quan sát $y_i$ và giá trị kỳ vọng $\\mu_i$. Ta có: <br>\n",
    "<center>$e_i=y_i-\\mu_i=y_i-\\beta_0-\\beta_1x_i$</center>\n",
    "Phương pháp bình phương nhỏ nhất chọn giá trị $\\beta_0$ và $\\beta_1$ sao cho bình phương phần dư là nhỏ nhất (có nghĩa rằng khoảng cách từ các điểm quan sát đến đường thẳng ước lượng là nhỏ nhất) <br>\n",
    "<center>$S(\\beta_0,\\beta_1)=\\displaystyle\\sum_{i=1}^{n} w_ie_i^2=\\displaystyle\\sum_{i=1}^{n} w_i(y_i-\\mu_i)^2=\\displaystyle\\sum_{i=1}^{n} w_i(y_i-\\beta_0-\\beta_1x_i)^2$</center>"
   ]
  },
  {
   "cell_type": "markdown",
   "id": "133f712c",
   "metadata": {},
   "source": [
    "Công thức sử dụng trọng số $w_i$ vì giá trị trung bình của các **nhóm quan sát** có độ chính xác cao hơn giá trị của các quan sát **đơn lẻ** <br>\n",
    "Xem xét các ví dụ:"
   ]
  },
  {
   "cell_type": "code",
   "execution_count": 201,
   "id": "da24e5c3",
   "metadata": {},
   "outputs": [
    {
     "data": {
      "text/html": [
       "186.110613"
      ],
      "text/latex": [
       "186.110613"
      ],
      "text/markdown": [
       "186.110613"
      ],
      "text/plain": [
       "[1] 186.1106"
      ]
     },
     "metadata": {},
     "output_type": "display_data"
    }
   ],
   "source": [
    "y <- gestation$Weight\n",
    "x <- gestation$Age\n",
    "wts <- gestation$Births\n",
    "beta0.A <- -0.9; beta1.A <- 0.1\n",
    "mu.A <- beta0.A + beta1.A*x\n",
    "SA <- sum(wts*(y-mu.A)^2); SA"
   ]
  },
  {
   "cell_type": "code",
   "execution_count": 202,
   "id": "7f2efc78",
   "metadata": {},
   "outputs": [
    {
     "data": {
      "text/html": [
       "343.443313000001"
      ],
      "text/latex": [
       "343.443313000001"
      ],
      "text/markdown": [
       "343.443313000001"
      ],
      "text/plain": [
       "[1] 343.4433"
      ]
     },
     "metadata": {},
     "output_type": "display_data"
    }
   ],
   "source": [
    "beta0.B <- -3; beta1.B <- 0.150\n",
    "mu.B <- beta0.B + beta1.B*x\n",
    "SB <- sum(wts*(y-mu.B)^2); SB"
   ]
  },
  {
   "cell_type": "code",
   "execution_count": 203,
   "id": "506015bf",
   "metadata": {},
   "outputs": [
    {
     "data": {
      "text/html": [
       "11.42574728"
      ],
      "text/latex": [
       "11.42574728"
      ],
      "text/markdown": [
       "11.42574728"
      ],
      "text/plain": [
       "[1] 11.42575"
      ]
     },
     "metadata": {},
     "output_type": "display_data"
    }
   ],
   "source": [
    "beta0.C <- -2.678; beta1.C <- 0.1538\n",
    "mu.C <- beta0.C + beta1.C*x\n",
    "SC <- sum(wts*(y-mu.C)^2); SC"
   ]
  },
  {
   "attachments": {
    "image.png": {
     "image/png": "[encoded data removed]"
    }
   },
   "cell_type": "markdown",
   "id": "608885ff",
   "metadata": {},
   "source": [
    "![image.png](attachment:image.png)"
   ]
  },
  {
   "cell_type": "markdown",
   "id": "b8504c6e",
   "metadata": {},
   "source": [
    "### Ước lượng các hệ số\n",
    "Sử dụng đạo hàm để xác định giá trị nhỏ nhất của $S(\\beta_0,\\beta_1)$. Đạo hàm theo từng biến $\\beta_0, \\beta_1$ <br>\n",
    "<center>$\\cfrac{\\partial(\\beta_0,\\beta_1)}{\\partial\\beta_0}=2\\displaystyle\\sum_{i=1}^{n} w_i(y_i-\\mu_i)$</center>\n",
    "<center>$\\cfrac{\\partial(\\beta_0,\\beta_1)}{\\partial\\beta_1}=2\\displaystyle\\sum_{i=1}^{n} w_ix_i(y_i-\\mu_i)$</center>\n",
    "Khi đạo hàm bằng 0, ta có <br>\n",
    "<center>$\\stackrel\\frown{\\beta}_0=\\bar{y}_w-\\stackrel\\frown{\\beta}_1\\bar{x}_w$ <br> <br>\n",
    "$\\stackrel\\frown{\\beta}_1=\\cfrac{SS_{xy}}{SS_x}=\\cfrac{\\sum_{i=1}^{n} w_i(x_i-\\bar{x}_w)y_i}{\\sum_{i=1}^{n} w_i(x_i-\\bar{x}_w)^2}$</center>\n",
    "trong đó $\\bar{x}_w,\\bar{y}_w$ là trung bình có trọng số <br>\n",
    "<center>$\\bar{x}_w=\\cfrac{\\sum_{i=1}^{n} w_ix_i}{\\sum_{i=1}^{n} w_i} \\quad và \\quad \\bar{y}_w=\\cfrac{\\sum_{i=1}^{n} w_iy_i}{\\sum_{i=1}^{n} w_i}$</center>\n",
    "$\\stackrel\\frown{\\beta}_0, \\stackrel\\frown{\\beta}_1$ lần lượt là ước lượng không chệch của $\\beta_0$ và $\\beta_1$\n",
    "Giá trị cực tiểu của $S(\\beta_0,\\beta_1)$ đạt được khi $\\beta_0=\\stackrel\\frown{\\beta}_0$ và $\\beta_1=\\stackrel\\frown{\\beta}_1$ được gọi là Tổng bình phương phần dư (Residual sum-of-squares)\n",
    "<center>$RSS=\\displaystyle\\sum_{i=1}^{n} w_i(y_i-\\stackrel\\frown{\\mu}_i)^2=\\displaystyle\\sum_{i=1}^{n} w_i(y_i-\\stackrel\\frown{\\beta}_0-\\stackrel\\frown{\\beta}_ix_i)^2$"
   ]
  },
  {
   "cell_type": "markdown",
   "id": "f4d710d9",
   "metadata": {},
   "source": [
    "Xác định $\\stackrel\\frown{\\beta}_0$ và $\\stackrel\\frown{\\beta}_1$ từng bước theo công thức"
   ]
  },
  {
   "cell_type": "code",
   "execution_count": 204,
   "id": "0e069c9b",
   "metadata": {},
   "outputs": [
    {
     "data": {
      "text/html": [
       "<dl class=dl-horizontal>\n",
       "\t<dt>beta0</dt>\n",
       "\t\t<dd>-2.67838912328659</dd>\n",
       "\t<dt>beta1</dt>\n",
       "\t\t<dd>0.153759369970588</dd>\n",
       "\t<dt>RSS</dt>\n",
       "\t\t<dd>11.419832155703</dd>\n",
       "</dl>\n"
      ],
      "text/latex": [
       "\\begin{description*}\n",
       "\\item[beta0] -2.67838912328659\n",
       "\\item[beta1] 0.153759369970588\n",
       "\\item[RSS] 11.419832155703\n",
       "\\end{description*}\n"
      ],
      "text/markdown": [
       "beta0\n",
       ":   -2.67838912328659beta1\n",
       ":   0.153759369970588RSS\n",
       ":   11.419832155703\n",
       "\n"
      ],
      "text/plain": [
       "     beta0      beta1        RSS \n",
       "-2.6783891  0.1537594 11.4198322 "
      ]
     },
     "metadata": {},
     "output_type": "display_data"
    }
   ],
   "source": [
    "xbar <- weighted.mean(x, w=wts)\n",
    "SSx <- sum(wts*(x-xbar)^2)\n",
    "ybar <- weighted.mean(y, w = wts)\n",
    "SSxy <- sum(wts*(x-xbar)*y)\n",
    "beta1 <- SSxy/SSx; beta0 <- ybar - beta1*xbar\n",
    "mu <- beta0 + beta1*x\n",
    "RSS <- sum(wts*(y-mu)^2)\n",
    "c(beta0=beta0, beta1 = beta1, RSS = RSS)"
   ]
  },
  {
   "cell_type": "markdown",
   "id": "6fec495b",
   "metadata": {},
   "source": [
    "Xác định $\\stackrel\\frown{\\beta}_0$ và $\\stackrel\\frown{\\beta}_1$ trên R"
   ]
  },
  {
   "cell_type": "code",
   "execution_count": 205,
   "id": "53d4dab2",
   "metadata": {},
   "outputs": [
    {
     "data": {
      "text/plain": [
       "\n",
       "Call:\n",
       "lm(formula = Weight ~ Age, data = gestation, weights = Births)\n",
       "\n",
       "Coefficients:\n",
       "(Intercept)          Age  \n",
       "    -2.6784       0.1538  \n"
      ]
     },
     "metadata": {},
     "output_type": "display_data"
    }
   ],
   "source": [
    "lm(Weight ~ Age, weights = Births, data = gestation)"
   ]
  },
  {
   "cell_type": "markdown",
   "id": "aaabeac5",
   "metadata": {},
   "source": [
    "Xác định $RSS$ trên R"
   ]
  },
  {
   "cell_type": "code",
   "execution_count": 206,
   "id": "345d5e6d",
   "metadata": {},
   "outputs": [
    {
     "data": {
      "text/html": [
       "11.4198321557029"
      ],
      "text/latex": [
       "11.4198321557029"
      ],
      "text/markdown": [
       "11.4198321557029"
      ],
      "text/plain": [
       "[1] 11.41983"
      ]
     },
     "metadata": {},
     "output_type": "display_data"
    }
   ],
   "source": [
    "mod <- lm(Weight ~ Age, weights = Births, data = gestation)\n",
    "deviance(mod)"
   ]
  },
  {
   "cell_type": "markdown",
   "id": "40bae5df",
   "metadata": {},
   "source": [
    "### Ước lượng phương sai $\\sigma^2$\n",
    "Theo định nghĩa mô hình hồi quy tuyến tính đơn giản: $\\cfrac{\\sigma^2}{w_i}=var[y_i]=E[(y_i-\\mu_i)^2]$\n",
    "mà $RSS=\\sum_{i=1}^{n} w_i(y_i-\\stackrel\\frown{\\mu}_i)^2$ dẫn tới: <br>\n",
    "<center>$\\stackrel\\frown{\\sigma}^2=\\cfrac{RSS}{n}$</center>\n",
    "Vì $\\stackrel\\frown{\\mu}_i$ chỉ là giá trị ước lượng của $\\mu_i$, bên cạnh đó phương pháp bình phương nhỏ nhất được áp dụng để ước lượng $\\stackrel\\frown{\\mu}_i$ khiến giá trị RSS nhỏ hơn mức vốn có. Ta gọi $\\stackrel\\frown{\\sigma}^2$ là ước lượng chệch của $\\sigma^2$ <br>\n",
    "Ước lượng không chệch của $\\sigma^2$ được tính theo công thức:\n",
    "<center>$s^2=\\cfrac{RSS}{n-2}$</center>\n",
    "Trong đó, $n-2$ được gọi là bậc tự do"
   ]
  },
  {
   "cell_type": "markdown",
   "id": "58b95ef2",
   "metadata": {},
   "source": [
    "**Vì sao lại là $n-2???$**"
   ]
  },
  {
   "cell_type": "markdown",
   "id": "0702bdbc",
   "metadata": {},
   "source": [
    "Xác định $s^2$ từng bước theo công thức"
   ]
  },
  {
   "cell_type": "code",
   "execution_count": 207,
   "id": "9aad8e09",
   "metadata": {},
   "outputs": [
    {
     "data": {
      "text/html": [
       "<dl class=dl-horizontal>\n",
       "\t<dt>df</dt>\n",
       "\t\t<dd>19</dd>\n",
       "\t<dt>s</dt>\n",
       "\t\t<dd>0.77527014496147</dd>\n",
       "\t<dt>s2</dt>\n",
       "\t\t<dd>0.601043797668579</dd>\n",
       "</dl>\n"
      ],
      "text/latex": [
       "\\begin{description*}\n",
       "\\item[df] 19\n",
       "\\item[s] 0.77527014496147\n",
       "\\item[s2] 0.601043797668579\n",
       "\\end{description*}\n"
      ],
      "text/markdown": [
       "df\n",
       ":   19s\n",
       ":   0.77527014496147s2\n",
       ":   0.601043797668579\n",
       "\n"
      ],
      "text/plain": [
       "        df          s         s2 \n",
       "19.0000000  0.7752701  0.6010438 "
      ]
     },
     "metadata": {},
     "output_type": "display_data"
    }
   ],
   "source": [
    "df <- length(y) - 2\n",
    "s2 <- RSS/df\n",
    "c(df=df,s=sqrt(s2),s2=s2)"
   ]
  },
  {
   "cell_type": "markdown",
   "id": "c44abe09",
   "metadata": {},
   "source": [
    "Xác định $s^2$ trên R"
   ]
  },
  {
   "cell_type": "code",
   "execution_count": 208,
   "id": "a59beaca",
   "metadata": {},
   "outputs": [
    {
     "data": {
      "text/plain": [
       "\n",
       "Call:\n",
       "lm(formula = Weight ~ Age, data = gestation, weights = Births)\n",
       "\n",
       "Weighted Residuals:\n",
       "     Min       1Q   Median       3Q      Max \n",
       "-1.62979 -0.60893 -0.30063 -0.08845  1.03880 \n",
       "\n",
       "Coefficients:\n",
       "             Estimate Std. Error t value Pr(>|t|)    \n",
       "(Intercept) -2.678389   0.371172  -7.216 7.49e-07 ***\n",
       "Age          0.153759   0.009493  16.197 1.42e-12 ***\n",
       "---\n",
       "Signif. codes:  0 '***' 0.001 '**' 0.01 '*' 0.05 '.' 0.1 ' ' 1\n",
       "\n",
       "Residual standard error: 0.7753 on 19 degrees of freedom\n",
       "Multiple R-squared:  0.9325,\tAdjusted R-squared:  0.9289 \n",
       "F-statistic: 262.3 on 1 and 19 DF,  p-value: 1.416e-12\n"
      ]
     },
     "metadata": {},
     "output_type": "display_data"
    }
   ],
   "source": [
    "summary(mod)"
   ]
  },
  {
   "cell_type": "markdown",
   "id": "4125e163",
   "metadata": {},
   "source": [
    "### Độ lệch chuẩn của các hệ số\n",
    "Công thức phương sai của các hệ số lần lượt là: <br>\n",
    "<center>$var[\\stackrel\\frown{\\beta}_0]=\\sigma^2\\left(\\cfrac{1}{\\sum w_i}+\\cfrac{\\bar{x}_w^2}{SS_x}\\right) \\quad và \\quad var[\\stackrel\\frown{\\beta}_1]=\\cfrac{\\sigma^2}{SS_x}$</center>\n",
    "Vì $\\sigma^2$ là chưa biết, thay bằng $s^2$ ta có công thức độ lệch chuẩn của các hệ số lần lượt là: <br>\n",
    "<center>$se(\\stackrel\\frown{\\beta}_0)=s\\left(\\cfrac{1}{\\sum w_i}+\\cfrac{\\bar{x}_w^2}{SS_x}\\right)^{1/2} \\quad và \\quad se(\\stackrel\\frown{\\beta}_1)=\\cfrac{s}{\\sqrt{SS_x}}$</center>"
   ]
  },
  {
   "cell_type": "markdown",
   "id": "4f215533",
   "metadata": {},
   "source": [
    "## Hồi quy tuyến tính bội\n",
    "### Ước lượng các hệ số\n",
    "Trường hợp tổng quát có $p$ biến đầu vào và cần ước lượng $p+1$ hệ số <br>\n",
    "Tương tự mô hình hồi quy tuyến tính đơn, bình phương phần dư được xác định bởi: <br>\n",
    "<center>$S=\\displaystyle\\sum_{i=1}^{n} w_i(y_i-\\mu_i)^2$</center>\n",
    "Theo phương pháp bình phương nhỏ nhất, các giá trị $\\beta_j$ tương ứng mà $S$ nhỏ nhất, ký hiệu: $\\stackrel\\frown{\\beta}_0,...,\\stackrel\\frown{\\beta}_p$ được xác định bởi đạo hàm: <br>\n",
    "<center>$\\cfrac{\\partial S}{\\partial\\beta_j}=0 \\quad với \\quad j=0,1,...,p$</center> "
   ]
  },
  {
   "cell_type": "code",
   "execution_count": 209,
   "id": "4c22ea8a",
   "metadata": {},
   "outputs": [
    {
     "data": {
      "image/png": "[encoded data removed]",
      "text/plain": [
       "Plot with title \"FEV\""
      ]
     },
     "metadata": {},
     "output_type": "display_data"
    }
   ],
   "source": [
    "data(lungcap)\n",
    "scatter.smooth(lungcap$Ht, lungcap$FEV, las = 1, col = \"grey\",\n",
    "               ylim = c(0,6),\n",
    "               xlim = c(45,75),\n",
    "               main = \"FEV\",\n",
    "               xlab = \"Height (in inches)\",\n",
    "               ylab = \"FEV (in L)\")"
   ]
  },
  {
   "cell_type": "markdown",
   "id": "9e5b0805",
   "metadata": {},
   "source": [
    "Biểu đồ trên cho thấy mối quan hệ giữa FEV và Ht không phải là tuyến tính, nên mô hình tuyến tính sẽ không phù hợp. Điều chỉnh FEV thành log(FEV), biểu đồ sau cho thấy mối quan hệ giữa log(FEV) và Ht là tuyến tính"
   ]
  },
  {
   "cell_type": "code",
   "execution_count": 210,
   "id": "0e61061e",
   "metadata": {},
   "outputs": [
    {
     "data": {
      "image/png": "[encoded data removed]",
      "text/plain": [
       "Plot with title \"Log of FEV\""
      ]
     },
     "metadata": {},
     "output_type": "display_data"
    }
   ],
   "source": [
    "scatter.smooth(lungcap$Ht, log(lungcap$FEV), las = 1, col = \"grey\",\n",
    "               ylim = c(-0.5,2),\n",
    "               xlim = c(45,75),\n",
    "               main = \"Log of FEV\",\n",
    "               xlab = \"Height (in inches)\",\n",
    "               ylab = \"Log of FEV (in L)\")"
   ]
  },
  {
   "cell_type": "markdown",
   "id": "fe3be6b4",
   "metadata": {},
   "source": [
    "Giả sử sử dụng mô hình sau đây để ước lượng $log(FEV)$ theo các biến $Ht, Age, $ biến giả $gender$, biến giả $smoke$ lần lượt<br>\n",
    "<center>$\\begin{cases}\n",
    "    var[y_i]=\\sigma^2\\\\\n",
    "    \\mu_i=\\beta_0+\\beta_1x_1+\\beta_2x_2+\\beta_3x_3+\\beta_4x_4 \\quad (A)\n",
    "  \\end{cases}$</center>"
   ]
  },
  {
   "cell_type": "markdown",
   "id": "cb5c7c75",
   "metadata": {},
   "source": [
    "### Ước lượng phương sai $\\sigma^2$\n",
    "Tương tự ước lượng phương sai cho mô hình hồi quy đơn, phương sai của mô hình hồi quy bội được xác định bởi công thức <br>\n",
    "<center>$s^2=\\cfrac{RSS}{n-p'}$</center>\n",
    "trong đó $n-p'$ là bậc tự do ($p'$ là  số hệ số cần ước lượng)"
   ]
  },
  {
   "cell_type": "markdown",
   "id": "a111f42e",
   "metadata": {},
   "source": [
    "## Phương pháp ma trận\n",
    "### Giới thiệu về ma trận\n",
    "$p'$ là số tham số cần ước lượng <br>\n",
    "$n$ là số lượng quan sát <br>\n",
    "Biểu diễn y qua ma trận $n\\times1$ <br>\n",
    "Biểu diễn x qua ma trận $n\\times p'$ có dạng $X=[x_0,x_1,...,x_p]$ (trong đó $x_j$ là vecto $n\\times1$ cho giá trị $x_j$ <br>\n",
    "**Mô hình hồi quy tuyến tính có dạng** <br>\n",
    "<center>$\\begin{cases}\n",
    "    var[y]=W^{-1}\\sigma^2\\\\\n",
    "    \\mu=X\\beta\n",
    "  \\end{cases}$</center>\n",
    "$E[y]$ đã biết <br>\n",
    "$W^{-1}$ là ma trận đối xứng kích cỡ $n\\times n$ đã biết. Trường hợp đặc biệt: ma trận $W^{-1}$ có phần tử vị trí $(i,i)=1/w_i$, tất cả các phần tử khác của ma trận bằng 0 (ma trận đường chéo). Trường hợp thường xuyên xảy ra nhất khi trọng số của tất cả các quan sát bằng 1, khi đó $W^{-1}=I_n$ <br>"
   ]
  },
  {
   "attachments": {
    "image.png": {
     "image/png": "[encoded data removed]"
    }
   },
   "cell_type": "markdown",
   "id": "11613357",
   "metadata": {},
   "source": [
    "**Ví dụ**: biểu diễn dữ liệu gestation theo phương pháp ma trận\n",
    "![image.png](attachment:image.png)"
   ]
  },
  {
   "cell_type": "markdown",
   "id": "9f7b06f3",
   "metadata": {},
   "source": [
    "### Ước lượng hệ số\n",
    "Sử dụng phương pháp đạo hàm trên ma trận <br>\n",
    "Xét dữ liệu lungcap"
   ]
  },
  {
   "cell_type": "code",
   "execution_count": 211,
   "id": "ff28ceb3",
   "metadata": {},
   "outputs": [
    {
     "data": {
      "text/html": [
       "<table>\n",
       "<thead><tr><th scope=col>(Intercept)</th><th scope=col>Age</th><th scope=col>Ht</th><th scope=col>factor(Gender)M</th><th scope=col>factor(Smoke)Smoker</th></tr></thead>\n",
       "<tbody>\n",
       "\t<tr><td>1 </td><td>3 </td><td>46</td><td>0 </td><td>0 </td></tr>\n",
       "\t<tr><td>1 </td><td>4 </td><td>48</td><td>0 </td><td>0 </td></tr>\n",
       "\t<tr><td>1 </td><td>4 </td><td>48</td><td>0 </td><td>0 </td></tr>\n",
       "\t<tr><td>1 </td><td>4 </td><td>48</td><td>0 </td><td>0 </td></tr>\n",
       "\t<tr><td>1 </td><td>4 </td><td>49</td><td>0 </td><td>0 </td></tr>\n",
       "\t<tr><td>1 </td><td>4 </td><td>49</td><td>0 </td><td>0 </td></tr>\n",
       "</tbody>\n",
       "</table>\n"
      ],
      "text/latex": [
       "\\begin{tabular}{r|lllll}\n",
       " (Intercept) & Age & Ht & factor(Gender)M & factor(Smoke)Smoker\\\\\n",
       "\\hline\n",
       "\t 1  & 3  & 46 & 0  & 0 \\\\\n",
       "\t 1  & 4  & 48 & 0  & 0 \\\\\n",
       "\t 1  & 4  & 48 & 0  & 0 \\\\\n",
       "\t 1  & 4  & 48 & 0  & 0 \\\\\n",
       "\t 1  & 4  & 49 & 0  & 0 \\\\\n",
       "\t 1  & 4  & 49 & 0  & 0 \\\\\n",
       "\\end{tabular}\n"
      ],
      "text/markdown": [
       "\n",
       "| (Intercept) | Age | Ht | factor(Gender)M | factor(Smoke)Smoker |\n",
       "|---|---|---|---|---|\n",
       "| 1  | 3  | 46 | 0  | 0  |\n",
       "| 1  | 4  | 48 | 0  | 0  |\n",
       "| 1  | 4  | 48 | 0  | 0  |\n",
       "| 1  | 4  | 48 | 0  | 0  |\n",
       "| 1  | 4  | 49 | 0  | 0  |\n",
       "| 1  | 4  | 49 | 0  | 0  |\n",
       "\n"
      ],
      "text/plain": [
       "  (Intercept) Age Ht factor(Gender)M factor(Smoke)Smoker\n",
       "1 1           3   46 0               0                  \n",
       "2 1           4   48 0               0                  \n",
       "3 1           4   48 0               0                  \n",
       "4 1           4   48 0               0                  \n",
       "5 1           4   49 0               0                  \n",
       "6 1           4   49 0               0                  "
      ]
     },
     "metadata": {},
     "output_type": "display_data"
    }
   ],
   "source": [
    "lungcap$Smoke <- factor(lungcap$Smoke, \n",
    "                        levels = c(0,1),\n",
    "                        labels = c(\"Non-smoker\", \"Smoker\"))\n",
    "Xmat <- model.matrix( ~ Age + Ht + factor(Gender) + factor(Smoke), data = lungcap)\n",
    "head(Xmat)"
   ]
  },
  {
   "cell_type": "code",
   "execution_count": 212,
   "id": "574eaf7f",
   "metadata": {},
   "outputs": [
    {
     "data": {
      "text/html": [
       "<dl class=dl-horizontal>\n",
       "\t<dt>(Intercept)</dt>\n",
       "\t\t<dd>-1.94399817699148</dd>\n",
       "\t<dt>Age</dt>\n",
       "\t\t<dd>0.0233872138845209</dd>\n",
       "\t<dt>Ht</dt>\n",
       "\t\t<dd>0.0427957889949572</dd>\n",
       "\t<dt>factor(Gender)M</dt>\n",
       "\t\t<dd>0.0293193583792946</dd>\n",
       "\t<dt>factor(Smoke)Smoker</dt>\n",
       "\t\t<dd>-0.046067535811043</dd>\n",
       "</dl>\n"
      ],
      "text/latex": [
       "\\begin{description*}\n",
       "\\item[(Intercept)] -1.94399817699148\n",
       "\\item[Age] 0.0233872138845209\n",
       "\\item[Ht] 0.0427957889949572\n",
       "\\item[factor(Gender)M] 0.0293193583792946\n",
       "\\item[factor(Smoke)Smoker] -0.046067535811043\n",
       "\\end{description*}\n"
      ],
      "text/markdown": [
       "(Intercept)\n",
       ":   -1.94399817699148Age\n",
       ":   0.0233872138845209Ht\n",
       ":   0.0427957889949572factor(Gender)M\n",
       ":   0.0293193583792946factor(Smoke)Smoker\n",
       ":   -0.046067535811043\n",
       "\n"
      ],
      "text/plain": [
       "        (Intercept)                 Age                  Ht     factor(Gender)M \n",
       "        -1.94399818          0.02338721          0.04279579          0.02931936 \n",
       "factor(Smoke)Smoker \n",
       "        -0.04606754 "
      ]
     },
     "metadata": {},
     "output_type": "display_data"
    }
   ],
   "source": [
    "y <- log(lungcap$FEV)\n",
    "QR <- qr(Xmat)                    # dung phuong phap phan ra QR đe phan ra ma tran X\n",
    "beta <- qr.coef(QR,y); beta       # ham qr.coef() tra ve gia tri uoc luong he so cua ma tran QR va y"
   ]
  },
  {
   "cell_type": "code",
   "execution_count": 215,
   "id": "5f4c6d12",
   "metadata": {},
   "outputs": [
    {
     "data": {
      "text/html": [
       "<table>\n",
       "<tbody>\n",
       "\t<tr><th scope=row>(Intercept)</th><td>-1.94399818</td></tr>\n",
       "\t<tr><th scope=row>Age</th><td> 0.02338721</td></tr>\n",
       "\t<tr><th scope=row>Ht</th><td> 0.04279579</td></tr>\n",
       "\t<tr><th scope=row>factor(Gender)M</th><td> 0.02931936</td></tr>\n",
       "\t<tr><th scope=row>factor(Smoke)Smoker</th><td>-0.04606754</td></tr>\n",
       "</tbody>\n",
       "</table>\n"
      ],
      "text/latex": [
       "\\begin{tabular}{r|l}\n",
       "\t(Intercept) & -1.94399818\\\\\n",
       "\tAge &  0.02338721\\\\\n",
       "\tHt &  0.04279579\\\\\n",
       "\tfactor(Gender)M &  0.02931936\\\\\n",
       "\tfactor(Smoke)Smoker & -0.04606754\\\\\n",
       "\\end{tabular}\n"
      ],
      "text/markdown": [
       "\n",
       "| (Intercept) | -1.94399818 |\n",
       "| Age |  0.02338721 |\n",
       "| Ht |  0.04279579 |\n",
       "| factor(Gender)M |  0.02931936 |\n",
       "| factor(Smoke)Smoker | -0.04606754 |\n",
       "\n"
      ],
      "text/plain": [
       "                    [,1]       \n",
       "(Intercept)         -1.94399818\n",
       "Age                  0.02338721\n",
       "Ht                   0.04279579\n",
       "factor(Gender)M      0.02931936\n",
       "factor(Smoke)Smoker -0.04606754"
      ]
     },
     "metadata": {},
     "output_type": "display_data"
    }
   ],
   "source": [
    "A <- t(Xmat) %*% Xmat \n",
    "b <- t(Xmat) %*% y\n",
    "beta1 = solve(A) %*% b\n",
    "beta1"
   ]
  },
  {
   "cell_type": "markdown",
   "id": "dc4bfcc0",
   "metadata": {},
   "source": [
    "### Ước lượng phương sai $\\sigma^2$\n",
    "Phương sai của mô hình được xác định bởi: <br>\n",
    "<center>$s^2=\\cfrac{RSS}{n-p'}$</center>\n",
    "trong đó $n-p'$ là bậc tự do ($p'$ là  số hệ số cần ước lượng) <br>\n",
    "Xét dữ liệu lungcap"
   ]
  },
  {
   "cell_type": "markdown",
   "id": "c7a699c6",
   "metadata": {},
   "source": [
    "**Xét dữ liệu lungcap**"
   ]
  },
  {
   "cell_type": "code",
   "execution_count": 216,
   "id": "dfbbc99e",
   "metadata": {},
   "outputs": [
    {
     "data": {
      "text/html": [
       "13.7335576304793"
      ],
      "text/latex": [
       "13.7335576304793"
      ],
      "text/markdown": [
       "13.7335576304793"
      ],
      "text/plain": [
       "[1] 13.73356"
      ]
     },
     "metadata": {},
     "output_type": "display_data"
    }
   ],
   "source": [
    "mu <- Xmat %*% beta            # %*% la phep nhan ma tran\n",
    "RSS <- sum((y-mu)^2); RSS      # cong thuc tinh RSS"
   ]
  },
  {
   "cell_type": "code",
   "execution_count": 217,
   "id": "22b19b42",
   "metadata": {},
   "outputs": [
    {
     "data": {
      "text/html": [
       "<dl class=dl-horizontal>\n",
       "\t<dt>s</dt>\n",
       "\t\t<dd>0.144911433620695</dd>\n",
       "\t<dt>s2</dt>\n",
       "\t\t<dd>0.0209993235940051</dd>\n",
       "</dl>\n"
      ],
      "text/latex": [
       "\\begin{description*}\n",
       "\\item[s] 0.144911433620695\n",
       "\\item[s2] 0.0209993235940051\n",
       "\\end{description*}\n"
      ],
      "text/markdown": [
       "s\n",
       ":   0.144911433620695s2\n",
       ":   0.0209993235940051\n",
       "\n"
      ],
      "text/plain": [
       "         s         s2 \n",
       "0.14491143 0.02099932 "
      ]
     },
     "metadata": {},
     "output_type": "display_data"
    }
   ],
   "source": [
    "s2 <- RSS/length((lungcap$FEV) - length(beta))\n",
    "c(s=sqrt(s2), s2=s2)"
   ]
  },
  {
   "cell_type": "markdown",
   "id": "36b13300",
   "metadata": {},
   "source": [
    "## Sử dụng R trong mô hình hồi quy tuyến tính\n",
    "Sử dụng hàm $lm()$ trong R để ước lượng mô hình hồi quy tuyến tính"
   ]
  },
  {
   "cell_type": "markdown",
   "id": "05b1bd4d",
   "metadata": {},
   "source": [
    "**Xét dữ liệu gestation**"
   ]
  },
  {
   "cell_type": "code",
   "execution_count": 218,
   "id": "cfa51f42",
   "metadata": {},
   "outputs": [
    {
     "data": {
      "text/plain": [
       "\n",
       "Call:\n",
       "lm(formula = Weight ~ Age, data = gestation, weights = Births)\n",
       "\n",
       "Weighted Residuals:\n",
       "     Min       1Q   Median       3Q      Max \n",
       "-1.62979 -0.60893 -0.30063 -0.08845  1.03880 \n",
       "\n",
       "Coefficients:\n",
       "             Estimate Std. Error t value Pr(>|t|)    \n",
       "(Intercept) -2.678389   0.371172  -7.216 7.49e-07 ***\n",
       "Age          0.153759   0.009493  16.197 1.42e-12 ***\n",
       "---\n",
       "Signif. codes:  0 '***' 0.001 '**' 0.01 '*' 0.05 '.' 0.1 ' ' 1\n",
       "\n",
       "Residual standard error: 0.7753 on 19 degrees of freedom\n",
       "Multiple R-squared:  0.9325,\tAdjusted R-squared:  0.9289 \n",
       "F-statistic: 262.3 on 1 and 19 DF,  p-value: 1.416e-12\n"
      ]
     },
     "metadata": {},
     "output_type": "display_data"
    }
   ],
   "source": [
    "gest.wtd <- lm(Weight ~ Age, data = gestation,\n",
    "               weights = Births)\n",
    "summary(gest.wtd)"
   ]
  },
  {
   "cell_type": "markdown",
   "id": "d629fdbc",
   "metadata": {},
   "source": [
    "$Weight\\sim Age$: mô hình biểu diễn Weight thông qua Age (Weight là biến đầu ra, Age là biến đầu vào) <br>\n",
    "$data=gestation$: sử dụng bộ dữ liệu gestation <br>\n",
    "$weights=Births$: trọng số sử dụng thông tin cột Births (số em bé sinh ra ở tuần tuổi tương ứng) <br>\n",
    "<br>\n",
    "Nếu không truyền vào tham số $weights$ của hàm $lm()$, mô hình trở thành mô hình hồi quy tuyến tính không trọng số"
   ]
  },
  {
   "cell_type": "code",
   "execution_count": 219,
   "id": "29f14706",
   "metadata": {},
   "outputs": [
    {
     "data": {
      "text/html": [
       "<dl class=dl-horizontal>\n",
       "\t<dt>(Intercept)</dt>\n",
       "\t\t<dd>-3.04987939340852</dd>\n",
       "\t<dt>Age</dt>\n",
       "\t\t<dd>0.159483028577685</dd>\n",
       "</dl>\n"
      ],
      "text/latex": [
       "\\begin{description*}\n",
       "\\item[(Intercept)] -3.04987939340852\n",
       "\\item[Age] 0.159483028577685\n",
       "\\end{description*}\n"
      ],
      "text/markdown": [
       "(Intercept)\n",
       ":   -3.04987939340852Age\n",
       ":   0.159483028577685\n",
       "\n"
      ],
      "text/plain": [
       "(Intercept)         Age \n",
       "  -3.049879    0.159483 "
      ]
     },
     "metadata": {},
     "output_type": "display_data"
    }
   ],
   "source": [
    "gest.ord <- lm(Weight ~ Age, data = gestation); coef(gest.ord)"
   ]
  },
  {
   "cell_type": "code",
   "execution_count": 220,
   "id": "b9e3f8e4",
   "metadata": {},
   "outputs": [
    {
     "data": {
      "image/png": "[encoded data removed]",
      "text/plain": [
       "plot without title"
      ]
     },
     "metadata": {},
     "output_type": "display_data"
    }
   ],
   "source": [
    "plot(Weight ~ Age, data = gestation, type = \"n\",    # type = \"n\": khong ve cac diem tren bieu do\n",
    "     las = 1, xlim = c(20,45), ylim = c(0,4),\n",
    "     xlab = \"Gesstational age (weeks)\",\n",
    "     ylab = \"Mean birthweight (in kg)\")\n",
    "\n",
    "points(Weight[Births<20] ~ Age[Births<20], pch = 1, data = gestation)    # ve diem tren bieu do sao cho Births < 20\n",
    "points(Weight[Births>=20] ~ Age[Births>=20], pch = 19, data = gestation) # ve diem tren bieu do sao cho Births >= 20\n",
    "abline( coef(gest.ord), lty = 2, lwd = 2)           # lty: line type; lwd: line width\n",
    "abline( coef(gest.wtd), lty = 1, lwd = 2)\n",
    "\n",
    "legend(\"topleft\", lwd = c(2,2), bty = \"n\",          # bty = \"n\": no box (khong ve vien legend)\n",
    "       lty = c(2,1,NA,NA), pch = c(NA,NA,1,19),\n",
    "       legend = c(\"Ordinary  regression\", \"Weighted  regression\",\n",
    "                  \"Based  on  20  or  fewer  obs.\", \"Based  on  more  than  20  obs.\"))"
   ]
  },
  {
   "cell_type": "markdown",
   "id": "c436e112",
   "metadata": {},
   "source": [
    "**Xét dữ liệu lungcap**"
   ]
  },
  {
   "cell_type": "code",
   "execution_count": 221,
   "id": "2d0cca68",
   "metadata": {},
   "outputs": [
    {
     "data": {
      "text/html": [
       "<ol class=list-inline>\n",
       "\t<li>'coefficients'</li>\n",
       "\t<li>'residuals'</li>\n",
       "\t<li>'effects'</li>\n",
       "\t<li>'rank'</li>\n",
       "\t<li>'fitted.values'</li>\n",
       "\t<li>'assign'</li>\n",
       "\t<li>'qr'</li>\n",
       "\t<li>'df.residual'</li>\n",
       "\t<li>'contrasts'</li>\n",
       "\t<li>'xlevels'</li>\n",
       "\t<li>'call'</li>\n",
       "\t<li>'terms'</li>\n",
       "\t<li>'model'</li>\n",
       "</ol>\n"
      ],
      "text/latex": [
       "\\begin{enumerate*}\n",
       "\\item 'coefficients'\n",
       "\\item 'residuals'\n",
       "\\item 'effects'\n",
       "\\item 'rank'\n",
       "\\item 'fitted.values'\n",
       "\\item 'assign'\n",
       "\\item 'qr'\n",
       "\\item 'df.residual'\n",
       "\\item 'contrasts'\n",
       "\\item 'xlevels'\n",
       "\\item 'call'\n",
       "\\item 'terms'\n",
       "\\item 'model'\n",
       "\\end{enumerate*}\n"
      ],
      "text/markdown": [
       "1. 'coefficients'\n",
       "2. 'residuals'\n",
       "3. 'effects'\n",
       "4. 'rank'\n",
       "5. 'fitted.values'\n",
       "6. 'assign'\n",
       "7. 'qr'\n",
       "8. 'df.residual'\n",
       "9. 'contrasts'\n",
       "10. 'xlevels'\n",
       "11. 'call'\n",
       "12. 'terms'\n",
       "13. 'model'\n",
       "\n",
       "\n"
      ],
      "text/plain": [
       " [1] \"coefficients\"  \"residuals\"     \"effects\"       \"rank\"         \n",
       " [5] \"fitted.values\" \"assign\"        \"qr\"            \"df.residual\"  \n",
       " [9] \"contrasts\"     \"xlevels\"       \"call\"          \"terms\"        \n",
       "[13] \"model\"        "
      ]
     },
     "metadata": {},
     "output_type": "display_data"
    }
   ],
   "source": [
    "LC.m1 <- lm(log(lungcap$FEV) ~ Age + Ht + Gender + Smoke, data = lungcap)\n",
    "names(LC.m1)"
   ]
  },
  {
   "cell_type": "markdown",
   "id": "995c87f2",
   "metadata": {},
   "source": [
    "Ta có thể truy cập các giá trị ước lượng của mô hình bằng cách gọi tên 1 cột"
   ]
  },
  {
   "cell_type": "code",
   "execution_count": 222,
   "id": "2bc963d6",
   "metadata": {},
   "outputs": [
    {
     "data": {
      "text/html": [
       "<dl class=dl-horizontal>\n",
       "\t<dt>(Intercept)</dt>\n",
       "\t\t<dd>-1.94399817699148</dd>\n",
       "\t<dt>Age</dt>\n",
       "\t\t<dd>0.0233872138845209</dd>\n",
       "\t<dt>Ht</dt>\n",
       "\t\t<dd>0.0427957889949572</dd>\n",
       "\t<dt>GenderM</dt>\n",
       "\t\t<dd>0.0293193583792946</dd>\n",
       "\t<dt>SmokeSmoker</dt>\n",
       "\t\t<dd>-0.046067535811043</dd>\n",
       "</dl>\n"
      ],
      "text/latex": [
       "\\begin{description*}\n",
       "\\item[(Intercept)] -1.94399817699148\n",
       "\\item[Age] 0.0233872138845209\n",
       "\\item[Ht] 0.0427957889949572\n",
       "\\item[GenderM] 0.0293193583792946\n",
       "\\item[SmokeSmoker] -0.046067535811043\n",
       "\\end{description*}\n"
      ],
      "text/markdown": [
       "(Intercept)\n",
       ":   -1.94399817699148Age\n",
       ":   0.0233872138845209Ht\n",
       ":   0.0427957889949572GenderM\n",
       ":   0.0293193583792946SmokeSmoker\n",
       ":   -0.046067535811043\n",
       "\n"
      ],
      "text/plain": [
       "(Intercept)         Age          Ht     GenderM SmokeSmoker \n",
       "-1.94399818  0.02338721  0.04279579  0.02931936 -0.04606754 "
      ]
     },
     "metadata": {},
     "output_type": "display_data"
    }
   ],
   "source": [
    "LC.m1$coefficients"
   ]
  },
  {
   "cell_type": "code",
   "execution_count": 223,
   "id": "196fa472",
   "metadata": {},
   "outputs": [
    {
     "data": {
      "text/html": [
       "<dl class=dl-horizontal>\n",
       "\t<dt>1</dt>\n",
       "\t\t<dd>-0.0252436957815138</dd>\n",
       "\t<dt>2</dt>\n",
       "\t\t<dd>-0.379293122819483</dd>\n",
       "\t<dt>3</dt>\n",
       "\t\t<dd>-0.106621839573829</dd>\n",
       "\t<dt>4</dt>\n",
       "\t\t<dd>0.124835513467653</dd>\n",
       "\t<dt>5</dt>\n",
       "\t\t<dd>0.208979968681391</dd>\n",
       "\t<dt>6</dt>\n",
       "\t\t<dd>0.102703088810425</dd>\n",
       "\t<dt>7</dt>\n",
       "\t\t<dd>0.161098345456428</dd>\n",
       "\t<dt>8</dt>\n",
       "\t\t<dd>0.0160405748318016</dd>\n",
       "\t<dt>9</dt>\n",
       "\t\t<dd>0.0665406834371815</dd>\n",
       "\t<dt>10</dt>\n",
       "\t\t<dd>-0.0215101946855529</dd>\n",
       "\t<dt>11</dt>\n",
       "\t\t<dd>-0.017821424637888</dd>\n",
       "\t<dt>12</dt>\n",
       "\t\t<dd>-0.176449723886441</dd>\n",
       "\t<dt>13</dt>\n",
       "\t\t<dd>-0.224716464856275</dd>\n",
       "\t<dt>14</dt>\n",
       "\t\t<dd>0.118405512677754</dd>\n",
       "\t<dt>15</dt>\n",
       "\t\t<dd>0.177455297233178</dd>\n",
       "\t<dt>16</dt>\n",
       "\t\t<dd>0.107581756380633</dd>\n",
       "\t<dt>17</dt>\n",
       "\t\t<dd>0.0791567239155337</dd>\n",
       "\t<dt>18</dt>\n",
       "\t\t<dd>0.0308627145565775</dd>\n",
       "\t<dt>19</dt>\n",
       "\t\t<dd>-0.632776231383386</dd>\n",
       "\t<dt>20</dt>\n",
       "\t\t<dd>-0.191784746620375</dd>\n",
       "\t<dt>21</dt>\n",
       "\t\t<dd>-0.0443660763977902</dd>\n",
       "\t<dt>22</dt>\n",
       "\t\t<dd>0.0138071902271952</dd>\n",
       "\t<dt>23</dt>\n",
       "\t\t<dd>0.0417717288545581</dd>\n",
       "\t<dt>24</dt>\n",
       "\t\t<dd>-0.109132277849908</dd>\n",
       "\t<dt>25</dt>\n",
       "\t\t<dd>-0.126800216512323</dd>\n",
       "\t<dt>26</dt>\n",
       "\t\t<dd>0.00675092559778655</dd>\n",
       "\t<dt>27</dt>\n",
       "\t\t<dd>0.16570545773769</dd>\n",
       "\t<dt>28</dt>\n",
       "\t\t<dd>0.0772408033523313</dd>\n",
       "\t<dt>29</dt>\n",
       "\t\t<dd>0.0631808177840327</dd>\n",
       "\t<dt>30</dt>\n",
       "\t\t<dd>0.0067228026191717</dd>\n",
       "\t<dt>31</dt>\n",
       "\t\t<dd>-0.021231514786206</dd>\n",
       "\t<dt>32</dt>\n",
       "\t\t<dd>0.0354684688417125</dd>\n",
       "\t<dt>33</dt>\n",
       "\t\t<dd>-0.121563119999135</dd>\n",
       "\t<dt>34</dt>\n",
       "\t\t<dd>0.171397876918985</dd>\n",
       "\t<dt>35</dt>\n",
       "\t\t<dd>-0.245759758938052</dd>\n",
       "\t<dt>36</dt>\n",
       "\t\t<dd>-0.0266766509976041</dd>\n",
       "\t<dt>37</dt>\n",
       "\t\t<dd>0.0695793146844284</dd>\n",
       "\t<dt>38</dt>\n",
       "\t\t<dd>0.0519174145697801</dd>\n",
       "\t<dt>39</dt>\n",
       "\t\t<dd>-0.07919010495493</dd>\n",
       "\t<dt>40</dt>\n",
       "\t\t<dd>0.163183515168948</dd>\n",
       "\t<dt>41</dt>\n",
       "\t\t<dd>0.193616084046322</dd>\n",
       "\t<dt>42</dt>\n",
       "\t\t<dd>0.0579174557283343</dd>\n",
       "\t<dt>43</dt>\n",
       "\t\t<dd>-0.162157500335179</dd>\n",
       "\t<dt>44</dt>\n",
       "\t\t<dd>0.0730844434808696</dd>\n",
       "\t<dt>45</dt>\n",
       "\t\t<dd>-0.151563793159297</dd>\n",
       "\t<dt>46</dt>\n",
       "\t\t<dd>-0.00595639699287694</dd>\n",
       "\t<dt>47</dt>\n",
       "\t\t<dd>-0.00975852959997596</dd>\n",
       "\t<dt>48</dt>\n",
       "\t\t<dd>-0.0226317325361822</dd>\n",
       "\t<dt>49</dt>\n",
       "\t\t<dd>0.050592456970532</dd>\n",
       "\t<dt>50</dt>\n",
       "\t\t<dd>-0.0138649269873936</dd>\n",
       "\t<dt>51</dt>\n",
       "\t\t<dd>-0.258669975082783</dd>\n",
       "\t<dt>52</dt>\n",
       "\t\t<dd>-0.0787844730867093</dd>\n",
       "\t<dt>53</dt>\n",
       "\t\t<dd>-0.105685285781418</dd>\n",
       "\t<dt>54</dt>\n",
       "\t\t<dd>0.268433197662974</dd>\n",
       "\t<dt>55</dt>\n",
       "\t\t<dd>-0.0907097280333881</dd>\n",
       "\t<dt>56</dt>\n",
       "\t\t<dd>0.088089475953453</dd>\n",
       "\t<dt>57</dt>\n",
       "\t\t<dd>0.0804812604613704</dd>\n",
       "\t<dt>58</dt>\n",
       "\t\t<dd>-0.256946086070081</dd>\n",
       "\t<dt>59</dt>\n",
       "\t\t<dd>0.0581282560536534</dd>\n",
       "\t<dt>60</dt>\n",
       "\t\t<dd>0.0136764934828195</dd>\n",
       "\t<dt>61</dt>\n",
       "\t\t<dd>-0.0511066178441804</dd>\n",
       "\t<dt>62</dt>\n",
       "\t\t<dd>0.159332683648507</dd>\n",
       "\t<dt>63</dt>\n",
       "\t\t<dd>0.239700457150736</dd>\n",
       "\t<dt>64</dt>\n",
       "\t\t<dd>-0.168232097974855</dd>\n",
       "\t<dt>65</dt>\n",
       "\t\t<dd>0.0958945717302879</dd>\n",
       "\t<dt>66</dt>\n",
       "\t\t<dd>-0.212289156462055</dd>\n",
       "\t<dt>67</dt>\n",
       "\t\t<dd>0.0956962374405197</dd>\n",
       "\t<dt>68</dt>\n",
       "\t\t<dd>-0.194228214218986</dd>\n",
       "\t<dt>69</dt>\n",
       "\t\t<dd>-0.0978430730600815</dd>\n",
       "\t<dt>70</dt>\n",
       "\t\t<dd>-0.0340542342443726</dd>\n",
       "\t<dt>71</dt>\n",
       "\t\t<dd>-0.37213032044756</dd>\n",
       "\t<dt>72</dt>\n",
       "\t\t<dd>-0.0491244871653708</dd>\n",
       "\t<dt>73</dt>\n",
       "\t\t<dd>0.0315854432184901</dd>\n",
       "\t<dt>74</dt>\n",
       "\t\t<dd>-0.0244215033508742</dd>\n",
       "\t<dt>75</dt>\n",
       "\t\t<dd>0.164695486242041</dd>\n",
       "\t<dt>76</dt>\n",
       "\t\t<dd>-0.174406313405575</dd>\n",
       "\t<dt>77</dt>\n",
       "\t\t<dd>-0.0032382058960838</dd>\n",
       "\t<dt>78</dt>\n",
       "\t\t<dd>0.203359185770778</dd>\n",
       "\t<dt>79</dt>\n",
       "\t\t<dd>0.104605708083559</dd>\n",
       "\t<dt>80</dt>\n",
       "\t\t<dd>-0.0558886438976669</dd>\n",
       "\t<dt>81</dt>\n",
       "\t\t<dd>-0.0600272267200075</dd>\n",
       "\t<dt>82</dt>\n",
       "\t\t<dd>0.0386172791460638</dd>\n",
       "\t<dt>83</dt>\n",
       "\t\t<dd>-0.170039825985694</dd>\n",
       "\t<dt>84</dt>\n",
       "\t\t<dd>-0.304534764533487</dd>\n",
       "\t<dt>85</dt>\n",
       "\t\t<dd>0.00897757975348137</dd>\n",
       "\t<dt>86</dt>\n",
       "\t\t<dd>-0.239189098535077</dd>\n",
       "\t<dt>87</dt>\n",
       "\t\t<dd>-0.00958443810657813</dd>\n",
       "\t<dt>88</dt>\n",
       "\t\t<dd>0.0799608063336947</dd>\n",
       "\t<dt>89</dt>\n",
       "\t\t<dd>0.180951078236542</dd>\n",
       "\t<dt>90</dt>\n",
       "\t\t<dd>-0.0263094269046643</dd>\n",
       "\t<dt>91</dt>\n",
       "\t\t<dd>0.28107642673519</dd>\n",
       "\t<dt>92</dt>\n",
       "\t\t<dd>0.172354563374659</dd>\n",
       "\t<dt>93</dt>\n",
       "\t\t<dd>0.0978148309275408</dd>\n",
       "\t<dt>94</dt>\n",
       "\t\t<dd>-0.0155944702850242</dd>\n",
       "\t<dt>95</dt>\n",
       "\t\t<dd>0.0596093217482324</dd>\n",
       "\t<dt>96</dt>\n",
       "\t\t<dd>-0.0837814750187172</dd>\n",
       "\t<dt>97</dt>\n",
       "\t\t<dd>0.0341626560870681</dd>\n",
       "\t<dt>98</dt>\n",
       "\t\t<dd>0.018333420229172</dd>\n",
       "\t<dt>99</dt>\n",
       "\t\t<dd>-0.00520259781109981</dd>\n",
       "\t<dt>100</dt>\n",
       "\t\t<dd>0.0457053483667627</dd>\n",
       "\t<dt>101</dt>\n",
       "\t\t<dd>0.00417113933809884</dd>\n",
       "\t<dt>102</dt>\n",
       "\t\t<dd>-0.0473624837570076</dd>\n",
       "\t<dt>103</dt>\n",
       "\t\t<dd>-0.0925098155799283</dd>\n",
       "\t<dt>104</dt>\n",
       "\t\t<dd>-0.0284979808389291</dd>\n",
       "\t<dt>105</dt>\n",
       "\t\t<dd>0.0787432168334418</dd>\n",
       "\t<dt>106</dt>\n",
       "\t\t<dd>-0.176560997558439</dd>\n",
       "\t<dt>107</dt>\n",
       "\t\t<dd>0.157041988103567</dd>\n",
       "\t<dt>108</dt>\n",
       "\t\t<dd>-0.0325898859446452</dd>\n",
       "\t<dt>109</dt>\n",
       "\t\t<dd>-0.00182597214414418</dd>\n",
       "\t<dt>110</dt>\n",
       "\t\t<dd>-0.168347247810819</dd>\n",
       "\t<dt>111</dt>\n",
       "\t\t<dd>-0.587168119002801</dd>\n",
       "\t<dt>112</dt>\n",
       "\t\t<dd>0.0712967706667884</dd>\n",
       "\t<dt>113</dt>\n",
       "\t\t<dd>-0.0285927474755496</dd>\n",
       "\t<dt>114</dt>\n",
       "\t\t<dd>-0.0181590997942312</dd>\n",
       "\t<dt>115</dt>\n",
       "\t\t<dd>-0.170523625315394</dd>\n",
       "\t<dt>116</dt>\n",
       "\t\t<dd>0.0245962446218698</dd>\n",
       "\t<dt>117</dt>\n",
       "\t\t<dd>0.135720464996446</dd>\n",
       "\t<dt>118</dt>\n",
       "\t\t<dd>-0.241483971326123</dd>\n",
       "\t<dt>119</dt>\n",
       "\t\t<dd>-0.253497999654681</dd>\n",
       "\t<dt>120</dt>\n",
       "\t\t<dd>0.0456375333995478</dd>\n",
       "\t<dt>121</dt>\n",
       "\t\t<dd>-0.0895693094505358</dd>\n",
       "\t<dt>122</dt>\n",
       "\t\t<dd>0.0448818333116579</dd>\n",
       "\t<dt>123</dt>\n",
       "\t\t<dd>-0.0323979837277116</dd>\n",
       "\t<dt>124</dt>\n",
       "\t\t<dd>-0.0353163189503532</dd>\n",
       "\t<dt>125</dt>\n",
       "\t\t<dd>0.136385669016141</dd>\n",
       "\t<dt>126</dt>\n",
       "\t\t<dd>-0.113912499014698</dd>\n",
       "\t<dt>127</dt>\n",
       "\t\t<dd>-0.143288484042477</dd>\n",
       "\t<dt>128</dt>\n",
       "\t\t<dd>0.0270053665415832</dd>\n",
       "\t<dt>129</dt>\n",
       "\t\t<dd>-0.0325943057582864</dd>\n",
       "\t<dt>130</dt>\n",
       "\t\t<dd>0.175961229491738</dd>\n",
       "\t<dt>131</dt>\n",
       "\t\t<dd>-0.170515717797511</dd>\n",
       "\t<dt>132</dt>\n",
       "\t\t<dd>-0.0922967429372667</dd>\n",
       "\t<dt>133</dt>\n",
       "\t\t<dd>0.30839508641824</dd>\n",
       "\t<dt>134</dt>\n",
       "\t\t<dd>0.213435722263891</dd>\n",
       "\t<dt>135</dt>\n",
       "\t\t<dd>0.0638926735798399</dd>\n",
       "\t<dt>136</dt>\n",
       "\t\t<dd>0.0843752763273485</dd>\n",
       "\t<dt>137</dt>\n",
       "\t\t<dd>0.0898291270098122</dd>\n",
       "\t<dt>138</dt>\n",
       "\t\t<dd>0.0967977963259056</dd>\n",
       "\t<dt>139</dt>\n",
       "\t\t<dd>0.0243502424767996</dd>\n",
       "\t<dt>140</dt>\n",
       "\t\t<dd>0.130119643060743</dd>\n",
       "\t<dt>141</dt>\n",
       "\t\t<dd>0.20980476088602</dd>\n",
       "\t<dt>142</dt>\n",
       "\t\t<dd>-0.0056103954705668</dd>\n",
       "\t<dt>143</dt>\n",
       "\t\t<dd>-0.336528877209089</dd>\n",
       "\t<dt>144</dt>\n",
       "\t\t<dd>0.0475383364015972</dd>\n",
       "\t<dt>145</dt>\n",
       "\t\t<dd>0.162707889991673</dd>\n",
       "\t<dt>146</dt>\n",
       "\t\t<dd>-0.241859107058597</dd>\n",
       "\t<dt>147</dt>\n",
       "\t\t<dd>0.0077786028696713</dd>\n",
       "\t<dt>148</dt>\n",
       "\t\t<dd>0.0846975396290435</dd>\n",
       "\t<dt>149</dt>\n",
       "\t\t<dd>0.0945274902554155</dd>\n",
       "\t<dt>150</dt>\n",
       "\t\t<dd>-0.0951445840978808</dd>\n",
       "\t<dt>151</dt>\n",
       "\t\t<dd>-0.0943400788252052</dd>\n",
       "\t<dt>152</dt>\n",
       "\t\t<dd>-0.30995143096669</dd>\n",
       "\t<dt>153</dt>\n",
       "\t\t<dd>0.0463912346291409</dd>\n",
       "\t<dt>154</dt>\n",
       "\t\t<dd>0.122099570191871</dd>\n",
       "\t<dt>155</dt>\n",
       "\t\t<dd>0.0215063722007137</dd>\n",
       "\t<dt>156</dt>\n",
       "\t\t<dd>-0.128750438869767</dd>\n",
       "\t<dt>157</dt>\n",
       "\t\t<dd>-0.352168300979827</dd>\n",
       "\t<dt>158</dt>\n",
       "\t\t<dd>0.0389004926550782</dd>\n",
       "\t<dt>159</dt>\n",
       "\t\t<dd>0.00499894097939677</dd>\n",
       "\t<dt>160</dt>\n",
       "\t\t<dd>0.0389004926550782</dd>\n",
       "\t<dt>161</dt>\n",
       "\t\t<dd>0.0429882895589715</dd>\n",
       "\t<dt>162</dt>\n",
       "\t\t<dd>0.30544837107487</dd>\n",
       "\t<dt>163</dt>\n",
       "\t\t<dd>0.194597947547234</dd>\n",
       "\t<dt>164</dt>\n",
       "\t\t<dd>0.0602681516866872</dd>\n",
       "\t<dt>165</dt>\n",
       "\t\t<dd>0.257520289068155</dd>\n",
       "\t<dt>166</dt>\n",
       "\t\t<dd>0.0452397054746883</dd>\n",
       "\t<dt>167</dt>\n",
       "\t\t<dd>-0.0220539302593034</dd>\n",
       "\t<dt>168</dt>\n",
       "\t\t<dd>0.0711191155540114</dd>\n",
       "\t<dt>169</dt>\n",
       "\t\t<dd>0.161185372488087</dd>\n",
       "\t<dt>170</dt>\n",
       "\t\t<dd>-0.0731761755054782</dd>\n",
       "\t<dt>171</dt>\n",
       "\t\t<dd>0.151103590588137</dd>\n",
       "\t<dt>172</dt>\n",
       "\t\t<dd>0.23065397641522</dd>\n",
       "\t<dt>173</dt>\n",
       "\t\t<dd>0.112436544464119</dd>\n",
       "\t<dt>174</dt>\n",
       "\t\t<dd>0.0455845431198239</dd>\n",
       "\t<dt>175</dt>\n",
       "\t\t<dd>0.18366287439989</dd>\n",
       "\t<dt>176</dt>\n",
       "\t\t<dd>0.0570909102018144</dd>\n",
       "\t<dt>177</dt>\n",
       "\t\t<dd>-0.146628541089619</dd>\n",
       "\t<dt>178</dt>\n",
       "\t\t<dd>-0.0642791772058005</dd>\n",
       "\t<dt>179</dt>\n",
       "\t\t<dd>-0.0670009148716904</dd>\n",
       "\t<dt>180</dt>\n",
       "\t\t<dd>0.123836226777699</dd>\n",
       "\t<dt>181</dt>\n",
       "\t\t<dd>-0.181653489991398</dd>\n",
       "\t<dt>182</dt>\n",
       "\t\t<dd>0.0214874968009704</dd>\n",
       "\t<dt>183</dt>\n",
       "\t\t<dd>0.0648260072765261</dd>\n",
       "\t<dt>184</dt>\n",
       "\t\t<dd>0.00825824762743952</dd>\n",
       "\t<dt>185</dt>\n",
       "\t\t<dd>-0.167278952771097</dd>\n",
       "\t<dt>186</dt>\n",
       "\t\t<dd>-0.0206897698934033</dd>\n",
       "\t<dt>187</dt>\n",
       "\t\t<dd>0.0144990237905551</dd>\n",
       "\t<dt>188</dt>\n",
       "\t\t<dd>0.00249201847683133</dd>\n",
       "\t<dt>189</dt>\n",
       "\t\t<dd>0.0744715098393147</dd>\n",
       "\t<dt>190</dt>\n",
       "\t\t<dd>0.134946539551415</dd>\n",
       "\t<dt>191</dt>\n",
       "\t\t<dd>0.0183394957081573</dd>\n",
       "\t<dt>192</dt>\n",
       "\t\t<dd>0.150510919472816</dd>\n",
       "\t<dt>193</dt>\n",
       "\t\t<dd>-0.141600580899404</dd>\n",
       "\t<dt>194</dt>\n",
       "\t\t<dd>-0.0642955866554724</dd>\n",
       "\t<dt>195</dt>\n",
       "\t\t<dd>-0.0755838752523972</dd>\n",
       "\t<dt>196</dt>\n",
       "\t\t<dd>0.160716664922426</dd>\n",
       "\t<dt>197</dt>\n",
       "\t\t<dd>0.043967178358606</dd>\n",
       "\t<dt>198</dt>\n",
       "\t\t<dd>0.00152378708857207</dd>\n",
       "\t<dt>199</dt>\n",
       "\t\t<dd>-0.033648920658338</dd>\n",
       "\t<dt>200</dt>\n",
       "\t\t<dd>-0.110484084587515</dd>\n",
       "\t<dt>201</dt>\n",
       "\t\t<dd>0.123307754612363</dd>\n",
       "\t<dt>202</dt>\n",
       "\t\t<dd>-0.0499094415301183</dd>\n",
       "\t<dt>203</dt>\n",
       "\t\t<dd>0.0708457600050221</dd>\n",
       "\t<dt>204</dt>\n",
       "\t\t<dd>0.0181334479508655</dd>\n",
       "\t<dt>205</dt>\n",
       "\t\t<dd>0.0512180907883744</dd>\n",
       "\t<dt>206</dt>\n",
       "\t\t<dd>-0.0472097844485364</dd>\n",
       "\t<dt>207</dt>\n",
       "\t\t<dd>-0.0291918248027496</dd>\n",
       "\t<dt>208</dt>\n",
       "\t\t<dd>0.144651113135653</dd>\n",
       "\t<dt>209</dt>\n",
       "\t\t<dd>-0.0623819779035618</dd>\n",
       "\t<dt>210</dt>\n",
       "\t\t<dd>-0.27654733500906</dd>\n",
       "\t<dt>211</dt>\n",
       "\t\t<dd>0.171717627759296</dd>\n",
       "\t<dt>212</dt>\n",
       "\t\t<dd>-0.0682174350386233</dd>\n",
       "\t<dt>213</dt>\n",
       "\t\t<dd>0.196211726518473</dd>\n",
       "\t<dt>214</dt>\n",
       "\t\t<dd>0.0500805780840823</dd>\n",
       "\t<dt>215</dt>\n",
       "\t\t<dd>0.204847853847114</dd>\n",
       "\t<dt>216</dt>\n",
       "\t\t<dd>0.0967230369203076</dd>\n",
       "\t<dt>217</dt>\n",
       "\t\t<dd>0.200834997545343</dd>\n",
       "\t<dt>218</dt>\n",
       "\t\t<dd>-0.137170981707818</dd>\n",
       "\t<dt>219</dt>\n",
       "\t\t<dd>-0.103330954601487</dd>\n",
       "\t<dt>220</dt>\n",
       "\t\t<dd>0.0365547497908162</dd>\n",
       "\t<dt>221</dt>\n",
       "\t\t<dd>0.0693226978139496</dd>\n",
       "\t<dt>222</dt>\n",
       "\t\t<dd>0.147556408545972</dd>\n",
       "\t<dt>223</dt>\n",
       "\t\t<dd>-0.0957272171005438</dd>\n",
       "\t<dt>224</dt>\n",
       "\t\t<dd>0.0798096270015406</dd>\n",
       "\t<dt>225</dt>\n",
       "\t\t<dd>0.220209139622157</dd>\n",
       "\t<dt>226</dt>\n",
       "\t\t<dd>0.191967483689185</dd>\n",
       "\t<dt>227</dt>\n",
       "\t\t<dd>-0.0646644165938181</dd>\n",
       "\t<dt>228</dt>\n",
       "\t\t<dd>0.222810766439619</dd>\n",
       "\t<dt>229</dt>\n",
       "\t\t<dd>-0.115451495943756</dd>\n",
       "\t<dt>230</dt>\n",
       "\t\t<dd>-0.0515437707948327</dd>\n",
       "\t<dt>231</dt>\n",
       "\t\t<dd>0.0636276154272528</dd>\n",
       "\t<dt>232</dt>\n",
       "\t\t<dd>0.234670088208648</dd>\n",
       "\t<dt>233</dt>\n",
       "\t\t<dd>0.062930022095859</dd>\n",
       "\t<dt>234</dt>\n",
       "\t\t<dd>0.12022411720134</dd>\n",
       "\t<dt>235</dt>\n",
       "\t\t<dd>-0.0539525266022695</dd>\n",
       "\t<dt>236</dt>\n",
       "\t\t<dd>0.0113730065669726</dd>\n",
       "\t<dt>237</dt>\n",
       "\t\t<dd>-0.0208186143626409</dd>\n",
       "\t<dt>238</dt>\n",
       "\t\t<dd>-0.0892663781773318</dd>\n",
       "\t<dt>239</dt>\n",
       "\t\t<dd>-0.0853813694058705</dd>\n",
       "\t<dt>240</dt>\n",
       "\t\t<dd>-0.0418530707314599</dd>\n",
       "\t<dt>241</dt>\n",
       "\t\t<dd>0.0713977460953671</dd>\n",
       "\t<dt>242</dt>\n",
       "\t\t<dd>0.044764575655673</dd>\n",
       "\t<dt>243</dt>\n",
       "\t\t<dd>-0.0146684638159374</dd>\n",
       "\t<dt>244</dt>\n",
       "\t\t<dd>0.156071862175015</dd>\n",
       "\t<dt>245</dt>\n",
       "\t\t<dd>0.0286019571004099</dd>\n",
       "\t<dt>246</dt>\n",
       "\t\t<dd>-0.141349007379794</dd>\n",
       "\t<dt>247</dt>\n",
       "\t\t<dd>0.118404289546977</dd>\n",
       "\t<dt>248</dt>\n",
       "\t\t<dd>0.0664975945821482</dd>\n",
       "\t<dt>249</dt>\n",
       "\t\t<dd>0.0190218123705826</dd>\n",
       "\t<dt>250</dt>\n",
       "\t\t<dd>0.0241534259810328</dd>\n",
       "\t<dt>251</dt>\n",
       "\t\t<dd>0.173962488356825</dd>\n",
       "\t<dt>252</dt>\n",
       "\t\t<dd>-0.0189275610043995</dd>\n",
       "\t<dt>253</dt>\n",
       "\t\t<dd>0.126438289267126</dd>\n",
       "\t<dt>254</dt>\n",
       "\t\t<dd>0.0230076909373334</dd>\n",
       "\t<dt>255</dt>\n",
       "\t\t<dd>0.0609365611146747</dd>\n",
       "\t<dt>256</dt>\n",
       "\t\t<dd>-0.160490532219569</dd>\n",
       "\t<dt>257</dt>\n",
       "\t\t<dd>0.261634548898962</dd>\n",
       "\t<dt>258</dt>\n",
       "\t\t<dd>0.196956255589803</dd>\n",
       "\t<dt>259</dt>\n",
       "\t\t<dd>0.0474835188977132</dd>\n",
       "\t<dt>260</dt>\n",
       "\t\t<dd>-0.269344209212161</dd>\n",
       "\t<dt>261</dt>\n",
       "\t\t<dd>0.0401127765345503</dd>\n",
       "\t<dt>262</dt>\n",
       "\t\t<dd>-0.0257632960114169</dd>\n",
       "\t<dt>263</dt>\n",
       "\t\t<dd>0.0502723618047977</dd>\n",
       "\t<dt>264</dt>\n",
       "\t\t<dd>0.024840727955046</dd>\n",
       "\t<dt>265</dt>\n",
       "\t\t<dd>0.0310627676397063</dd>\n",
       "\t<dt>266</dt>\n",
       "\t\t<dd>-0.0459866333482873</dd>\n",
       "\t<dt>267</dt>\n",
       "\t\t<dd>-0.0461394192320297</dd>\n",
       "\t<dt>268</dt>\n",
       "\t\t<dd>-0.0284369190432894</dd>\n",
       "\t<dt>269</dt>\n",
       "\t\t<dd>-0.490547466741582</dd>\n",
       "\t<dt>270</dt>\n",
       "\t\t<dd>-0.0427268372778429</dd>\n",
       "\t<dt>271</dt>\n",
       "\t\t<dd>-0.176857344960273</dd>\n",
       "\t<dt>272</dt>\n",
       "\t\t<dd>-0.0861475843336143</dd>\n",
       "\t<dt>273</dt>\n",
       "\t\t<dd>-0.162460504132099</dd>\n",
       "\t<dt>274</dt>\n",
       "\t\t<dd>-0.0561726394898774</dd>\n",
       "\t<dt>275</dt>\n",
       "\t\t<dd>-0.0176320155275355</dd>\n",
       "\t<dt>276</dt>\n",
       "\t\t<dd>0.145839591762642</dd>\n",
       "\t<dt>277</dt>\n",
       "\t\t<dd>0.00365205960403104</dd>\n",
       "\t<dt>278</dt>\n",
       "\t\t<dd>-0.111721326206715</dd>\n",
       "\t<dt>279</dt>\n",
       "\t\t<dd>-0.234716181448984</dd>\n",
       "\t<dt>280</dt>\n",
       "\t\t<dd>-0.0201406506780578</dd>\n",
       "\t<dt>281</dt>\n",
       "\t\t<dd>-0.418428212826644</dd>\n",
       "\t<dt>282</dt>\n",
       "\t\t<dd>-0.22907588741431</dd>\n",
       "\t<dt>283</dt>\n",
       "\t\t<dd>0.177405739862905</dd>\n",
       "\t<dt>284</dt>\n",
       "\t\t<dd>0.0445753197484014</dd>\n",
       "\t<dt>285</dt>\n",
       "\t\t<dd>0.407008111939958</dd>\n",
       "\t<dt>286</dt>\n",
       "\t\t<dd>-0.056695459886755</dd>\n",
       "\t<dt>287</dt>\n",
       "\t\t<dd>0.189521155016738</dd>\n",
       "\t<dt>288</dt>\n",
       "\t\t<dd>-0.011900573150636</dd>\n",
       "\t<dt>289</dt>\n",
       "\t\t<dd>0.272677513363554</dd>\n",
       "\t<dt>290</dt>\n",
       "\t\t<dd>0.134830578369632</dd>\n",
       "\t<dt>291</dt>\n",
       "\t\t<dd>-0.0128831235329404</dd>\n",
       "\t<dt>292</dt>\n",
       "\t\t<dd>0.0083886739931994</dd>\n",
       "\t<dt>293</dt>\n",
       "\t\t<dd>0.149066572848492</dd>\n",
       "\t<dt>294</dt>\n",
       "\t\t<dd>0.12785283199283</dd>\n",
       "\t<dt>295</dt>\n",
       "\t\t<dd>0.166983507936484</dd>\n",
       "\t<dt>296</dt>\n",
       "\t\t<dd>0.0147977219394371</dd>\n",
       "\t<dt>297</dt>\n",
       "\t\t<dd>-0.00587198434735755</dd>\n",
       "\t<dt>298</dt>\n",
       "\t\t<dd>0.149339298272591</dd>\n",
       "\t<dt>299</dt>\n",
       "\t\t<dd>0.00873129916238992</dd>\n",
       "\t<dt>300</dt>\n",
       "\t\t<dd>0.0115383185493739</dd>\n",
       "\t<dt>301</dt>\n",
       "\t\t<dd>0.1514144104017</dd>\n",
       "\t<dt>302</dt>\n",
       "\t\t<dd>-0.0498562028634472</dd>\n",
       "\t<dt>303</dt>\n",
       "\t\t<dd>0.0552646438042465</dd>\n",
       "\t<dt>304</dt>\n",
       "\t\t<dd>0.00132320157429648</dd>\n",
       "\t<dt>305</dt>\n",
       "\t\t<dd>0.0594000513119325</dd>\n",
       "\t<dt>306</dt>\n",
       "\t\t<dd>-0.0491183606937016</dd>\n",
       "\t<dt>307</dt>\n",
       "\t\t<dd>0.12970439524258</dd>\n",
       "\t<dt>308</dt>\n",
       "\t\t<dd>-0.202645319721639</dd>\n",
       "\t<dt>309</dt>\n",
       "\t\t<dd>-0.19519926893756</dd>\n",
       "\t<dt>310</dt>\n",
       "\t\t<dd>0.0455917991902277</dd>\n",
       "\t<dt>311</dt>\n",
       "\t\t<dd>0.0314987884887677</dd>\n",
       "\t<dt>312</dt>\n",
       "\t\t<dd>-0.0455860739848217</dd>\n",
       "\t<dt>313</dt>\n",
       "\t\t<dd>-0.00657722773283778</dd>\n",
       "\t<dt>314</dt>\n",
       "\t\t<dd>-0.0786375715051008</dd>\n",
       "\t<dt>315</dt>\n",
       "\t\t<dd>-0.0382520358555263</dd>\n",
       "\t<dt>316</dt>\n",
       "\t\t<dd>0.0603830182078815</dd>\n",
       "\t<dt>317</dt>\n",
       "\t\t<dd>0.100233751965438</dd>\n",
       "\t<dt>318</dt>\n",
       "\t\t<dd>-0.128502300753063</dd>\n",
       "\t<dt>319</dt>\n",
       "\t\t<dd>0.129847045788946</dd>\n",
       "\t<dt>320</dt>\n",
       "\t\t<dd>-0.107712674324789</dd>\n",
       "\t<dt>321</dt>\n",
       "\t\t<dd>0.170510864850495</dd>\n",
       "\t<dt>322</dt>\n",
       "\t\t<dd>-0.248872030403308</dd>\n",
       "\t<dt>323</dt>\n",
       "\t\t<dd>0.14134724047813</dd>\n",
       "\t<dt>324</dt>\n",
       "\t\t<dd>-0.0115964385990933</dd>\n",
       "\t<dt>325</dt>\n",
       "\t\t<dd>0.230575477026268</dd>\n",
       "\t<dt>326</dt>\n",
       "\t\t<dd>0.0436092300429886</dd>\n",
       "\t<dt>327</dt>\n",
       "\t\t<dd>-0.0751120425676674</dd>\n",
       "\t<dt>328</dt>\n",
       "\t\t<dd>-0.0598352407296918</dd>\n",
       "\t<dt>329</dt>\n",
       "\t\t<dd>0.160758063285765</dd>\n",
       "\t<dt>330</dt>\n",
       "\t\t<dd>-0.0828165117513546</dd>\n",
       "\t<dt>331</dt>\n",
       "\t\t<dd>0.194256570648346</dd>\n",
       "\t<dt>332</dt>\n",
       "\t\t<dd>-0.017238103422103</dd>\n",
       "\t<dt>333</dt>\n",
       "\t\t<dd>-0.063939057770486</dd>\n",
       "\t<dt>334</dt>\n",
       "\t\t<dd>0.0702908052323666</dd>\n",
       "\t<dt>335</dt>\n",
       "\t\t<dd>0.290497496873267</dd>\n",
       "\t<dt>336</dt>\n",
       "\t\t<dd>0.11287078438352</dd>\n",
       "\t<dt>337</dt>\n",
       "\t\t<dd>-0.0146685707548565</dd>\n",
       "\t<dt>338</dt>\n",
       "\t\t<dd>-0.18951811271011</dd>\n",
       "\t<dt>339</dt>\n",
       "\t\t<dd>-0.232934441594667</dd>\n",
       "\t<dt>340</dt>\n",
       "\t\t<dd>0.00310168360413809</dd>\n",
       "\t<dt>341</dt>\n",
       "\t\t<dd>0.0663197555972057</dd>\n",
       "\t<dt>342</dt>\n",
       "\t\t<dd>-0.0867054317083181</dd>\n",
       "\t<dt>343</dt>\n",
       "\t\t<dd>0.134812513263728</dd>\n",
       "\t<dt>344</dt>\n",
       "\t\t<dd>0.0232454137527057</dd>\n",
       "\t<dt>345</dt>\n",
       "\t\t<dd>0.0369835107875491</dd>\n",
       "\t<dt>346</dt>\n",
       "\t\t<dd>-0.0247825439196876</dd>\n",
       "\t<dt>347</dt>\n",
       "\t\t<dd>0.0241497565587037</dd>\n",
       "\t<dt>348</dt>\n",
       "\t\t<dd>-0.0557034674572311</dd>\n",
       "\t<dt>349</dt>\n",
       "\t\t<dd>-0.032384084792852</dd>\n",
       "\t<dt>350</dt>\n",
       "\t\t<dd>0.143673900571731</dd>\n",
       "\t<dt>351</dt>\n",
       "\t\t<dd>-0.0723979910086018</dd>\n",
       "\t<dt>352</dt>\n",
       "\t\t<dd>-0.0203416290525487</dd>\n",
       "\t<dt>353</dt>\n",
       "\t\t<dd>0.101844295226815</dd>\n",
       "\t<dt>354</dt>\n",
       "\t\t<dd>-0.205505213273607</dd>\n",
       "\t<dt>355</dt>\n",
       "\t\t<dd>-0.180220235769137</dd>\n",
       "\t<dt>356</dt>\n",
       "\t\t<dd>0.0719474348843525</dd>\n",
       "\t<dt>357</dt>\n",
       "\t\t<dd>-0.00731149073123325</dd>\n",
       "\t<dt>358</dt>\n",
       "\t\t<dd>0.0321322740275332</dd>\n",
       "\t<dt>359</dt>\n",
       "\t\t<dd>-0.163974337737163</dd>\n",
       "\t<dt>360</dt>\n",
       "\t\t<dd>-0.275461293585617</dd>\n",
       "\t<dt>361</dt>\n",
       "\t\t<dd>-0.0166336819539279</dd>\n",
       "\t<dt>362</dt>\n",
       "\t\t<dd>-0.0378145040333748</dd>\n",
       "\t<dt>363</dt>\n",
       "\t\t<dd>0.0253852008001734</dd>\n",
       "\t<dt>364</dt>\n",
       "\t\t<dd>0.122433755662002</dd>\n",
       "\t<dt>365</dt>\n",
       "\t\t<dd>0.088427387676807</dd>\n",
       "\t<dt>366</dt>\n",
       "\t\t<dd>0.204511866697609</dd>\n",
       "\t<dt>367</dt>\n",
       "\t\t<dd>-0.376201860726294</dd>\n",
       "\t<dt>368</dt>\n",
       "\t\t<dd>0.00589935277432027</dd>\n",
       "\t<dt>369</dt>\n",
       "\t\t<dd>0.0599048115559669</dd>\n",
       "\t<dt>370</dt>\n",
       "\t\t<dd>0.0801434601691031</dd>\n",
       "\t<dt>371</dt>\n",
       "\t\t<dd>0.0863970970021345</dd>\n",
       "\t<dt>372</dt>\n",
       "\t\t<dd>-0.134682470091224</dd>\n",
       "\t<dt>373</dt>\n",
       "\t\t<dd>0.169993558891695</dd>\n",
       "\t<dt>374</dt>\n",
       "\t\t<dd>0.169993558891695</dd>\n",
       "\t<dt>375</dt>\n",
       "\t\t<dd>-0.13013131258188</dd>\n",
       "\t<dt>376</dt>\n",
       "\t\t<dd>0.0711784188706139</dd>\n",
       "\t<dt>377</dt>\n",
       "\t\t<dd>-0.0873360494402986</dd>\n",
       "\t<dt>378</dt>\n",
       "\t\t<dd>-0.111091879479682</dd>\n",
       "\t<dt>379</dt>\n",
       "\t\t<dd>0.143469815049647</dd>\n",
       "\t<dt>380</dt>\n",
       "\t\t<dd>0.124625732594926</dd>\n",
       "\t<dt>381</dt>\n",
       "\t\t<dd>-0.17510869727098</dd>\n",
       "\t<dt>382</dt>\n",
       "\t\t<dd>-0.0510635866966522</dd>\n",
       "\t<dt>383</dt>\n",
       "\t\t<dd>0.0840265140659807</dd>\n",
       "\t<dt>384</dt>\n",
       "\t\t<dd>-0.120579975632682</dd>\n",
       "\t<dt>385</dt>\n",
       "\t\t<dd>-0.130976394502861</dd>\n",
       "\t<dt>386</dt>\n",
       "\t\t<dd>-0.0959472405266774</dd>\n",
       "\t<dt>387</dt>\n",
       "\t\t<dd>0.208739819846061</dd>\n",
       "\t<dt>388</dt>\n",
       "\t\t<dd>0.148601461107528</dd>\n",
       "\t<dt>389</dt>\n",
       "\t\t<dd>0.0157782002250951</dd>\n",
       "\t<dt>390</dt>\n",
       "\t\t<dd>-0.109762550587641</dd>\n",
       "\t<dt>391</dt>\n",
       "\t\t<dd>-0.0508964692926183</dd>\n",
       "\t<dt>392</dt>\n",
       "\t\t<dd>-0.217774814752309</dd>\n",
       "\t<dt>393</dt>\n",
       "\t\t<dd>-0.226686735461432</dd>\n",
       "\t<dt>394</dt>\n",
       "\t\t<dd>-0.040893115872915</dd>\n",
       "\t<dt>395</dt>\n",
       "\t\t<dd>0.033984048499726</dd>\n",
       "\t<dt>396</dt>\n",
       "\t\t<dd>0.034508372985399</dd>\n",
       "\t<dt>397</dt>\n",
       "\t\t<dd>0.181710771064226</dd>\n",
       "\t<dt>398</dt>\n",
       "\t\t<dd>0.0781834364880606</dd>\n",
       "\t<dt>399</dt>\n",
       "\t\t<dd>-0.10499148557174</dd>\n",
       "\t<dt>400</dt>\n",
       "\t\t<dd>0.247415992467501</dd>\n",
       "\t<dt>401</dt>\n",
       "\t\t<dd>0.188534720634191</dd>\n",
       "\t<dt>402</dt>\n",
       "\t\t<dd>-0.00998954408008868</dd>\n",
       "\t<dt>403</dt>\n",
       "\t\t<dd>0.13523850733996</dd>\n",
       "\t<dt>404</dt>\n",
       "\t\t<dd>-0.0915950850617035</dd>\n",
       "\t<dt>405</dt>\n",
       "\t\t<dd>-0.24566874998654</dd>\n",
       "\t<dt>406</dt>\n",
       "\t\t<dd>0.0593435877403352</dd>\n",
       "\t<dt>407</dt>\n",
       "\t\t<dd>-0.154508375239775</dd>\n",
       "\t<dt>408</dt>\n",
       "\t\t<dd>-0.119711711393612</dd>\n",
       "\t<dt>409</dt>\n",
       "\t\t<dd>-0.104347649568868</dd>\n",
       "\t<dt>410</dt>\n",
       "\t\t<dd>0.0293015948079484</dd>\n",
       "\t<dt>411</dt>\n",
       "\t\t<dd>0.0502029827225082</dd>\n",
       "\t<dt>412</dt>\n",
       "\t\t<dd>-0.155326768083921</dd>\n",
       "\t<dt>413</dt>\n",
       "\t\t<dd>0.0717812009058363</dd>\n",
       "\t<dt>414</dt>\n",
       "\t\t<dd>-0.0288060359993324</dd>\n",
       "\t<dt>415</dt>\n",
       "\t\t<dd>0.113589091310005</dd>\n",
       "\t<dt>416</dt>\n",
       "\t\t<dd>0.319491293615805</dd>\n",
       "\t<dt>417</dt>\n",
       "\t\t<dd>-0.194902744116097</dd>\n",
       "\t<dt>418</dt>\n",
       "\t\t<dd>-0.235215304293379</dd>\n",
       "\t<dt>419</dt>\n",
       "\t\t<dd>0.0797598522074364</dd>\n",
       "\t<dt>420</dt>\n",
       "\t\t<dd>-0.0410554363921561</dd>\n",
       "\t<dt>421</dt>\n",
       "\t\t<dd>-0.0387790675301581</dd>\n",
       "\t<dt>422</dt>\n",
       "\t\t<dd>-0.204187851212037</dd>\n",
       "\t<dt>423</dt>\n",
       "\t\t<dd>-0.134575252081496</dd>\n",
       "\t<dt>424</dt>\n",
       "\t\t<dd>0.0378738841033413</dd>\n",
       "\t<dt>425</dt>\n",
       "\t\t<dd>0.0304052109105945</dd>\n",
       "\t<dt>426</dt>\n",
       "\t\t<dd>0.0797735768885605</dd>\n",
       "\t<dt>427</dt>\n",
       "\t\t<dd>0.00615952947075186</dd>\n",
       "\t<dt>428</dt>\n",
       "\t\t<dd>-0.0228719898817978</dd>\n",
       "\t<dt>429</dt>\n",
       "\t\t<dd>0.0977322491684675</dd>\n",
       "\t<dt>430</dt>\n",
       "\t\t<dd>-0.000317996850093478</dd>\n",
       "\t<dt>431</dt>\n",
       "\t\t<dd>0.0972646963912878</dd>\n",
       "\t<dt>432</dt>\n",
       "\t\t<dd>0.0972775173458114</dd>\n",
       "\t<dt>433</dt>\n",
       "\t\t<dd>0.0615691809936709</dd>\n",
       "\t<dt>434</dt>\n",
       "\t\t<dd>-0.164674114044312</dd>\n",
       "\t<dt>435</dt>\n",
       "\t\t<dd>-0.248728169513181</dd>\n",
       "\t<dt>436</dt>\n",
       "\t\t<dd>-0.181848441548898</dd>\n",
       "\t<dt>437</dt>\n",
       "\t\t<dd>-0.0594117372111679</dd>\n",
       "\t<dt>438</dt>\n",
       "\t\t<dd>-0.0836708639896787</dd>\n",
       "\t<dt>439</dt>\n",
       "\t\t<dd>-0.224644230543855</dd>\n",
       "\t<dt>440</dt>\n",
       "\t\t<dd>-0.0870843646319042</dd>\n",
       "\t<dt>441</dt>\n",
       "\t\t<dd>0.199512739706286</dd>\n",
       "\t<dt>442</dt>\n",
       "\t\t<dd>0.00616892304320668</dd>\n",
       "\t<dt>443</dt>\n",
       "\t\t<dd>0.0861084057623044</dd>\n",
       "\t<dt>444</dt>\n",
       "\t\t<dd>-0.0991876981116868</dd>\n",
       "\t<dt>445</dt>\n",
       "\t\t<dd>-0.119426751883613</dd>\n",
       "\t<dt>446</dt>\n",
       "\t\t<dd>-0.0210747442157529</dd>\n",
       "\t<dt>447</dt>\n",
       "\t\t<dd>-0.134032680040379</dd>\n",
       "\t<dt>448</dt>\n",
       "\t\t<dd>-0.0693813493815651</dd>\n",
       "\t<dt>449</dt>\n",
       "\t\t<dd>-0.079158260416643</dd>\n",
       "\t<dt>450</dt>\n",
       "\t\t<dd>-0.0958683133865149</dd>\n",
       "\t<dt>451</dt>\n",
       "\t\t<dd>-0.0321344307029858</dd>\n",
       "\t<dt>452</dt>\n",
       "\t\t<dd>-0.311391853495515</dd>\n",
       "\t<dt>453</dt>\n",
       "\t\t<dd>0.128410666086018</dd>\n",
       "\t<dt>454</dt>\n",
       "\t\t<dd>0.16754184055533</dd>\n",
       "\t<dt>455</dt>\n",
       "\t\t<dd>0.0463150822788732</dd>\n",
       "\t<dt>456</dt>\n",
       "\t\t<dd>-0.185903228062838</dd>\n",
       "\t<dt>457</dt>\n",
       "\t\t<dd>0.194825636485686</dd>\n",
       "\t<dt>458</dt>\n",
       "\t\t<dd>0.224783824026478</dd>\n",
       "\t<dt>459</dt>\n",
       "\t\t<dd>-0.213114286041097</dd>\n",
       "\t<dt>460</dt>\n",
       "\t\t<dd>-0.0304498672997934</dd>\n",
       "\t<dt>461</dt>\n",
       "\t\t<dd>0.0551010157833758</dd>\n",
       "\t<dt>462</dt>\n",
       "\t\t<dd>-0.148489826415217</dd>\n",
       "\t<dt>463</dt>\n",
       "\t\t<dd>-0.166788954902759</dd>\n",
       "\t<dt>464</dt>\n",
       "\t\t<dd>0.0622312049004353</dd>\n",
       "\t<dt>465</dt>\n",
       "\t\t<dd>0.0272514860044085</dd>\n",
       "\t<dt>466</dt>\n",
       "\t\t<dd>-0.121685619094818</dd>\n",
       "\t<dt>467</dt>\n",
       "\t\t<dd>-0.107811720031614</dd>\n",
       "\t<dt>468</dt>\n",
       "\t\t<dd>0.0203724767268182</dd>\n",
       "\t<dt>469</dt>\n",
       "\t\t<dd>-0.00877117598470274</dd>\n",
       "\t<dt>470</dt>\n",
       "\t\t<dd>0.0352472474215654</dd>\n",
       "\t<dt>471</dt>\n",
       "\t\t<dd>-0.185131749835796</dd>\n",
       "\t<dt>472</dt>\n",
       "\t\t<dd>-0.151946200850142</dd>\n",
       "\t<dt>473</dt>\n",
       "\t\t<dd>-0.195538473163726</dd>\n",
       "\t<dt>474</dt>\n",
       "\t\t<dd>0.0845018738069556</dd>\n",
       "\t<dt>475</dt>\n",
       "\t\t<dd>-0.0266350132972292</dd>\n",
       "\t<dt>476</dt>\n",
       "\t\t<dd>0.0829795444599974</dd>\n",
       "\t<dt>477</dt>\n",
       "\t\t<dd>-0.0631424150480992</dd>\n",
       "\t<dt>478</dt>\n",
       "\t\t<dd>0.209199315387054</dd>\n",
       "\t<dt>479</dt>\n",
       "\t\t<dd>0.00516253788840564</dd>\n",
       "\t<dt>480</dt>\n",
       "\t\t<dd>-0.0081360663203271</dd>\n",
       "\t<dt>481</dt>\n",
       "\t\t<dd>-0.061688420955766</dd>\n",
       "\t<dt>482</dt>\n",
       "\t\t<dd>0.164637444696933</dd>\n",
       "\t<dt>483</dt>\n",
       "\t\t<dd>0.0807723111384808</dd>\n",
       "\t<dt>484</dt>\n",
       "\t\t<dd>-0.134790244581028</dd>\n",
       "\t<dt>485</dt>\n",
       "\t\t<dd>0.0429005543784247</dd>\n",
       "\t<dt>486</dt>\n",
       "\t\t<dd>0.10491091889003</dd>\n",
       "\t<dt>487</dt>\n",
       "\t\t<dd>-0.155666085115843</dd>\n",
       "\t<dt>488</dt>\n",
       "\t\t<dd>-0.103560917533927</dd>\n",
       "\t<dt>489</dt>\n",
       "\t\t<dd>-0.0187336834219478</dd>\n",
       "\t<dt>490</dt>\n",
       "\t\t<dd>0.0310705082131133</dd>\n",
       "\t<dt>491</dt>\n",
       "\t\t<dd>-0.201528805153887</dd>\n",
       "\t<dt>492</dt>\n",
       "\t\t<dd>0.174407274257858</dd>\n",
       "\t<dt>493</dt>\n",
       "\t\t<dd>-0.371476636068647</dd>\n",
       "\t<dt>494</dt>\n",
       "\t\t<dd>0.0853967584269436</dd>\n",
       "\t<dt>495</dt>\n",
       "\t\t<dd>0.0320267798334638</dd>\n",
       "\t<dt>496</dt>\n",
       "\t\t<dd>0.054260069641152</dd>\n",
       "\t<dt>497</dt>\n",
       "\t\t<dd>-0.07138511718818</dd>\n",
       "\t<dt>498</dt>\n",
       "\t\t<dd>0.180191015985434</dd>\n",
       "\t<dt>499</dt>\n",
       "\t\t<dd>0.0207408146113287</dd>\n",
       "\t<dt>500</dt>\n",
       "\t\t<dd>0.0556540916765657</dd>\n",
       "\t<dt>501</dt>\n",
       "\t\t<dd>0.213913240717572</dd>\n",
       "\t<dt>502</dt>\n",
       "\t\t<dd>-0.0922242734116404</dd>\n",
       "\t<dt>503</dt>\n",
       "\t\t<dd>0.178144434874327</dd>\n",
       "\t<dt>504</dt>\n",
       "\t\t<dd>0.0663020415431359</dd>\n",
       "\t<dt>505</dt>\n",
       "\t\t<dd>0.194481431886595</dd>\n",
       "\t<dt>506</dt>\n",
       "\t\t<dd>-0.147258768570389</dd>\n",
       "\t<dt>507</dt>\n",
       "\t\t<dd>0.208379010193261</dd>\n",
       "\t<dt>508</dt>\n",
       "\t\t<dd>0.0257432339854689</dd>\n",
       "\t<dt>509</dt>\n",
       "\t\t<dd>-0.0963520733616594</dd>\n",
       "\t<dt>510</dt>\n",
       "\t\t<dd>0.232884608499802</dd>\n",
       "\t<dt>511</dt>\n",
       "\t\t<dd>-0.107016255860472</dd>\n",
       "\t<dt>512</dt>\n",
       "\t\t<dd>0.0271279308347359</dd>\n",
       "\t<dt>513</dt>\n",
       "\t\t<dd>0.0726815226854908</dd>\n",
       "\t<dt>514</dt>\n",
       "\t\t<dd>-0.236311755346893</dd>\n",
       "\t<dt>515</dt>\n",
       "\t\t<dd>0.229043430574061</dd>\n",
       "\t<dt>516</dt>\n",
       "\t\t<dd>-0.271242101390348</dd>\n",
       "\t<dt>517</dt>\n",
       "\t\t<dd>-0.243681496493982</dd>\n",
       "\t<dt>518</dt>\n",
       "\t\t<dd>0.0208441079635225</dd>\n",
       "\t<dt>519</dt>\n",
       "\t\t<dd>-0.145067693837615</dd>\n",
       "\t<dt>520</dt>\n",
       "\t\t<dd>-0.253875056999684</dd>\n",
       "\t<dt>521</dt>\n",
       "\t\t<dd>0.0413985477736161</dd>\n",
       "\t<dt>522</dt>\n",
       "\t\t<dd>-0.304873302648311</dd>\n",
       "\t<dt>523</dt>\n",
       "\t\t<dd>0.110689232157988</dd>\n",
       "\t<dt>524</dt>\n",
       "\t\t<dd>-0.29797604886054</dd>\n",
       "\t<dt>525</dt>\n",
       "\t\t<dd>-0.0357147657020326</dd>\n",
       "\t<dt>526</dt>\n",
       "\t\t<dd>0.156399627265875</dd>\n",
       "\t<dt>527</dt>\n",
       "\t\t<dd>-0.037397541696338</dd>\n",
       "\t<dt>528</dt>\n",
       "\t\t<dd>0.279800850239262</dd>\n",
       "\t<dt>529</dt>\n",
       "\t\t<dd>-0.231803380821472</dd>\n",
       "\t<dt>530</dt>\n",
       "\t\t<dd>-0.0923844738917061</dd>\n",
       "\t<dt>531</dt>\n",
       "\t\t<dd>0.072882705976404</dd>\n",
       "\t<dt>532</dt>\n",
       "\t\t<dd>0.208020021463644</dd>\n",
       "\t<dt>533</dt>\n",
       "\t\t<dd>0.0910301420439576</dd>\n",
       "\t<dt>534</dt>\n",
       "\t\t<dd>0.182533070837005</dd>\n",
       "\t<dt>535</dt>\n",
       "\t\t<dd>0.0351505423775602</dd>\n",
       "\t<dt>536</dt>\n",
       "\t\t<dd>0.106900534509638</dd>\n",
       "\t<dt>537</dt>\n",
       "\t\t<dd>-0.28515137408554</dd>\n",
       "\t<dt>538</dt>\n",
       "\t\t<dd>-0.302829229720972</dd>\n",
       "\t<dt>539</dt>\n",
       "\t\t<dd>0.291590414325057</dd>\n",
       "\t<dt>540</dt>\n",
       "\t\t<dd>-0.195532374284041</dd>\n",
       "\t<dt>541</dt>\n",
       "\t\t<dd>-0.122056327453419</dd>\n",
       "\t<dt>542</dt>\n",
       "\t\t<dd>0.110658466318829</dd>\n",
       "\t<dt>543</dt>\n",
       "\t\t<dd>0.170584718928239</dd>\n",
       "\t<dt>544</dt>\n",
       "\t\t<dd>0.0313297893789493</dd>\n",
       "\t<dt>545</dt>\n",
       "\t\t<dd>0.125942138455955</dd>\n",
       "\t<dt>546</dt>\n",
       "\t\t<dd>-0.0712836090159924</dd>\n",
       "\t<dt>547</dt>\n",
       "\t\t<dd>-0.101899024085442</dd>\n",
       "\t<dt>548</dt>\n",
       "\t\t<dd>0.105841007905765</dd>\n",
       "\t<dt>549</dt>\n",
       "\t\t<dd>0.128120410444901</dd>\n",
       "\t<dt>550</dt>\n",
       "\t\t<dd>0.0795669328238849</dd>\n",
       "\t<dt>551</dt>\n",
       "\t\t<dd>-0.150223305109757</dd>\n",
       "\t<dt>552</dt>\n",
       "\t\t<dd>-0.0328027398793204</dd>\n",
       "\t<dt>553</dt>\n",
       "\t\t<dd>0.138910629838536</dd>\n",
       "\t<dt>554</dt>\n",
       "\t\t<dd>0.150190154409644</dd>\n",
       "\t<dt>555</dt>\n",
       "\t\t<dd>0.103289967101229</dd>\n",
       "\t<dt>556</dt>\n",
       "\t\t<dd>-0.224099277800949</dd>\n",
       "\t<dt>557</dt>\n",
       "\t\t<dd>0.0362166085249254</dd>\n",
       "\t<dt>558</dt>\n",
       "\t\t<dd>-0.0455696408061997</dd>\n",
       "\t<dt>559</dt>\n",
       "\t\t<dd>0.0710827182094496</dd>\n",
       "\t<dt>560</dt>\n",
       "\t\t<dd>-0.115224086704286</dd>\n",
       "\t<dt>561</dt>\n",
       "\t\t<dd>0.0696582909513425</dd>\n",
       "\t<dt>562</dt>\n",
       "\t\t<dd>0.146829016166073</dd>\n",
       "\t<dt>563</dt>\n",
       "\t\t<dd>0.109294641272334</dd>\n",
       "\t<dt>564</dt>\n",
       "\t\t<dd>0.0228527137475962</dd>\n",
       "\t<dt>565</dt>\n",
       "\t\t<dd>0.0137229414457569</dd>\n",
       "\t<dt>566</dt>\n",
       "\t\t<dd>-0.0249007665596703</dd>\n",
       "\t<dt>567</dt>\n",
       "\t\t<dd>0.199685208275725</dd>\n",
       "\t<dt>568</dt>\n",
       "\t\t<dd>-0.131688931366532</dd>\n",
       "\t<dt>569</dt>\n",
       "\t\t<dd>-0.0787233957866189</dd>\n",
       "\t<dt>570</dt>\n",
       "\t\t<dd>-0.0375768864973311</dd>\n",
       "\t<dt>571</dt>\n",
       "\t\t<dd>0.0832888751078372</dd>\n",
       "\t<dt>572</dt>\n",
       "\t\t<dd>-0.0631207212436203</dd>\n",
       "\t<dt>573</dt>\n",
       "\t\t<dd>-0.0635888860461787</dd>\n",
       "\t<dt>574</dt>\n",
       "\t\t<dd>0.0132290419212563</dd>\n",
       "\t<dt>575</dt>\n",
       "\t\t<dd>0.128874190619437</dd>\n",
       "\t<dt>576</dt>\n",
       "\t\t<dd>0.367611461806808</dd>\n",
       "\t<dt>577</dt>\n",
       "\t\t<dd>0.0230525332828663</dd>\n",
       "\t<dt>578</dt>\n",
       "\t\t<dd>0.0722427774736382</dd>\n",
       "\t<dt>579</dt>\n",
       "\t\t<dd>-0.092093096055415</dd>\n",
       "\t<dt>580</dt>\n",
       "\t\t<dd>0.174343760306816</dd>\n",
       "\t<dt>581</dt>\n",
       "\t\t<dd>-0.0358475203396822</dd>\n",
       "\t<dt>582</dt>\n",
       "\t\t<dd>-0.311650729208886</dd>\n",
       "\t<dt>583</dt>\n",
       "\t\t<dd>0.00956477786938339</dd>\n",
       "\t<dt>584</dt>\n",
       "\t\t<dd>-0.102365021805289</dd>\n",
       "\t<dt>585</dt>\n",
       "\t\t<dd>0.250920345620243</dd>\n",
       "\t<dt>586</dt>\n",
       "\t\t<dd>0.0526489567659596</dd>\n",
       "\t<dt>587</dt>\n",
       "\t\t<dd>0.121645745856028</dd>\n",
       "\t<dt>588</dt>\n",
       "\t\t<dd>0.0234304450816363</dd>\n",
       "\t<dt>589</dt>\n",
       "\t\t<dd>0.0186575668889858</dd>\n",
       "\t<dt>590</dt>\n",
       "\t\t<dd>0.1503029062726</dd>\n",
       "\t<dt>591</dt>\n",
       "\t\t<dd>0.0856666934586731</dd>\n",
       "\t<dt>592</dt>\n",
       "\t\t<dd>-0.198291152353172</dd>\n",
       "\t<dt>593</dt>\n",
       "\t\t<dd>0.159263170214705</dd>\n",
       "\t<dt>594</dt>\n",
       "\t\t<dd>0.260096233201791</dd>\n",
       "\t<dt>595</dt>\n",
       "\t\t<dd>0.211485628596748</dd>\n",
       "\t<dt>596</dt>\n",
       "\t\t<dd>0.125922929149875</dd>\n",
       "\t<dt>597</dt>\n",
       "\t\t<dd>0.0724318510381702</dd>\n",
       "\t<dt>598</dt>\n",
       "\t\t<dd>-0.0516898998275576</dd>\n",
       "\t<dt>599</dt>\n",
       "\t\t<dd>-0.0232177947658495</dd>\n",
       "\t<dt>600</dt>\n",
       "\t\t<dd>0.0923464182335495</dd>\n",
       "\t<dt>601</dt>\n",
       "\t\t<dd>-0.139333705788411</dd>\n",
       "\t<dt>602</dt>\n",
       "\t\t<dd>0.000867495013992591</dd>\n",
       "\t<dt>603</dt>\n",
       "\t\t<dd>0.0792812458579623</dd>\n",
       "\t<dt>604</dt>\n",
       "\t\t<dd>0.241136493615626</dd>\n",
       "\t<dt>605</dt>\n",
       "\t\t<dd>0.180730186612034</dd>\n",
       "\t<dt>606</dt>\n",
       "\t\t<dd>-0.0335781242217244</dd>\n",
       "\t<dt>607</dt>\n",
       "\t\t<dd>0.320943112510856</dd>\n",
       "\t<dt>608</dt>\n",
       "\t\t<dd>0.0973186117211234</dd>\n",
       "\t<dt>609</dt>\n",
       "\t\t<dd>0.0973186117211234</dd>\n",
       "\t<dt>610</dt>\n",
       "\t\t<dd>-0.0142101059467403</dd>\n",
       "\t<dt>611</dt>\n",
       "\t\t<dd>-0.19658916582017</dd>\n",
       "\t<dt>612</dt>\n",
       "\t\t<dd>-0.0758080709148946</dd>\n",
       "\t<dt>613</dt>\n",
       "\t\t<dd>-0.428377950468305</dd>\n",
       "\t<dt>614</dt>\n",
       "\t\t<dd>0.155691223477499</dd>\n",
       "\t<dt>615</dt>\n",
       "\t\t<dd>0.00389807886341247</dd>\n",
       "\t<dt>616</dt>\n",
       "\t\t<dd>-0.357188799955096</dd>\n",
       "\t<dt>617</dt>\n",
       "\t\t<dd>-0.105191970137736</dd>\n",
       "\t<dt>618</dt>\n",
       "\t\t<dd>-0.226533557171211</dd>\n",
       "\t<dt>619</dt>\n",
       "\t\t<dd>-0.239744041806662</dd>\n",
       "\t<dt>620</dt>\n",
       "\t\t<dd>0.000271742759333197</dd>\n",
       "\t<dt>621</dt>\n",
       "\t\t<dd>0.038800830950685</dd>\n",
       "\t<dt>622</dt>\n",
       "\t\t<dd>-0.199820978569998</dd>\n",
       "\t<dt>623</dt>\n",
       "\t\t<dd>-0.0892817376275101</dd>\n",
       "\t<dt>624</dt>\n",
       "\t\t<dd>-0.0788849829727551</dd>\n",
       "\t<dt>625</dt>\n",
       "\t\t<dd>-0.0145197309896262</dd>\n",
       "\t<dt>626</dt>\n",
       "\t\t<dd>-0.0524323094250566</dd>\n",
       "\t<dt>627</dt>\n",
       "\t\t<dd>-0.0499488365928827</dd>\n",
       "\t<dt>628</dt>\n",
       "\t\t<dd>-0.0206365663311051</dd>\n",
       "\t<dt>629</dt>\n",
       "\t\t<dd>-0.0625276803504394</dd>\n",
       "\t<dt>630</dt>\n",
       "\t\t<dd>0.0689519405173361</dd>\n",
       "\t<dt>631</dt>\n",
       "\t\t<dd>-0.337167741774075</dd>\n",
       "\t<dt>632</dt>\n",
       "\t\t<dd>-0.0223531834995562</dd>\n",
       "\t<dt>633</dt>\n",
       "\t\t<dd>0.1562577994659</dd>\n",
       "\t<dt>634</dt>\n",
       "\t\t<dd>-0.331173437522035</dd>\n",
       "\t<dt>635</dt>\n",
       "\t\t<dd>-0.0231452564101544</dd>\n",
       "\t<dt>636</dt>\n",
       "\t\t<dd>-0.0791745487281944</dd>\n",
       "\t<dt>637</dt>\n",
       "\t\t<dd>0.306005901095899</dd>\n",
       "\t<dt>638</dt>\n",
       "\t\t<dd>0.270124754632878</dd>\n",
       "\t<dt>639</dt>\n",
       "\t\t<dd>0.101284683782861</dd>\n",
       "\t<dt>640</dt>\n",
       "\t\t<dd>-0.368777197363159</dd>\n",
       "\t<dt>641</dt>\n",
       "\t\t<dd>0.284089430201566</dd>\n",
       "\t<dt>642</dt>\n",
       "\t\t<dd>0.141121778021586</dd>\n",
       "\t<dt>643</dt>\n",
       "\t\t<dd>-0.0724852851936993</dd>\n",
       "\t<dt>644</dt>\n",
       "\t\t<dd>0.0987560521962457</dd>\n",
       "\t<dt>645</dt>\n",
       "\t\t<dd>0.0154281149954427</dd>\n",
       "\t<dt>646</dt>\n",
       "\t\t<dd>0.0768469695235026</dd>\n",
       "\t<dt>647</dt>\n",
       "\t\t<dd>0.170846896849291</dd>\n",
       "\t<dt>648</dt>\n",
       "\t\t<dd>-0.018478413691852</dd>\n",
       "\t<dt>649</dt>\n",
       "\t\t<dd>0.0158865965758684</dd>\n",
       "\t<dt>650</dt>\n",
       "\t\t<dd>0.0887586550415675</dd>\n",
       "\t<dt>651</dt>\n",
       "\t\t<dd>-0.178575407377839</dd>\n",
       "\t<dt>652</dt>\n",
       "\t\t<dd>-0.164207140025181</dd>\n",
       "\t<dt>653</dt>\n",
       "\t\t<dd>0.0800251382351464</dd>\n",
       "\t<dt>654</dt>\n",
       "\t\t<dd>0.00518659921779929</dd>\n",
       "</dl>\n"
      ],
      "text/latex": [
       "\\begin{description*}\n",
       "\\item[1] -0.0252436957815138\n",
       "\\item[2] -0.379293122819483\n",
       "\\item[3] -0.106621839573829\n",
       "\\item[4] 0.124835513467653\n",
       "\\item[5] 0.208979968681391\n",
       "\\item[6] 0.102703088810425\n",
       "\\item[7] 0.161098345456428\n",
       "\\item[8] 0.0160405748318016\n",
       "\\item[9] 0.0665406834371815\n",
       "\\item[10] -0.0215101946855529\n",
       "\\item[11] -0.017821424637888\n",
       "\\item[12] -0.176449723886441\n",
       "\\item[13] -0.224716464856275\n",
       "\\item[14] 0.118405512677754\n",
       "\\item[15] 0.177455297233178\n",
       "\\item[16] 0.107581756380633\n",
       "\\item[17] 0.0791567239155337\n",
       "\\item[18] 0.0308627145565775\n",
       "\\item[19] -0.632776231383386\n",
       "\\item[20] -0.191784746620375\n",
       "\\item[21] -0.0443660763977902\n",
       "\\item[22] 0.0138071902271952\n",
       "\\item[23] 0.0417717288545581\n",
       "\\item[24] -0.109132277849908\n",
       "\\item[25] -0.126800216512323\n",
       "\\item[26] 0.00675092559778655\n",
       "\\item[27] 0.16570545773769\n",
       "\\item[28] 0.0772408033523313\n",
       "\\item[29] 0.0631808177840327\n",
       "\\item[30] 0.0067228026191717\n",
       "\\item[31] -0.021231514786206\n",
       "\\item[32] 0.0354684688417125\n",
       "\\item[33] -0.121563119999135\n",
       "\\item[34] 0.171397876918985\n",
       "\\item[35] -0.245759758938052\n",
       "\\item[36] -0.0266766509976041\n",
       "\\item[37] 0.0695793146844284\n",
       "\\item[38] 0.0519174145697801\n",
       "\\item[39] -0.07919010495493\n",
       "\\item[40] 0.163183515168948\n",
       "\\item[41] 0.193616084046322\n",
       "\\item[42] 0.0579174557283343\n",
       "\\item[43] -0.162157500335179\n",
       "\\item[44] 0.0730844434808696\n",
       "\\item[45] -0.151563793159297\n",
       "\\item[46] -0.00595639699287694\n",
       "\\item[47] -0.00975852959997596\n",
       "\\item[48] -0.0226317325361822\n",
       "\\item[49] 0.050592456970532\n",
       "\\item[50] -0.0138649269873936\n",
       "\\item[51] -0.258669975082783\n",
       "\\item[52] -0.0787844730867093\n",
       "\\item[53] -0.105685285781418\n",
       "\\item[54] 0.268433197662974\n",
       "\\item[55] -0.0907097280333881\n",
       "\\item[56] 0.088089475953453\n",
       "\\item[57] 0.0804812604613704\n",
       "\\item[58] -0.256946086070081\n",
       "\\item[59] 0.0581282560536534\n",
       "\\item[60] 0.0136764934828195\n",
       "\\item[61] -0.0511066178441804\n",
       "\\item[62] 0.159332683648507\n",
       "\\item[63] 0.239700457150736\n",
       "\\item[64] -0.168232097974855\n",
       "\\item[65] 0.0958945717302879\n",
       "\\item[66] -0.212289156462055\n",
       "\\item[67] 0.0956962374405197\n",
       "\\item[68] -0.194228214218986\n",
       "\\item[69] -0.0978430730600815\n",
       "\\item[70] -0.0340542342443726\n",
       "\\item[71] -0.37213032044756\n",
       "\\item[72] -0.0491244871653708\n",
       "\\item[73] 0.0315854432184901\n",
       "\\item[74] -0.0244215033508742\n",
       "\\item[75] 0.164695486242041\n",
       "\\item[76] -0.174406313405575\n",
       "\\item[77] -0.0032382058960838\n",
       "\\item[78] 0.203359185770778\n",
       "\\item[79] 0.104605708083559\n",
       "\\item[80] -0.0558886438976669\n",
       "\\item[81] -0.0600272267200075\n",
       "\\item[82] 0.0386172791460638\n",
       "\\item[83] -0.170039825985694\n",
       "\\item[84] -0.304534764533487\n",
       "\\item[85] 0.00897757975348137\n",
       "\\item[86] -0.239189098535077\n",
       "\\item[87] -0.00958443810657813\n",
       "\\item[88] 0.0799608063336947\n",
       "\\item[89] 0.180951078236542\n",
       "\\item[90] -0.0263094269046643\n",
       "\\item[91] 0.28107642673519\n",
       "\\item[92] 0.172354563374659\n",
       "\\item[93] 0.0978148309275408\n",
       "\\item[94] -0.0155944702850242\n",
       "\\item[95] 0.0596093217482324\n",
       "\\item[96] -0.0837814750187172\n",
       "\\item[97] 0.0341626560870681\n",
       "\\item[98] 0.018333420229172\n",
       "\\item[99] -0.00520259781109981\n",
       "\\item[100] 0.0457053483667627\n",
       "\\item[101] 0.00417113933809884\n",
       "\\item[102] -0.0473624837570076\n",
       "\\item[103] -0.0925098155799283\n",
       "\\item[104] -0.0284979808389291\n",
       "\\item[105] 0.0787432168334418\n",
       "\\item[106] -0.176560997558439\n",
       "\\item[107] 0.157041988103567\n",
       "\\item[108] -0.0325898859446452\n",
       "\\item[109] -0.00182597214414418\n",
       "\\item[110] -0.168347247810819\n",
       "\\item[111] -0.587168119002801\n",
       "\\item[112] 0.0712967706667884\n",
       "\\item[113] -0.0285927474755496\n",
       "\\item[114] -0.0181590997942312\n",
       "\\item[115] -0.170523625315394\n",
       "\\item[116] 0.0245962446218698\n",
       "\\item[117] 0.135720464996446\n",
       "\\item[118] -0.241483971326123\n",
       "\\item[119] -0.253497999654681\n",
       "\\item[120] 0.0456375333995478\n",
       "\\item[121] -0.0895693094505358\n",
       "\\item[122] 0.0448818333116579\n",
       "\\item[123] -0.0323979837277116\n",
       "\\item[124] -0.0353163189503532\n",
       "\\item[125] 0.136385669016141\n",
       "\\item[126] -0.113912499014698\n",
       "\\item[127] -0.143288484042477\n",
       "\\item[128] 0.0270053665415832\n",
       "\\item[129] -0.0325943057582864\n",
       "\\item[130] 0.175961229491738\n",
       "\\item[131] -0.170515717797511\n",
       "\\item[132] -0.0922967429372667\n",
       "\\item[133] 0.30839508641824\n",
       "\\item[134] 0.213435722263891\n",
       "\\item[135] 0.0638926735798399\n",
       "\\item[136] 0.0843752763273485\n",
       "\\item[137] 0.0898291270098122\n",
       "\\item[138] 0.0967977963259056\n",
       "\\item[139] 0.0243502424767996\n",
       "\\item[140] 0.130119643060743\n",
       "\\item[141] 0.20980476088602\n",
       "\\item[142] -0.0056103954705668\n",
       "\\item[143] -0.336528877209089\n",
       "\\item[144] 0.0475383364015972\n",
       "\\item[145] 0.162707889991673\n",
       "\\item[146] -0.241859107058597\n",
       "\\item[147] 0.0077786028696713\n",
       "\\item[148] 0.0846975396290435\n",
       "\\item[149] 0.0945274902554155\n",
       "\\item[150] -0.0951445840978808\n",
       "\\item[151] -0.0943400788252052\n",
       "\\item[152] -0.30995143096669\n",
       "\\item[153] 0.0463912346291409\n",
       "\\item[154] 0.122099570191871\n",
       "\\item[155] 0.0215063722007137\n",
       "\\item[156] -0.128750438869767\n",
       "\\item[157] -0.352168300979827\n",
       "\\item[158] 0.0389004926550782\n",
       "\\item[159] 0.00499894097939677\n",
       "\\item[160] 0.0389004926550782\n",
       "\\item[161] 0.0429882895589715\n",
       "\\item[162] 0.30544837107487\n",
       "\\item[163] 0.194597947547234\n",
       "\\item[164] 0.0602681516866872\n",
       "\\item[165] 0.257520289068155\n",
       "\\item[166] 0.0452397054746883\n",
       "\\item[167] -0.0220539302593034\n",
       "\\item[168] 0.0711191155540114\n",
       "\\item[169] 0.161185372488087\n",
       "\\item[170] -0.0731761755054782\n",
       "\\item[171] 0.151103590588137\n",
       "\\item[172] 0.23065397641522\n",
       "\\item[173] 0.112436544464119\n",
       "\\item[174] 0.0455845431198239\n",
       "\\item[175] 0.18366287439989\n",
       "\\item[176] 0.0570909102018144\n",
       "\\item[177] -0.146628541089619\n",
       "\\item[178] -0.0642791772058005\n",
       "\\item[179] -0.0670009148716904\n",
       "\\item[180] 0.123836226777699\n",
       "\\item[181] -0.181653489991398\n",
       "\\item[182] 0.0214874968009704\n",
       "\\item[183] 0.0648260072765261\n",
       "\\item[184] 0.00825824762743952\n",
       "\\item[185] -0.167278952771097\n",
       "\\item[186] -0.0206897698934033\n",
       "\\item[187] 0.0144990237905551\n",
       "\\item[188] 0.00249201847683133\n",
       "\\item[189] 0.0744715098393147\n",
       "\\item[190] 0.134946539551415\n",
       "\\item[191] 0.0183394957081573\n",
       "\\item[192] 0.150510919472816\n",
       "\\item[193] -0.141600580899404\n",
       "\\item[194] -0.0642955866554724\n",
       "\\item[195] -0.0755838752523972\n",
       "\\item[196] 0.160716664922426\n",
       "\\item[197] 0.043967178358606\n",
       "\\item[198] 0.00152378708857207\n",
       "\\item[199] -0.033648920658338\n",
       "\\item[200] -0.110484084587515\n",
       "\\item[201] 0.123307754612363\n",
       "\\item[202] -0.0499094415301183\n",
       "\\item[203] 0.0708457600050221\n",
       "\\item[204] 0.0181334479508655\n",
       "\\item[205] 0.0512180907883744\n",
       "\\item[206] -0.0472097844485364\n",
       "\\item[207] -0.0291918248027496\n",
       "\\item[208] 0.144651113135653\n",
       "\\item[209] -0.0623819779035618\n",
       "\\item[210] -0.27654733500906\n",
       "\\item[211] 0.171717627759296\n",
       "\\item[212] -0.0682174350386233\n",
       "\\item[213] 0.196211726518473\n",
       "\\item[214] 0.0500805780840823\n",
       "\\item[215] 0.204847853847114\n",
       "\\item[216] 0.0967230369203076\n",
       "\\item[217] 0.200834997545343\n",
       "\\item[218] -0.137170981707818\n",
       "\\item[219] -0.103330954601487\n",
       "\\item[220] 0.0365547497908162\n",
       "\\item[221] 0.0693226978139496\n",
       "\\item[222] 0.147556408545972\n",
       "\\item[223] -0.0957272171005438\n",
       "\\item[224] 0.0798096270015406\n",
       "\\item[225] 0.220209139622157\n",
       "\\item[226] 0.191967483689185\n",
       "\\item[227] -0.0646644165938181\n",
       "\\item[228] 0.222810766439619\n",
       "\\item[229] -0.115451495943756\n",
       "\\item[230] -0.0515437707948327\n",
       "\\item[231] 0.0636276154272528\n",
       "\\item[232] 0.234670088208648\n",
       "\\item[233] 0.062930022095859\n",
       "\\item[234] 0.12022411720134\n",
       "\\item[235] -0.0539525266022695\n",
       "\\item[236] 0.0113730065669726\n",
       "\\item[237] -0.0208186143626409\n",
       "\\item[238] -0.0892663781773318\n",
       "\\item[239] -0.0853813694058705\n",
       "\\item[240] -0.0418530707314599\n",
       "\\item[241] 0.0713977460953671\n",
       "\\item[242] 0.044764575655673\n",
       "\\item[243] -0.0146684638159374\n",
       "\\item[244] 0.156071862175015\n",
       "\\item[245] 0.0286019571004099\n",
       "\\item[246] -0.141349007379794\n",
       "\\item[247] 0.118404289546977\n",
       "\\item[248] 0.0664975945821482\n",
       "\\item[249] 0.0190218123705826\n",
       "\\item[250] 0.0241534259810328\n",
       "\\item[251] 0.173962488356825\n",
       "\\item[252] -0.0189275610043995\n",
       "\\item[253] 0.126438289267126\n",
       "\\item[254] 0.0230076909373334\n",
       "\\item[255] 0.0609365611146747\n",
       "\\item[256] -0.160490532219569\n",
       "\\item[257] 0.261634548898962\n",
       "\\item[258] 0.196956255589803\n",
       "\\item[259] 0.0474835188977132\n",
       "\\item[260] -0.269344209212161\n",
       "\\item[261] 0.0401127765345503\n",
       "\\item[262] -0.0257632960114169\n",
       "\\item[263] 0.0502723618047977\n",
       "\\item[264] 0.024840727955046\n",
       "\\item[265] 0.0310627676397063\n",
       "\\item[266] -0.0459866333482873\n",
       "\\item[267] -0.0461394192320297\n",
       "\\item[268] -0.0284369190432894\n",
       "\\item[269] -0.490547466741582\n",
       "\\item[270] -0.0427268372778429\n",
       "\\item[271] -0.176857344960273\n",
       "\\item[272] -0.0861475843336143\n",
       "\\item[273] -0.162460504132099\n",
       "\\item[274] -0.0561726394898774\n",
       "\\item[275] -0.0176320155275355\n",
       "\\item[276] 0.145839591762642\n",
       "\\item[277] 0.00365205960403104\n",
       "\\item[278] -0.111721326206715\n",
       "\\item[279] -0.234716181448984\n",
       "\\item[280] -0.0201406506780578\n",
       "\\item[281] -0.418428212826644\n",
       "\\item[282] -0.22907588741431\n",
       "\\item[283] 0.177405739862905\n",
       "\\item[284] 0.0445753197484014\n",
       "\\item[285] 0.407008111939958\n",
       "\\item[286] -0.056695459886755\n",
       "\\item[287] 0.189521155016738\n",
       "\\item[288] -0.011900573150636\n",
       "\\item[289] 0.272677513363554\n",
       "\\item[290] 0.134830578369632\n",
       "\\item[291] -0.0128831235329404\n",
       "\\item[292] 0.0083886739931994\n",
       "\\item[293] 0.149066572848492\n",
       "\\item[294] 0.12785283199283\n",
       "\\item[295] 0.166983507936484\n",
       "\\item[296] 0.0147977219394371\n",
       "\\item[297] -0.00587198434735755\n",
       "\\item[298] 0.149339298272591\n",
       "\\item[299] 0.00873129916238992\n",
       "\\item[300] 0.0115383185493739\n",
       "\\item[301] 0.1514144104017\n",
       "\\item[302] -0.0498562028634472\n",
       "\\item[303] 0.0552646438042465\n",
       "\\item[304] 0.00132320157429648\n",
       "\\item[305] 0.0594000513119325\n",
       "\\item[306] -0.0491183606937016\n",
       "\\item[307] 0.12970439524258\n",
       "\\item[308] -0.202645319721639\n",
       "\\item[309] -0.19519926893756\n",
       "\\item[310] 0.0455917991902277\n",
       "\\item[311] 0.0314987884887677\n",
       "\\item[312] -0.0455860739848217\n",
       "\\item[313] -0.00657722773283778\n",
       "\\item[314] -0.0786375715051008\n",
       "\\item[315] -0.0382520358555263\n",
       "\\item[316] 0.0603830182078815\n",
       "\\item[317] 0.100233751965438\n",
       "\\item[318] -0.128502300753063\n",
       "\\item[319] 0.129847045788946\n",
       "\\item[320] -0.107712674324789\n",
       "\\item[321] 0.170510864850495\n",
       "\\item[322] -0.248872030403308\n",
       "\\item[323] 0.14134724047813\n",
       "\\item[324] -0.0115964385990933\n",
       "\\item[325] 0.230575477026268\n",
       "\\item[326] 0.0436092300429886\n",
       "\\item[327] -0.0751120425676674\n",
       "\\item[328] -0.0598352407296918\n",
       "\\item[329] 0.160758063285765\n",
       "\\item[330] -0.0828165117513546\n",
       "\\item[331] 0.194256570648346\n",
       "\\item[332] -0.017238103422103\n",
       "\\item[333] -0.063939057770486\n",
       "\\item[334] 0.0702908052323666\n",
       "\\item[335] 0.290497496873267\n",
       "\\item[336] 0.11287078438352\n",
       "\\item[337] -0.0146685707548565\n",
       "\\item[338] -0.18951811271011\n",
       "\\item[339] -0.232934441594667\n",
       "\\item[340] 0.00310168360413809\n",
       "\\item[341] 0.0663197555972057\n",
       "\\item[342] -0.0867054317083181\n",
       "\\item[343] 0.134812513263728\n",
       "\\item[344] 0.0232454137527057\n",
       "\\item[345] 0.0369835107875491\n",
       "\\item[346] -0.0247825439196876\n",
       "\\item[347] 0.0241497565587037\n",
       "\\item[348] -0.0557034674572311\n",
       "\\item[349] -0.032384084792852\n",
       "\\item[350] 0.143673900571731\n",
       "\\item[351] -0.0723979910086018\n",
       "\\item[352] -0.0203416290525487\n",
       "\\item[353] 0.101844295226815\n",
       "\\item[354] -0.205505213273607\n",
       "\\item[355] -0.180220235769137\n",
       "\\item[356] 0.0719474348843525\n",
       "\\item[357] -0.00731149073123325\n",
       "\\item[358] 0.0321322740275332\n",
       "\\item[359] -0.163974337737163\n",
       "\\item[360] -0.275461293585617\n",
       "\\item[361] -0.0166336819539279\n",
       "\\item[362] -0.0378145040333748\n",
       "\\item[363] 0.0253852008001734\n",
       "\\item[364] 0.122433755662002\n",
       "\\item[365] 0.088427387676807\n",
       "\\item[366] 0.204511866697609\n",
       "\\item[367] -0.376201860726294\n",
       "\\item[368] 0.00589935277432027\n",
       "\\item[369] 0.0599048115559669\n",
       "\\item[370] 0.0801434601691031\n",
       "\\item[371] 0.0863970970021345\n",
       "\\item[372] -0.134682470091224\n",
       "\\item[373] 0.169993558891695\n",
       "\\item[374] 0.169993558891695\n",
       "\\item[375] -0.13013131258188\n",
       "\\item[376] 0.0711784188706139\n",
       "\\item[377] -0.0873360494402986\n",
       "\\item[378] -0.111091879479682\n",
       "\\item[379] 0.143469815049647\n",
       "\\item[380] 0.124625732594926\n",
       "\\item[381] -0.17510869727098\n",
       "\\item[382] -0.0510635866966522\n",
       "\\item[383] 0.0840265140659807\n",
       "\\item[384] -0.120579975632682\n",
       "\\item[385] -0.130976394502861\n",
       "\\item[386] -0.0959472405266774\n",
       "\\item[387] 0.208739819846061\n",
       "\\item[388] 0.148601461107528\n",
       "\\item[389] 0.0157782002250951\n",
       "\\item[390] -0.109762550587641\n",
       "\\item[391] -0.0508964692926183\n",
       "\\item[392] -0.217774814752309\n",
       "\\item[393] -0.226686735461432\n",
       "\\item[394] -0.040893115872915\n",
       "\\item[395] 0.033984048499726\n",
       "\\item[396] 0.034508372985399\n",
       "\\item[397] 0.181710771064226\n",
       "\\item[398] 0.0781834364880606\n",
       "\\item[399] -0.10499148557174\n",
       "\\item[400] 0.247415992467501\n",
       "\\item[401] 0.188534720634191\n",
       "\\item[402] -0.00998954408008868\n",
       "\\item[403] 0.13523850733996\n",
       "\\item[404] -0.0915950850617035\n",
       "\\item[405] -0.24566874998654\n",
       "\\item[406] 0.0593435877403352\n",
       "\\item[407] -0.154508375239775\n",
       "\\item[408] -0.119711711393612\n",
       "\\item[409] -0.104347649568868\n",
       "\\item[410] 0.0293015948079484\n",
       "\\item[411] 0.0502029827225082\n",
       "\\item[412] -0.155326768083921\n",
       "\\item[413] 0.0717812009058363\n",
       "\\item[414] -0.0288060359993324\n",
       "\\item[415] 0.113589091310005\n",
       "\\item[416] 0.319491293615805\n",
       "\\item[417] -0.194902744116097\n",
       "\\item[418] -0.235215304293379\n",
       "\\item[419] 0.0797598522074364\n",
       "\\item[420] -0.0410554363921561\n",
       "\\item[421] -0.0387790675301581\n",
       "\\item[422] -0.204187851212037\n",
       "\\item[423] -0.134575252081496\n",
       "\\item[424] 0.0378738841033413\n",
       "\\item[425] 0.0304052109105945\n",
       "\\item[426] 0.0797735768885605\n",
       "\\item[427] 0.00615952947075186\n",
       "\\item[428] -0.0228719898817978\n",
       "\\item[429] 0.0977322491684675\n",
       "\\item[430] -0.000317996850093478\n",
       "\\item[431] 0.0972646963912878\n",
       "\\item[432] 0.0972775173458114\n",
       "\\item[433] 0.0615691809936709\n",
       "\\item[434] -0.164674114044312\n",
       "\\item[435] -0.248728169513181\n",
       "\\item[436] -0.181848441548898\n",
       "\\item[437] -0.0594117372111679\n",
       "\\item[438] -0.0836708639896787\n",
       "\\item[439] -0.224644230543855\n",
       "\\item[440] -0.0870843646319042\n",
       "\\item[441] 0.199512739706286\n",
       "\\item[442] 0.00616892304320668\n",
       "\\item[443] 0.0861084057623044\n",
       "\\item[444] -0.0991876981116868\n",
       "\\item[445] -0.119426751883613\n",
       "\\item[446] -0.0210747442157529\n",
       "\\item[447] -0.134032680040379\n",
       "\\item[448] -0.0693813493815651\n",
       "\\item[449] -0.079158260416643\n",
       "\\item[450] -0.0958683133865149\n",
       "\\item[451] -0.0321344307029858\n",
       "\\item[452] -0.311391853495515\n",
       "\\item[453] 0.128410666086018\n",
       "\\item[454] 0.16754184055533\n",
       "\\item[455] 0.0463150822788732\n",
       "\\item[456] -0.185903228062838\n",
       "\\item[457] 0.194825636485686\n",
       "\\item[458] 0.224783824026478\n",
       "\\item[459] -0.213114286041097\n",
       "\\item[460] -0.0304498672997934\n",
       "\\item[461] 0.0551010157833758\n",
       "\\item[462] -0.148489826415217\n",
       "\\item[463] -0.166788954902759\n",
       "\\item[464] 0.0622312049004353\n",
       "\\item[465] 0.0272514860044085\n",
       "\\item[466] -0.121685619094818\n",
       "\\item[467] -0.107811720031614\n",
       "\\item[468] 0.0203724767268182\n",
       "\\item[469] -0.00877117598470274\n",
       "\\item[470] 0.0352472474215654\n",
       "\\item[471] -0.185131749835796\n",
       "\\item[472] -0.151946200850142\n",
       "\\item[473] -0.195538473163726\n",
       "\\item[474] 0.0845018738069556\n",
       "\\item[475] -0.0266350132972292\n",
       "\\item[476] 0.0829795444599974\n",
       "\\item[477] -0.0631424150480992\n",
       "\\item[478] 0.209199315387054\n",
       "\\item[479] 0.00516253788840564\n",
       "\\item[480] -0.0081360663203271\n",
       "\\item[481] -0.061688420955766\n",
       "\\item[482] 0.164637444696933\n",
       "\\item[483] 0.0807723111384808\n",
       "\\item[484] -0.134790244581028\n",
       "\\item[485] 0.0429005543784247\n",
       "\\item[486] 0.10491091889003\n",
       "\\item[487] -0.155666085115843\n",
       "\\item[488] -0.103560917533927\n",
       "\\item[489] -0.0187336834219478\n",
       "\\item[490] 0.0310705082131133\n",
       "\\item[491] -0.201528805153887\n",
       "\\item[492] 0.174407274257858\n",
       "\\item[493] -0.371476636068647\n",
       "\\item[494] 0.0853967584269436\n",
       "\\item[495] 0.0320267798334638\n",
       "\\item[496] 0.054260069641152\n",
       "\\item[497] -0.07138511718818\n",
       "\\item[498] 0.180191015985434\n",
       "\\item[499] 0.0207408146113287\n",
       "\\item[500] 0.0556540916765657\n",
       "\\item[501] 0.213913240717572\n",
       "\\item[502] -0.0922242734116404\n",
       "\\item[503] 0.178144434874327\n",
       "\\item[504] 0.0663020415431359\n",
       "\\item[505] 0.194481431886595\n",
       "\\item[506] -0.147258768570389\n",
       "\\item[507] 0.208379010193261\n",
       "\\item[508] 0.0257432339854689\n",
       "\\item[509] -0.0963520733616594\n",
       "\\item[510] 0.232884608499802\n",
       "\\item[511] -0.107016255860472\n",
       "\\item[512] 0.0271279308347359\n",
       "\\item[513] 0.0726815226854908\n",
       "\\item[514] -0.236311755346893\n",
       "\\item[515] 0.229043430574061\n",
       "\\item[516] -0.271242101390348\n",
       "\\item[517] -0.243681496493982\n",
       "\\item[518] 0.0208441079635225\n",
       "\\item[519] -0.145067693837615\n",
       "\\item[520] -0.253875056999684\n",
       "\\item[521] 0.0413985477736161\n",
       "\\item[522] -0.304873302648311\n",
       "\\item[523] 0.110689232157988\n",
       "\\item[524] -0.29797604886054\n",
       "\\item[525] -0.0357147657020326\n",
       "\\item[526] 0.156399627265875\n",
       "\\item[527] -0.037397541696338\n",
       "\\item[528] 0.279800850239262\n",
       "\\item[529] -0.231803380821472\n",
       "\\item[530] -0.0923844738917061\n",
       "\\item[531] 0.072882705976404\n",
       "\\item[532] 0.208020021463644\n",
       "\\item[533] 0.0910301420439576\n",
       "\\item[534] 0.182533070837005\n",
       "\\item[535] 0.0351505423775602\n",
       "\\item[536] 0.106900534509638\n",
       "\\item[537] -0.28515137408554\n",
       "\\item[538] -0.302829229720972\n",
       "\\item[539] 0.291590414325057\n",
       "\\item[540] -0.195532374284041\n",
       "\\item[541] -0.122056327453419\n",
       "\\item[542] 0.110658466318829\n",
       "\\item[543] 0.170584718928239\n",
       "\\item[544] 0.0313297893789493\n",
       "\\item[545] 0.125942138455955\n",
       "\\item[546] -0.0712836090159924\n",
       "\\item[547] -0.101899024085442\n",
       "\\item[548] 0.105841007905765\n",
       "\\item[549] 0.128120410444901\n",
       "\\item[550] 0.0795669328238849\n",
       "\\item[551] -0.150223305109757\n",
       "\\item[552] -0.0328027398793204\n",
       "\\item[553] 0.138910629838536\n",
       "\\item[554] 0.150190154409644\n",
       "\\item[555] 0.103289967101229\n",
       "\\item[556] -0.224099277800949\n",
       "\\item[557] 0.0362166085249254\n",
       "\\item[558] -0.0455696408061997\n",
       "\\item[559] 0.0710827182094496\n",
       "\\item[560] -0.115224086704286\n",
       "\\item[561] 0.0696582909513425\n",
       "\\item[562] 0.146829016166073\n",
       "\\item[563] 0.109294641272334\n",
       "\\item[564] 0.0228527137475962\n",
       "\\item[565] 0.0137229414457569\n",
       "\\item[566] -0.0249007665596703\n",
       "\\item[567] 0.199685208275725\n",
       "\\item[568] -0.131688931366532\n",
       "\\item[569] -0.0787233957866189\n",
       "\\item[570] -0.0375768864973311\n",
       "\\item[571] 0.0832888751078372\n",
       "\\item[572] -0.0631207212436203\n",
       "\\item[573] -0.0635888860461787\n",
       "\\item[574] 0.0132290419212563\n",
       "\\item[575] 0.128874190619437\n",
       "\\item[576] 0.367611461806808\n",
       "\\item[577] 0.0230525332828663\n",
       "\\item[578] 0.0722427774736382\n",
       "\\item[579] -0.092093096055415\n",
       "\\item[580] 0.174343760306816\n",
       "\\item[581] -0.0358475203396822\n",
       "\\item[582] -0.311650729208886\n",
       "\\item[583] 0.00956477786938339\n",
       "\\item[584] -0.102365021805289\n",
       "\\item[585] 0.250920345620243\n",
       "\\item[586] 0.0526489567659596\n",
       "\\item[587] 0.121645745856028\n",
       "\\item[588] 0.0234304450816363\n",
       "\\item[589] 0.0186575668889858\n",
       "\\item[590] 0.1503029062726\n",
       "\\item[591] 0.0856666934586731\n",
       "\\item[592] -0.198291152353172\n",
       "\\item[593] 0.159263170214705\n",
       "\\item[594] 0.260096233201791\n",
       "\\item[595] 0.211485628596748\n",
       "\\item[596] 0.125922929149875\n",
       "\\item[597] 0.0724318510381702\n",
       "\\item[598] -0.0516898998275576\n",
       "\\item[599] -0.0232177947658495\n",
       "\\item[600] 0.0923464182335495\n",
       "\\item[601] -0.139333705788411\n",
       "\\item[602] 0.000867495013992591\n",
       "\\item[603] 0.0792812458579623\n",
       "\\item[604] 0.241136493615626\n",
       "\\item[605] 0.180730186612034\n",
       "\\item[606] -0.0335781242217244\n",
       "\\item[607] 0.320943112510856\n",
       "\\item[608] 0.0973186117211234\n",
       "\\item[609] 0.0973186117211234\n",
       "\\item[610] -0.0142101059467403\n",
       "\\item[611] -0.19658916582017\n",
       "\\item[612] -0.0758080709148946\n",
       "\\item[613] -0.428377950468305\n",
       "\\item[614] 0.155691223477499\n",
       "\\item[615] 0.00389807886341247\n",
       "\\item[616] -0.357188799955096\n",
       "\\item[617] -0.105191970137736\n",
       "\\item[618] -0.226533557171211\n",
       "\\item[619] -0.239744041806662\n",
       "\\item[620] 0.000271742759333197\n",
       "\\item[621] 0.038800830950685\n",
       "\\item[622] -0.199820978569998\n",
       "\\item[623] -0.0892817376275101\n",
       "\\item[624] -0.0788849829727551\n",
       "\\item[625] -0.0145197309896262\n",
       "\\item[626] -0.0524323094250566\n",
       "\\item[627] -0.0499488365928827\n",
       "\\item[628] -0.0206365663311051\n",
       "\\item[629] -0.0625276803504394\n",
       "\\item[630] 0.0689519405173361\n",
       "\\item[631] -0.337167741774075\n",
       "\\item[632] -0.0223531834995562\n",
       "\\item[633] 0.1562577994659\n",
       "\\item[634] -0.331173437522035\n",
       "\\item[635] -0.0231452564101544\n",
       "\\item[636] -0.0791745487281944\n",
       "\\item[637] 0.306005901095899\n",
       "\\item[638] 0.270124754632878\n",
       "\\item[639] 0.101284683782861\n",
       "\\item[640] -0.368777197363159\n",
       "\\item[641] 0.284089430201566\n",
       "\\item[642] 0.141121778021586\n",
       "\\item[643] -0.0724852851936993\n",
       "\\item[644] 0.0987560521962457\n",
       "\\item[645] 0.0154281149954427\n",
       "\\item[646] 0.0768469695235026\n",
       "\\item[647] 0.170846896849291\n",
       "\\item[648] -0.018478413691852\n",
       "\\item[649] 0.0158865965758684\n",
       "\\item[650] 0.0887586550415675\n",
       "\\item[651] -0.178575407377839\n",
       "\\item[652] -0.164207140025181\n",
       "\\item[653] 0.0800251382351464\n",
       "\\item[654] 0.00518659921779929\n",
       "\\end{description*}\n"
      ],
      "text/markdown": [
       "1\n",
       ":   -0.02524369578151382\n",
       ":   -0.3792931228194833\n",
       ":   -0.1066218395738294\n",
       ":   0.1248355134676535\n",
       ":   0.2089799686813916\n",
       ":   0.1027030888104257\n",
       ":   0.1610983454564288\n",
       ":   0.01604057483180169\n",
       ":   0.066540683437181510\n",
       ":   -0.021510194685552911\n",
       ":   -0.01782142463788812\n",
       ":   -0.17644972388644113\n",
       ":   -0.22471646485627514\n",
       ":   0.11840551267775415\n",
       ":   0.17745529723317816\n",
       ":   0.10758175638063317\n",
       ":   0.079156723915533718\n",
       ":   0.030862714556577519\n",
       ":   -0.63277623138338620\n",
       ":   -0.19178474662037521\n",
       ":   -0.044366076397790222\n",
       ":   0.013807190227195223\n",
       ":   0.041771728854558124\n",
       ":   -0.10913227784990825\n",
       ":   -0.12680021651232326\n",
       ":   0.0067509255977865527\n",
       ":   0.1657054577376928\n",
       ":   0.077240803352331329\n",
       ":   0.063180817784032730\n",
       ":   0.006722802619171731\n",
       ":   -0.02123151478620632\n",
       ":   0.035468468841712533\n",
       ":   -0.12156311999913534\n",
       ":   0.17139787691898535\n",
       ":   -0.24575975893805236\n",
       ":   -0.026676650997604137\n",
       ":   0.069579314684428438\n",
       ":   0.051917414569780139\n",
       ":   -0.0791901049549340\n",
       ":   0.16318351516894841\n",
       ":   0.19361608404632242\n",
       ":   0.057917455728334343\n",
       ":   -0.16215750033517944\n",
       ":   0.073084443480869645\n",
       ":   -0.15156379315929746\n",
       ":   -0.0059563969928769447\n",
       ":   -0.0097585295999759648\n",
       ":   -0.022631732536182249\n",
       ":   0.05059245697053250\n",
       ":   -0.013864926987393651\n",
       ":   -0.25866997508278352\n",
       ":   -0.078784473086709353\n",
       ":   -0.10568528578141854\n",
       ":   0.26843319766297455\n",
       ":   -0.090709728033388156\n",
       ":   0.08808947595345357\n",
       ":   0.080481260461370458\n",
       ":   -0.25694608607008159\n",
       ":   0.058128256053653460\n",
       ":   0.013676493482819561\n",
       ":   -0.051106617844180462\n",
       ":   0.15933268364850763\n",
       ":   0.23970045715073664\n",
       ":   -0.16823209797485565\n",
       ":   0.095894571730287966\n",
       ":   -0.21228915646205567\n",
       ":   0.095696237440519768\n",
       ":   -0.19422821421898669\n",
       ":   -0.097843073060081570\n",
       ":   -0.034054234244372671\n",
       ":   -0.3721303204475672\n",
       ":   -0.049124487165370873\n",
       ":   0.031585443218490174\n",
       ":   -0.024421503350874275\n",
       ":   0.16469548624204176\n",
       ":   -0.17440631340557577\n",
       ":   -0.003238205896083878\n",
       ":   0.20335918577077879\n",
       ":   0.10460570808355980\n",
       ":   -0.055888643897666981\n",
       ":   -0.060027226720007582\n",
       ":   0.038617279146063883\n",
       ":   -0.17003982598569484\n",
       ":   -0.30453476453348785\n",
       ":   0.0089775797534813786\n",
       ":   -0.23918909853507787\n",
       ":   -0.0095844381065781388\n",
       ":   0.079960806333694789\n",
       ":   0.18095107823654290\n",
       ":   -0.026309426904664391\n",
       ":   0.2810764267351992\n",
       ":   0.17235456337465993\n",
       ":   0.097814830927540894\n",
       ":   -0.015594470285024295\n",
       ":   0.059609321748232496\n",
       ":   -0.083781475018717297\n",
       ":   0.034162656087068198\n",
       ":   0.01833342022917299\n",
       ":   -0.00520259781109981100\n",
       ":   0.0457053483667627101\n",
       ":   0.00417113933809884102\n",
       ":   -0.0473624837570076103\n",
       ":   -0.0925098155799283104\n",
       ":   -0.0284979808389291105\n",
       ":   0.0787432168334418106\n",
       ":   -0.176560997558439107\n",
       ":   0.157041988103567108\n",
       ":   -0.0325898859446452109\n",
       ":   -0.00182597214414418110\n",
       ":   -0.168347247810819111\n",
       ":   -0.587168119002801112\n",
       ":   0.0712967706667884113\n",
       ":   -0.0285927474755496114\n",
       ":   -0.0181590997942312115\n",
       ":   -0.170523625315394116\n",
       ":   0.0245962446218698117\n",
       ":   0.135720464996446118\n",
       ":   -0.241483971326123119\n",
       ":   -0.253497999654681120\n",
       ":   0.0456375333995478121\n",
       ":   -0.0895693094505358122\n",
       ":   0.0448818333116579123\n",
       ":   -0.0323979837277116124\n",
       ":   -0.0353163189503532125\n",
       ":   0.136385669016141126\n",
       ":   -0.113912499014698127\n",
       ":   -0.143288484042477128\n",
       ":   0.0270053665415832129\n",
       ":   -0.0325943057582864130\n",
       ":   0.175961229491738131\n",
       ":   -0.170515717797511132\n",
       ":   -0.0922967429372667133\n",
       ":   0.30839508641824134\n",
       ":   0.213435722263891135\n",
       ":   0.0638926735798399136\n",
       ":   0.0843752763273485137\n",
       ":   0.0898291270098122138\n",
       ":   0.0967977963259056139\n",
       ":   0.0243502424767996140\n",
       ":   0.130119643060743141\n",
       ":   0.20980476088602142\n",
       ":   -0.0056103954705668143\n",
       ":   -0.336528877209089144\n",
       ":   0.0475383364015972145\n",
       ":   0.162707889991673146\n",
       ":   -0.241859107058597147\n",
       ":   0.0077786028696713148\n",
       ":   0.0846975396290435149\n",
       ":   0.0945274902554155150\n",
       ":   -0.0951445840978808151\n",
       ":   -0.0943400788252052152\n",
       ":   -0.30995143096669153\n",
       ":   0.0463912346291409154\n",
       ":   0.122099570191871155\n",
       ":   0.0215063722007137156\n",
       ":   -0.128750438869767157\n",
       ":   -0.352168300979827158\n",
       ":   0.0389004926550782159\n",
       ":   0.00499894097939677160\n",
       ":   0.0389004926550782161\n",
       ":   0.0429882895589715162\n",
       ":   0.30544837107487163\n",
       ":   0.194597947547234164\n",
       ":   0.0602681516866872165\n",
       ":   0.257520289068155166\n",
       ":   0.0452397054746883167\n",
       ":   -0.0220539302593034168\n",
       ":   0.0711191155540114169\n",
       ":   0.161185372488087170\n",
       ":   -0.0731761755054782171\n",
       ":   0.151103590588137172\n",
       ":   0.23065397641522173\n",
       ":   0.112436544464119174\n",
       ":   0.0455845431198239175\n",
       ":   0.18366287439989176\n",
       ":   0.0570909102018144177\n",
       ":   -0.146628541089619178\n",
       ":   -0.0642791772058005179\n",
       ":   -0.0670009148716904180\n",
       ":   0.123836226777699181\n",
       ":   -0.181653489991398182\n",
       ":   0.0214874968009704183\n",
       ":   0.0648260072765261184\n",
       ":   0.00825824762743952185\n",
       ":   -0.167278952771097186\n",
       ":   -0.0206897698934033187\n",
       ":   0.0144990237905551188\n",
       ":   0.00249201847683133189\n",
       ":   0.0744715098393147190\n",
       ":   0.134946539551415191\n",
       ":   0.0183394957081573192\n",
       ":   0.150510919472816193\n",
       ":   -0.141600580899404194\n",
       ":   -0.0642955866554724195\n",
       ":   -0.0755838752523972196\n",
       ":   0.160716664922426197\n",
       ":   0.043967178358606198\n",
       ":   0.00152378708857207199\n",
       ":   -0.033648920658338200\n",
       ":   -0.110484084587515201\n",
       ":   0.123307754612363202\n",
       ":   -0.0499094415301183203\n",
       ":   0.0708457600050221204\n",
       ":   0.0181334479508655205\n",
       ":   0.0512180907883744206\n",
       ":   -0.0472097844485364207\n",
       ":   -0.0291918248027496208\n",
       ":   0.144651113135653209\n",
       ":   -0.0623819779035618210\n",
       ":   -0.27654733500906211\n",
       ":   0.171717627759296212\n",
       ":   -0.0682174350386233213\n",
       ":   0.196211726518473214\n",
       ":   0.0500805780840823215\n",
       ":   0.204847853847114216\n",
       ":   0.0967230369203076217\n",
       ":   0.200834997545343218\n",
       ":   -0.137170981707818219\n",
       ":   -0.103330954601487220\n",
       ":   0.0365547497908162221\n",
       ":   0.0693226978139496222\n",
       ":   0.147556408545972223\n",
       ":   -0.0957272171005438224\n",
       ":   0.0798096270015406225\n",
       ":   0.220209139622157226\n",
       ":   0.191967483689185227\n",
       ":   -0.0646644165938181228\n",
       ":   0.222810766439619229\n",
       ":   -0.115451495943756230\n",
       ":   -0.0515437707948327231\n",
       ":   0.0636276154272528232\n",
       ":   0.234670088208648233\n",
       ":   0.062930022095859234\n",
       ":   0.12022411720134235\n",
       ":   -0.0539525266022695236\n",
       ":   0.0113730065669726237\n",
       ":   -0.0208186143626409238\n",
       ":   -0.0892663781773318239\n",
       ":   -0.0853813694058705240\n",
       ":   -0.0418530707314599241\n",
       ":   0.0713977460953671242\n",
       ":   0.044764575655673243\n",
       ":   -0.0146684638159374244\n",
       ":   0.156071862175015245\n",
       ":   0.0286019571004099246\n",
       ":   -0.141349007379794247\n",
       ":   0.118404289546977248\n",
       ":   0.0664975945821482249\n",
       ":   0.0190218123705826250\n",
       ":   0.0241534259810328251\n",
       ":   0.173962488356825252\n",
       ":   -0.0189275610043995253\n",
       ":   0.126438289267126254\n",
       ":   0.0230076909373334255\n",
       ":   0.0609365611146747256\n",
       ":   -0.160490532219569257\n",
       ":   0.261634548898962258\n",
       ":   0.196956255589803259\n",
       ":   0.0474835188977132260\n",
       ":   -0.269344209212161261\n",
       ":   0.0401127765345503262\n",
       ":   -0.0257632960114169263\n",
       ":   0.0502723618047977264\n",
       ":   0.024840727955046265\n",
       ":   0.0310627676397063266\n",
       ":   -0.0459866333482873267\n",
       ":   -0.0461394192320297268\n",
       ":   -0.0284369190432894269\n",
       ":   -0.490547466741582270\n",
       ":   -0.0427268372778429271\n",
       ":   -0.176857344960273272\n",
       ":   -0.0861475843336143273\n",
       ":   -0.162460504132099274\n",
       ":   -0.0561726394898774275\n",
       ":   -0.0176320155275355276\n",
       ":   0.145839591762642277\n",
       ":   0.00365205960403104278\n",
       ":   -0.111721326206715279\n",
       ":   -0.234716181448984280\n",
       ":   -0.0201406506780578281\n",
       ":   -0.418428212826644282\n",
       ":   -0.22907588741431283\n",
       ":   0.177405739862905284\n",
       ":   0.0445753197484014285\n",
       ":   0.407008111939958286\n",
       ":   -0.056695459886755287\n",
       ":   0.189521155016738288\n",
       ":   -0.011900573150636289\n",
       ":   0.272677513363554290\n",
       ":   0.134830578369632291\n",
       ":   -0.0128831235329404292\n",
       ":   0.0083886739931994293\n",
       ":   0.149066572848492294\n",
       ":   0.12785283199283295\n",
       ":   0.166983507936484296\n",
       ":   0.0147977219394371297\n",
       ":   -0.00587198434735755298\n",
       ":   0.149339298272591299\n",
       ":   0.00873129916238992300\n",
       ":   0.0115383185493739301\n",
       ":   0.1514144104017302\n",
       ":   -0.0498562028634472303\n",
       ":   0.0552646438042465304\n",
       ":   0.00132320157429648305\n",
       ":   0.0594000513119325306\n",
       ":   -0.0491183606937016307\n",
       ":   0.12970439524258308\n",
       ":   -0.202645319721639309\n",
       ":   -0.19519926893756310\n",
       ":   0.0455917991902277311\n",
       ":   0.0314987884887677312\n",
       ":   -0.0455860739848217313\n",
       ":   -0.00657722773283778314\n",
       ":   -0.0786375715051008315\n",
       ":   -0.0382520358555263316\n",
       ":   0.0603830182078815317\n",
       ":   0.100233751965438318\n",
       ":   -0.128502300753063319\n",
       ":   0.129847045788946320\n",
       ":   -0.107712674324789321\n",
       ":   0.170510864850495322\n",
       ":   -0.248872030403308323\n",
       ":   0.14134724047813324\n",
       ":   -0.0115964385990933325\n",
       ":   0.230575477026268326\n",
       ":   0.0436092300429886327\n",
       ":   -0.0751120425676674328\n",
       ":   -0.0598352407296918329\n",
       ":   0.160758063285765330\n",
       ":   -0.0828165117513546331\n",
       ":   0.194256570648346332\n",
       ":   -0.017238103422103333\n",
       ":   -0.063939057770486334\n",
       ":   0.0702908052323666335\n",
       ":   0.290497496873267336\n",
       ":   0.11287078438352337\n",
       ":   -0.0146685707548565338\n",
       ":   -0.18951811271011339\n",
       ":   -0.232934441594667340\n",
       ":   0.00310168360413809341\n",
       ":   0.0663197555972057342\n",
       ":   -0.0867054317083181343\n",
       ":   0.134812513263728344\n",
       ":   0.0232454137527057345\n",
       ":   0.0369835107875491346\n",
       ":   -0.0247825439196876347\n",
       ":   0.0241497565587037348\n",
       ":   -0.0557034674572311349\n",
       ":   -0.032384084792852350\n",
       ":   0.143673900571731351\n",
       ":   -0.0723979910086018352\n",
       ":   -0.0203416290525487353\n",
       ":   0.101844295226815354\n",
       ":   -0.205505213273607355\n",
       ":   -0.180220235769137356\n",
       ":   0.0719474348843525357\n",
       ":   -0.00731149073123325358\n",
       ":   0.0321322740275332359\n",
       ":   -0.163974337737163360\n",
       ":   -0.275461293585617361\n",
       ":   -0.0166336819539279362\n",
       ":   -0.0378145040333748363\n",
       ":   0.0253852008001734364\n",
       ":   0.122433755662002365\n",
       ":   0.088427387676807366\n",
       ":   0.204511866697609367\n",
       ":   -0.376201860726294368\n",
       ":   0.00589935277432027369\n",
       ":   0.0599048115559669370\n",
       ":   0.0801434601691031371\n",
       ":   0.0863970970021345372\n",
       ":   -0.134682470091224373\n",
       ":   0.169993558891695374\n",
       ":   0.169993558891695375\n",
       ":   -0.13013131258188376\n",
       ":   0.0711784188706139377\n",
       ":   -0.0873360494402986378\n",
       ":   -0.111091879479682379\n",
       ":   0.143469815049647380\n",
       ":   0.124625732594926381\n",
       ":   -0.17510869727098382\n",
       ":   -0.0510635866966522383\n",
       ":   0.0840265140659807384\n",
       ":   -0.120579975632682385\n",
       ":   -0.130976394502861386\n",
       ":   -0.0959472405266774387\n",
       ":   0.208739819846061388\n",
       ":   0.148601461107528389\n",
       ":   0.0157782002250951390\n",
       ":   -0.109762550587641391\n",
       ":   -0.0508964692926183392\n",
       ":   -0.217774814752309393\n",
       ":   -0.226686735461432394\n",
       ":   -0.040893115872915395\n",
       ":   0.033984048499726396\n",
       ":   0.034508372985399397\n",
       ":   0.181710771064226398\n",
       ":   0.0781834364880606399\n",
       ":   -0.10499148557174400\n",
       ":   0.247415992467501401\n",
       ":   0.188534720634191402\n",
       ":   -0.00998954408008868403\n",
       ":   0.13523850733996404\n",
       ":   -0.0915950850617035405\n",
       ":   -0.24566874998654406\n",
       ":   0.0593435877403352407\n",
       ":   -0.154508375239775408\n",
       ":   -0.119711711393612409\n",
       ":   -0.104347649568868410\n",
       ":   0.0293015948079484411\n",
       ":   0.0502029827225082412\n",
       ":   -0.155326768083921413\n",
       ":   0.0717812009058363414\n",
       ":   -0.0288060359993324415\n",
       ":   0.113589091310005416\n",
       ":   0.319491293615805417\n",
       ":   -0.194902744116097418\n",
       ":   -0.235215304293379419\n",
       ":   0.0797598522074364420\n",
       ":   -0.0410554363921561421\n",
       ":   -0.0387790675301581422\n",
       ":   -0.204187851212037423\n",
       ":   -0.134575252081496424\n",
       ":   0.0378738841033413425\n",
       ":   0.0304052109105945426\n",
       ":   0.0797735768885605427\n",
       ":   0.00615952947075186428\n",
       ":   -0.0228719898817978429\n",
       ":   0.0977322491684675430\n",
       ":   -0.000317996850093478431\n",
       ":   0.0972646963912878432\n",
       ":   0.0972775173458114433\n",
       ":   0.0615691809936709434\n",
       ":   -0.164674114044312435\n",
       ":   -0.248728169513181436\n",
       ":   -0.181848441548898437\n",
       ":   -0.0594117372111679438\n",
       ":   -0.0836708639896787439\n",
       ":   -0.224644230543855440\n",
       ":   -0.0870843646319042441\n",
       ":   0.199512739706286442\n",
       ":   0.00616892304320668443\n",
       ":   0.0861084057623044444\n",
       ":   -0.0991876981116868445\n",
       ":   -0.119426751883613446\n",
       ":   -0.0210747442157529447\n",
       ":   -0.134032680040379448\n",
       ":   -0.0693813493815651449\n",
       ":   -0.079158260416643450\n",
       ":   -0.0958683133865149451\n",
       ":   -0.0321344307029858452\n",
       ":   -0.311391853495515453\n",
       ":   0.128410666086018454\n",
       ":   0.16754184055533455\n",
       ":   0.0463150822788732456\n",
       ":   -0.185903228062838457\n",
       ":   0.194825636485686458\n",
       ":   0.224783824026478459\n",
       ":   -0.213114286041097460\n",
       ":   -0.0304498672997934461\n",
       ":   0.0551010157833758462\n",
       ":   -0.148489826415217463\n",
       ":   -0.166788954902759464\n",
       ":   0.0622312049004353465\n",
       ":   0.0272514860044085466\n",
       ":   -0.121685619094818467\n",
       ":   -0.107811720031614468\n",
       ":   0.0203724767268182469\n",
       ":   -0.00877117598470274470\n",
       ":   0.0352472474215654471\n",
       ":   -0.185131749835796472\n",
       ":   -0.151946200850142473\n",
       ":   -0.195538473163726474\n",
       ":   0.0845018738069556475\n",
       ":   -0.0266350132972292476\n",
       ":   0.0829795444599974477\n",
       ":   -0.0631424150480992478\n",
       ":   0.209199315387054479\n",
       ":   0.00516253788840564480\n",
       ":   -0.0081360663203271481\n",
       ":   -0.061688420955766482\n",
       ":   0.164637444696933483\n",
       ":   0.0807723111384808484\n",
       ":   -0.134790244581028485\n",
       ":   0.0429005543784247486\n",
       ":   0.10491091889003487\n",
       ":   -0.155666085115843488\n",
       ":   -0.103560917533927489\n",
       ":   -0.0187336834219478490\n",
       ":   0.0310705082131133491\n",
       ":   -0.201528805153887492\n",
       ":   0.174407274257858493\n",
       ":   -0.371476636068647494\n",
       ":   0.0853967584269436495\n",
       ":   0.0320267798334638496\n",
       ":   0.054260069641152497\n",
       ":   -0.07138511718818498\n",
       ":   0.180191015985434499\n",
       ":   0.0207408146113287500\n",
       ":   0.0556540916765657501\n",
       ":   0.213913240717572502\n",
       ":   -0.0922242734116404503\n",
       ":   0.178144434874327504\n",
       ":   0.0663020415431359505\n",
       ":   0.194481431886595506\n",
       ":   -0.147258768570389507\n",
       ":   0.208379010193261508\n",
       ":   0.0257432339854689509\n",
       ":   -0.0963520733616594510\n",
       ":   0.232884608499802511\n",
       ":   -0.107016255860472512\n",
       ":   0.0271279308347359513\n",
       ":   0.0726815226854908514\n",
       ":   -0.236311755346893515\n",
       ":   0.229043430574061516\n",
       ":   -0.271242101390348517\n",
       ":   -0.243681496493982518\n",
       ":   0.0208441079635225519\n",
       ":   -0.145067693837615520\n",
       ":   -0.253875056999684521\n",
       ":   0.0413985477736161522\n",
       ":   -0.304873302648311523\n",
       ":   0.110689232157988524\n",
       ":   -0.29797604886054525\n",
       ":   -0.0357147657020326526\n",
       ":   0.156399627265875527\n",
       ":   -0.037397541696338528\n",
       ":   0.279800850239262529\n",
       ":   -0.231803380821472530\n",
       ":   -0.0923844738917061531\n",
       ":   0.072882705976404532\n",
       ":   0.208020021463644533\n",
       ":   0.0910301420439576534\n",
       ":   0.182533070837005535\n",
       ":   0.0351505423775602536\n",
       ":   0.106900534509638537\n",
       ":   -0.28515137408554538\n",
       ":   -0.302829229720972539\n",
       ":   0.291590414325057540\n",
       ":   -0.195532374284041541\n",
       ":   -0.122056327453419542\n",
       ":   0.110658466318829543\n",
       ":   0.170584718928239544\n",
       ":   0.0313297893789493545\n",
       ":   0.125942138455955546\n",
       ":   -0.0712836090159924547\n",
       ":   -0.101899024085442548\n",
       ":   0.105841007905765549\n",
       ":   0.128120410444901550\n",
       ":   0.0795669328238849551\n",
       ":   -0.150223305109757552\n",
       ":   -0.0328027398793204553\n",
       ":   0.138910629838536554\n",
       ":   0.150190154409644555\n",
       ":   0.103289967101229556\n",
       ":   -0.224099277800949557\n",
       ":   0.0362166085249254558\n",
       ":   -0.0455696408061997559\n",
       ":   0.0710827182094496560\n",
       ":   -0.115224086704286561\n",
       ":   0.0696582909513425562\n",
       ":   0.146829016166073563\n",
       ":   0.109294641272334564\n",
       ":   0.0228527137475962565\n",
       ":   0.0137229414457569566\n",
       ":   -0.0249007665596703567\n",
       ":   0.199685208275725568\n",
       ":   -0.131688931366532569\n",
       ":   -0.0787233957866189570\n",
       ":   -0.0375768864973311571\n",
       ":   0.0832888751078372572\n",
       ":   -0.0631207212436203573\n",
       ":   -0.0635888860461787574\n",
       ":   0.0132290419212563575\n",
       ":   0.128874190619437576\n",
       ":   0.367611461806808577\n",
       ":   0.0230525332828663578\n",
       ":   0.0722427774736382579\n",
       ":   -0.092093096055415580\n",
       ":   0.174343760306816581\n",
       ":   -0.0358475203396822582\n",
       ":   -0.311650729208886583\n",
       ":   0.00956477786938339584\n",
       ":   -0.102365021805289585\n",
       ":   0.250920345620243586\n",
       ":   0.0526489567659596587\n",
       ":   0.121645745856028588\n",
       ":   0.0234304450816363589\n",
       ":   0.0186575668889858590\n",
       ":   0.1503029062726591\n",
       ":   0.0856666934586731592\n",
       ":   -0.198291152353172593\n",
       ":   0.159263170214705594\n",
       ":   0.260096233201791595\n",
       ":   0.211485628596748596\n",
       ":   0.125922929149875597\n",
       ":   0.0724318510381702598\n",
       ":   -0.0516898998275576599\n",
       ":   -0.0232177947658495600\n",
       ":   0.0923464182335495601\n",
       ":   -0.139333705788411602\n",
       ":   0.000867495013992591603\n",
       ":   0.0792812458579623604\n",
       ":   0.241136493615626605\n",
       ":   0.180730186612034606\n",
       ":   -0.0335781242217244607\n",
       ":   0.320943112510856608\n",
       ":   0.0973186117211234609\n",
       ":   0.0973186117211234610\n",
       ":   -0.0142101059467403611\n",
       ":   -0.19658916582017612\n",
       ":   -0.0758080709148946613\n",
       ":   -0.428377950468305614\n",
       ":   0.155691223477499615\n",
       ":   0.00389807886341247616\n",
       ":   -0.357188799955096617\n",
       ":   -0.105191970137736618\n",
       ":   -0.226533557171211619\n",
       ":   -0.239744041806662620\n",
       ":   0.000271742759333197621\n",
       ":   0.038800830950685622\n",
       ":   -0.199820978569998623\n",
       ":   -0.0892817376275101624\n",
       ":   -0.0788849829727551625\n",
       ":   -0.0145197309896262626\n",
       ":   -0.0524323094250566627\n",
       ":   -0.0499488365928827628\n",
       ":   -0.0206365663311051629\n",
       ":   -0.0625276803504394630\n",
       ":   0.0689519405173361631\n",
       ":   -0.337167741774075632\n",
       ":   -0.0223531834995562633\n",
       ":   0.1562577994659634\n",
       ":   -0.331173437522035635\n",
       ":   -0.0231452564101544636\n",
       ":   -0.0791745487281944637\n",
       ":   0.306005901095899638\n",
       ":   0.270124754632878639\n",
       ":   0.101284683782861640\n",
       ":   -0.368777197363159641\n",
       ":   0.284089430201566642\n",
       ":   0.141121778021586643\n",
       ":   -0.0724852851936993644\n",
       ":   0.0987560521962457645\n",
       ":   0.0154281149954427646\n",
       ":   0.0768469695235026647\n",
       ":   0.170846896849291648\n",
       ":   -0.018478413691852649\n",
       ":   0.0158865965758684650\n",
       ":   0.0887586550415675651\n",
       ":   -0.178575407377839652\n",
       ":   -0.164207140025181653\n",
       ":   0.0800251382351464654\n",
       ":   0.00518659921779929\n",
       "\n"
      ],
      "text/plain": [
       "            1             2             3             4             5 \n",
       "-0.0252436958 -0.3792931228 -0.1066218396  0.1248355135  0.2089799687 \n",
       "            6             7             8             9            10 \n",
       " 0.1027030888  0.1610983455  0.0160405748  0.0665406834 -0.0215101947 \n",
       "           11            12            13            14            15 \n",
       "-0.0178214246 -0.1764497239 -0.2247164649  0.1184055127  0.1774552972 \n",
       "           16            17            18            19            20 \n",
       " 0.1075817564  0.0791567239  0.0308627146 -0.6327762314 -0.1917847466 \n",
       "           21            22            23            24            25 \n",
       "-0.0443660764  0.0138071902  0.0417717289 -0.1091322778 -0.1268002165 \n",
       "           26            27            28            29            30 \n",
       " 0.0067509256  0.1657054577  0.0772408034  0.0631808178  0.0067228026 \n",
       "           31            32            33            34            35 \n",
       "-0.0212315148  0.0354684688 -0.1215631200  0.1713978769 -0.2457597589 \n",
       "           36            37            38            39            40 \n",
       "-0.0266766510  0.0695793147  0.0519174146 -0.0791901050  0.1631835152 \n",
       "           41            42            43            44            45 \n",
       " 0.1936160840  0.0579174557 -0.1621575003  0.0730844435 -0.1515637932 \n",
       "           46            47            48            49            50 \n",
       "-0.0059563970 -0.0097585296 -0.0226317325  0.0505924570 -0.0138649270 \n",
       "           51            52            53            54            55 \n",
       "-0.2586699751 -0.0787844731 -0.1056852858  0.2684331977 -0.0907097280 \n",
       "           56            57            58            59            60 \n",
       " 0.0880894760  0.0804812605 -0.2569460861  0.0581282561  0.0136764935 \n",
       "           61            62            63            64            65 \n",
       "-0.0511066178  0.1593326836  0.2397004572 -0.1682320980  0.0958945717 \n",
       "           66            67            68            69            70 \n",
       "-0.2122891565  0.0956962374 -0.1942282142 -0.0978430731 -0.0340542342 \n",
       "           71            72            73            74            75 \n",
       "-0.3721303204 -0.0491244872  0.0315854432 -0.0244215034  0.1646954862 \n",
       "           76            77            78            79            80 \n",
       "-0.1744063134 -0.0032382059  0.2033591858  0.1046057081 -0.0558886439 \n",
       "           81            82            83            84            85 \n",
       "-0.0600272267  0.0386172791 -0.1700398260 -0.3045347645  0.0089775798 \n",
       "           86            87            88            89            90 \n",
       "-0.2391890985 -0.0095844381  0.0799608063  0.1809510782 -0.0263094269 \n",
       "           91            92            93            94            95 \n",
       " 0.2810764267  0.1723545634  0.0978148309 -0.0155944703  0.0596093217 \n",
       "           96            97            98            99           100 \n",
       "-0.0837814750  0.0341626561  0.0183334202 -0.0052025978  0.0457053484 \n",
       "          101           102           103           104           105 \n",
       " 0.0041711393 -0.0473624838 -0.0925098156 -0.0284979808  0.0787432168 \n",
       "          106           107           108           109           110 \n",
       "-0.1765609976  0.1570419881 -0.0325898859 -0.0018259721 -0.1683472478 \n",
       "          111           112           113           114           115 \n",
       "-0.5871681190  0.0712967707 -0.0285927475 -0.0181590998 -0.1705236253 \n",
       "          116           117           118           119           120 \n",
       " 0.0245962446  0.1357204650 -0.2414839713 -0.2534979997  0.0456375334 \n",
       "          121           122           123           124           125 \n",
       "-0.0895693095  0.0448818333 -0.0323979837 -0.0353163190  0.1363856690 \n",
       "          126           127           128           129           130 \n",
       "-0.1139124990 -0.1432884840  0.0270053665 -0.0325943058  0.1759612295 \n",
       "          131           132           133           134           135 \n",
       "-0.1705157178 -0.0922967429  0.3083950864  0.2134357223  0.0638926736 \n",
       "          136           137           138           139           140 \n",
       " 0.0843752763  0.0898291270  0.0967977963  0.0243502425  0.1301196431 \n",
       "          141           142           143           144           145 \n",
       " 0.2098047609 -0.0056103955 -0.3365288772  0.0475383364  0.1627078900 \n",
       "          146           147           148           149           150 \n",
       "-0.2418591071  0.0077786029  0.0846975396  0.0945274903 -0.0951445841 \n",
       "          151           152           153           154           155 \n",
       "-0.0943400788 -0.3099514310  0.0463912346  0.1220995702  0.0215063722 \n",
       "          156           157           158           159           160 \n",
       "-0.1287504389 -0.3521683010  0.0389004927  0.0049989410  0.0389004927 \n",
       "          161           162           163           164           165 \n",
       " 0.0429882896  0.3054483711  0.1945979475  0.0602681517  0.2575202891 \n",
       "          166           167           168           169           170 \n",
       " 0.0452397055 -0.0220539303  0.0711191156  0.1611853725 -0.0731761755 \n",
       "          171           172           173           174           175 \n",
       " 0.1511035906  0.2306539764  0.1124365445  0.0455845431  0.1836628744 \n",
       "          176           177           178           179           180 \n",
       " 0.0570909102 -0.1466285411 -0.0642791772 -0.0670009149  0.1238362268 \n",
       "          181           182           183           184           185 \n",
       "-0.1816534900  0.0214874968  0.0648260073  0.0082582476 -0.1672789528 \n",
       "          186           187           188           189           190 \n",
       "-0.0206897699  0.0144990238  0.0024920185  0.0744715098  0.1349465396 \n",
       "          191           192           193           194           195 \n",
       " 0.0183394957  0.1505109195 -0.1416005809 -0.0642955867 -0.0755838753 \n",
       "          196           197           198           199           200 \n",
       " 0.1607166649  0.0439671784  0.0015237871 -0.0336489207 -0.1104840846 \n",
       "          201           202           203           204           205 \n",
       " 0.1233077546 -0.0499094415  0.0708457600  0.0181334480  0.0512180908 \n",
       "          206           207           208           209           210 \n",
       "-0.0472097844 -0.0291918248  0.1446511131 -0.0623819779 -0.2765473350 \n",
       "          211           212           213           214           215 \n",
       " 0.1717176278 -0.0682174350  0.1962117265  0.0500805781  0.2048478538 \n",
       "          216           217           218           219           220 \n",
       " 0.0967230369  0.2008349975 -0.1371709817 -0.1033309546  0.0365547498 \n",
       "          221           222           223           224           225 \n",
       " 0.0693226978  0.1475564085 -0.0957272171  0.0798096270  0.2202091396 \n",
       "          226           227           228           229           230 \n",
       " 0.1919674837 -0.0646644166  0.2228107664 -0.1154514959 -0.0515437708 \n",
       "          231           232           233           234           235 \n",
       " 0.0636276154  0.2346700882  0.0629300221  0.1202241172 -0.0539525266 \n",
       "          236           237           238           239           240 \n",
       " 0.0113730066 -0.0208186144 -0.0892663782 -0.0853813694 -0.0418530707 \n",
       "          241           242           243           244           245 \n",
       " 0.0713977461  0.0447645757 -0.0146684638  0.1560718622  0.0286019571 \n",
       "          246           247           248           249           250 \n",
       "-0.1413490074  0.1184042895  0.0664975946  0.0190218124  0.0241534260 \n",
       "          251           252           253           254           255 \n",
       " 0.1739624884 -0.0189275610  0.1264382893  0.0230076909  0.0609365611 \n",
       "          256           257           258           259           260 \n",
       "-0.1604905322  0.2616345489  0.1969562556  0.0474835189 -0.2693442092 \n",
       "          261           262           263           264           265 \n",
       " 0.0401127765 -0.0257632960  0.0502723618  0.0248407280  0.0310627676 \n",
       "          266           267           268           269           270 \n",
       "-0.0459866333 -0.0461394192 -0.0284369190 -0.4905474667 -0.0427268373 \n",
       "          271           272           273           274           275 \n",
       "-0.1768573450 -0.0861475843 -0.1624605041 -0.0561726395 -0.0176320155 \n",
       "          276           277           278           279           280 \n",
       " 0.1458395918  0.0036520596 -0.1117213262 -0.2347161814 -0.0201406507 \n",
       "          281           282           283           284           285 \n",
       "-0.4184282128 -0.2290758874  0.1774057399  0.0445753197  0.4070081119 \n",
       "          286           287           288           289           290 \n",
       "-0.0566954599  0.1895211550 -0.0119005732  0.2726775134  0.1348305784 \n",
       "          291           292           293           294           295 \n",
       "-0.0128831235  0.0083886740  0.1490665728  0.1278528320  0.1669835079 \n",
       "          296           297           298           299           300 \n",
       " 0.0147977219 -0.0058719843  0.1493392983  0.0087312992  0.0115383185 \n",
       "          301           302           303           304           305 \n",
       " 0.1514144104 -0.0498562029  0.0552646438  0.0013232016  0.0594000513 \n",
       "          306           307           308           309           310 \n",
       "-0.0491183607  0.1297043952 -0.2026453197 -0.1951992689  0.0455917992 \n",
       "          311           312           313           314           315 \n",
       " 0.0314987885 -0.0455860740 -0.0065772277 -0.0786375715 -0.0382520359 \n",
       "          316           317           318           319           320 \n",
       " 0.0603830182  0.1002337520 -0.1285023008  0.1298470458 -0.1077126743 \n",
       "          321           322           323           324           325 \n",
       " 0.1705108649 -0.2488720304  0.1413472405 -0.0115964386  0.2305754770 \n",
       "          326           327           328           329           330 \n",
       " 0.0436092300 -0.0751120426 -0.0598352407  0.1607580633 -0.0828165118 \n",
       "          331           332           333           334           335 \n",
       " 0.1942565706 -0.0172381034 -0.0639390578  0.0702908052  0.2904974969 \n",
       "          336           337           338           339           340 \n",
       " 0.1128707844 -0.0146685708 -0.1895181127 -0.2329344416  0.0031016836 \n",
       "          341           342           343           344           345 \n",
       " 0.0663197556 -0.0867054317  0.1348125133  0.0232454138  0.0369835108 \n",
       "          346           347           348           349           350 \n",
       "-0.0247825439  0.0241497566 -0.0557034675 -0.0323840848  0.1436739006 \n",
       "          351           352           353           354           355 \n",
       "-0.0723979910 -0.0203416291  0.1018442952 -0.2055052133 -0.1802202358 \n",
       "          356           357           358           359           360 \n",
       " 0.0719474349 -0.0073114907  0.0321322740 -0.1639743377 -0.2754612936 \n",
       "          361           362           363           364           365 \n",
       "-0.0166336820 -0.0378145040  0.0253852008  0.1224337557  0.0884273877 \n",
       "          366           367           368           369           370 \n",
       " 0.2045118667 -0.3762018607  0.0058993528  0.0599048116  0.0801434602 \n",
       "          371           372           373           374           375 \n",
       " 0.0863970970 -0.1346824701  0.1699935589  0.1699935589 -0.1301313126 \n",
       "          376           377           378           379           380 \n",
       " 0.0711784189 -0.0873360494 -0.1110918795  0.1434698150  0.1246257326 \n",
       "          381           382           383           384           385 \n",
       "-0.1751086973 -0.0510635867  0.0840265141 -0.1205799756 -0.1309763945 \n",
       "          386           387           388           389           390 \n",
       "-0.0959472405  0.2087398198  0.1486014611  0.0157782002 -0.1097625506 \n",
       "          391           392           393           394           395 \n",
       "-0.0508964693 -0.2177748148 -0.2266867355 -0.0408931159  0.0339840485 \n",
       "          396           397           398           399           400 \n",
       " 0.0345083730  0.1817107711  0.0781834365 -0.1049914856  0.2474159925 \n",
       "          401           402           403           404           405 \n",
       " 0.1885347206 -0.0099895441  0.1352385073 -0.0915950851 -0.2456687500 \n",
       "          406           407           408           409           410 \n",
       " 0.0593435877 -0.1545083752 -0.1197117114 -0.1043476496  0.0293015948 \n",
       "          411           412           413           414           415 \n",
       " 0.0502029827 -0.1553267681  0.0717812009 -0.0288060360  0.1135890913 \n",
       "          416           417           418           419           420 \n",
       " 0.3194912936 -0.1949027441 -0.2352153043  0.0797598522 -0.0410554364 \n",
       "          421           422           423           424           425 \n",
       "-0.0387790675 -0.2041878512 -0.1345752521  0.0378738841  0.0304052109 \n",
       "          426           427           428           429           430 \n",
       " 0.0797735769  0.0061595295 -0.0228719899  0.0977322492 -0.0003179969 \n",
       "          431           432           433           434           435 \n",
       " 0.0972646964  0.0972775173  0.0615691810 -0.1646741140 -0.2487281695 \n",
       "          436           437           438           439           440 \n",
       "-0.1818484415 -0.0594117372 -0.0836708640 -0.2246442305 -0.0870843646 \n",
       "          441           442           443           444           445 \n",
       " 0.1995127397  0.0061689230  0.0861084058 -0.0991876981 -0.1194267519 \n",
       "          446           447           448           449           450 \n",
       "-0.0210747442 -0.1340326800 -0.0693813494 -0.0791582604 -0.0958683134 \n",
       "          451           452           453           454           455 \n",
       "-0.0321344307 -0.3113918535  0.1284106661  0.1675418406  0.0463150823 \n",
       "          456           457           458           459           460 \n",
       "-0.1859032281  0.1948256365  0.2247838240 -0.2131142860 -0.0304498673 \n",
       "          461           462           463           464           465 \n",
       " 0.0551010158 -0.1484898264 -0.1667889549  0.0622312049  0.0272514860 \n",
       "          466           467           468           469           470 \n",
       "-0.1216856191 -0.1078117200  0.0203724767 -0.0087711760  0.0352472474 \n",
       "          471           472           473           474           475 \n",
       "-0.1851317498 -0.1519462009 -0.1955384732  0.0845018738 -0.0266350133 \n",
       "          476           477           478           479           480 \n",
       " 0.0829795445 -0.0631424150  0.2091993154  0.0051625379 -0.0081360663 \n",
       "          481           482           483           484           485 \n",
       "-0.0616884210  0.1646374447  0.0807723111 -0.1347902446  0.0429005544 \n",
       "          486           487           488           489           490 \n",
       " 0.1049109189 -0.1556660851 -0.1035609175 -0.0187336834  0.0310705082 \n",
       "          491           492           493           494           495 \n",
       "-0.2015288052  0.1744072743 -0.3714766361  0.0853967584  0.0320267798 \n",
       "          496           497           498           499           500 \n",
       " 0.0542600696 -0.0713851172  0.1801910160  0.0207408146  0.0556540917 \n",
       "          501           502           503           504           505 \n",
       " 0.2139132407 -0.0922242734  0.1781444349  0.0663020415  0.1944814319 \n",
       "          506           507           508           509           510 \n",
       "-0.1472587686  0.2083790102  0.0257432340 -0.0963520734  0.2328846085 \n",
       "          511           512           513           514           515 \n",
       "-0.1070162559  0.0271279308  0.0726815227 -0.2363117553  0.2290434306 \n",
       "          516           517           518           519           520 \n",
       "-0.2712421014 -0.2436814965  0.0208441080 -0.1450676938 -0.2538750570 \n",
       "          521           522           523           524           525 \n",
       " 0.0413985478 -0.3048733026  0.1106892322 -0.2979760489 -0.0357147657 \n",
       "          526           527           528           529           530 \n",
       " 0.1563996273 -0.0373975417  0.2798008502 -0.2318033808 -0.0923844739 \n",
       "          531           532           533           534           535 \n",
       " 0.0728827060  0.2080200215  0.0910301420  0.1825330708  0.0351505424 \n",
       "          536           537           538           539           540 \n",
       " 0.1069005345 -0.2851513741 -0.3028292297  0.2915904143 -0.1955323743 \n",
       "          541           542           543           544           545 \n",
       "-0.1220563275  0.1106584663  0.1705847189  0.0313297894  0.1259421385 \n",
       "          546           547           548           549           550 \n",
       "-0.0712836090 -0.1018990241  0.1058410079  0.1281204104  0.0795669328 \n",
       "          551           552           553           554           555 \n",
       "-0.1502233051 -0.0328027399  0.1389106298  0.1501901544  0.1032899671 \n",
       "          556           557           558           559           560 \n",
       "-0.2240992778  0.0362166085 -0.0455696408  0.0710827182 -0.1152240867 \n",
       "          561           562           563           564           565 \n",
       " 0.0696582910  0.1468290162  0.1092946413  0.0228527137  0.0137229414 \n",
       "          566           567           568           569           570 \n",
       "-0.0249007666  0.1996852083 -0.1316889314 -0.0787233958 -0.0375768865 \n",
       "          571           572           573           574           575 \n",
       " 0.0832888751 -0.0631207212 -0.0635888860  0.0132290419  0.1288741906 \n",
       "          576           577           578           579           580 \n",
       " 0.3676114618  0.0230525333  0.0722427775 -0.0920930961  0.1743437603 \n",
       "          581           582           583           584           585 \n",
       "-0.0358475203 -0.3116507292  0.0095647779 -0.1023650218  0.2509203456 \n",
       "          586           587           588           589           590 \n",
       " 0.0526489568  0.1216457459  0.0234304451  0.0186575669  0.1503029063 \n",
       "          591           592           593           594           595 \n",
       " 0.0856666935 -0.1982911524  0.1592631702  0.2600962332  0.2114856286 \n",
       "          596           597           598           599           600 \n",
       " 0.1259229291  0.0724318510 -0.0516898998 -0.0232177948  0.0923464182 \n",
       "          601           602           603           604           605 \n",
       "-0.1393337058  0.0008674950  0.0792812459  0.2411364936  0.1807301866 \n",
       "          606           607           608           609           610 \n",
       "-0.0335781242  0.3209431125  0.0973186117  0.0973186117 -0.0142101059 \n",
       "          611           612           613           614           615 \n",
       "-0.1965891658 -0.0758080709 -0.4283779505  0.1556912235  0.0038980789 \n",
       "          616           617           618           619           620 \n",
       "-0.3571888000 -0.1051919701 -0.2265335572 -0.2397440418  0.0002717428 \n",
       "          621           622           623           624           625 \n",
       " 0.0388008310 -0.1998209786 -0.0892817376 -0.0788849830 -0.0145197310 \n",
       "          626           627           628           629           630 \n",
       "-0.0524323094 -0.0499488366 -0.0206365663 -0.0625276804  0.0689519405 \n",
       "          631           632           633           634           635 \n",
       "-0.3371677418 -0.0223531835  0.1562577995 -0.3311734375 -0.0231452564 \n",
       "          636           637           638           639           640 \n",
       "-0.0791745487  0.3060059011  0.2701247546  0.1012846838 -0.3687771974 \n",
       "          641           642           643           644           645 \n",
       " 0.2840894302  0.1411217780 -0.0724852852  0.0987560522  0.0154281150 \n",
       "          646           647           648           649           650 \n",
       " 0.0768469695  0.1708468968 -0.0184784137  0.0158865966  0.0887586550 \n",
       "          651           652           653           654 \n",
       "-0.1785754074 -0.1642071400  0.0800251382  0.0051865992 "
      ]
     },
     "metadata": {},
     "output_type": "display_data"
    }
   ],
   "source": [
    "LC.m1$residuals"
   ]
  },
  {
   "cell_type": "markdown",
   "id": "050f7d76",
   "metadata": {},
   "source": [
    "Hoặc xem tổng hợp các giá trị cơ bản của mô hình ước lượng"
   ]
  },
  {
   "cell_type": "code",
   "execution_count": 224,
   "id": "f13ed91f",
   "metadata": {},
   "outputs": [
    {
     "data": {
      "text/plain": [
       "\n",
       "Call:\n",
       "lm(formula = log(lungcap$FEV) ~ Age + Ht + Gender + Smoke, data = lungcap)\n",
       "\n",
       "Residuals:\n",
       "     Min       1Q   Median       3Q      Max \n",
       "-0.63278 -0.08657  0.01146  0.09540  0.40701 \n",
       "\n",
       "Coefficients:\n",
       "             Estimate Std. Error t value Pr(>|t|)    \n",
       "(Intercept) -1.943998   0.078639 -24.721  < 2e-16 ***\n",
       "Age          0.023387   0.003348   6.984  7.1e-12 ***\n",
       "Ht           0.042796   0.001679  25.489  < 2e-16 ***\n",
       "GenderM      0.029319   0.011719   2.502   0.0126 *  \n",
       "SmokeSmoker -0.046068   0.020910  -2.203   0.0279 *  \n",
       "---\n",
       "Signif. codes:  0 '***' 0.001 '**' 0.01 '*' 0.05 '.' 0.1 ' ' 1\n",
       "\n",
       "Residual standard error: 0.1455 on 649 degrees of freedom\n",
       "Multiple R-squared:  0.8106,\tAdjusted R-squared:  0.8095 \n",
       "F-statistic: 694.6 on 4 and 649 DF,  p-value: < 2.2e-16\n"
      ]
     },
     "metadata": {},
     "output_type": "display_data"
    }
   ],
   "source": [
    "summary(LC.m1)"
   ]
  },
  {
   "cell_type": "markdown",
   "id": "ed9add1c",
   "metadata": {},
   "source": [
    "Hoặc sử dụng các hàm tổng quát trong R"
   ]
  },
  {
   "cell_type": "code",
   "execution_count": 225,
   "id": "27c17971",
   "metadata": {},
   "outputs": [
    {
     "data": {
      "text/html": [
       "<dl class=dl-horizontal>\n",
       "\t<dt>(Intercept)</dt>\n",
       "\t\t<dd>-1.94399817699148</dd>\n",
       "\t<dt>Age</dt>\n",
       "\t\t<dd>0.0233872138845209</dd>\n",
       "\t<dt>Ht</dt>\n",
       "\t\t<dd>0.0427957889949572</dd>\n",
       "\t<dt>GenderM</dt>\n",
       "\t\t<dd>0.0293193583792946</dd>\n",
       "\t<dt>SmokeSmoker</dt>\n",
       "\t\t<dd>-0.046067535811043</dd>\n",
       "</dl>\n"
      ],
      "text/latex": [
       "\\begin{description*}\n",
       "\\item[(Intercept)] -1.94399817699148\n",
       "\\item[Age] 0.0233872138845209\n",
       "\\item[Ht] 0.0427957889949572\n",
       "\\item[GenderM] 0.0293193583792946\n",
       "\\item[SmokeSmoker] -0.046067535811043\n",
       "\\end{description*}\n"
      ],
      "text/markdown": [
       "(Intercept)\n",
       ":   -1.94399817699148Age\n",
       ":   0.0233872138845209Ht\n",
       ":   0.0427957889949572GenderM\n",
       ":   0.0293193583792946SmokeSmoker\n",
       ":   -0.046067535811043\n",
       "\n"
      ],
      "text/plain": [
       "(Intercept)         Age          Ht     GenderM SmokeSmoker \n",
       "-1.94399818  0.02338721  0.04279579  0.02931936 -0.04606754 "
      ]
     },
     "metadata": {},
     "output_type": "display_data"
    }
   ],
   "source": [
    "coef(LC.m1)"
   ]
  },
  {
   "cell_type": "code",
   "execution_count": 226,
   "id": "b1e210d8",
   "metadata": {},
   "outputs": [
    {
     "data": {
      "text/html": [
       "0.145468573059758"
      ],
      "text/latex": [
       "0.145468573059758"
      ],
      "text/markdown": [
       "0.145468573059758"
      ],
      "text/plain": [
       "[1] 0.1454686"
      ]
     },
     "metadata": {},
     "output_type": "display_data"
    }
   ],
   "source": [
    "summary(LC.m1)$sigma"
   ]
  },
  {
   "cell_type": "markdown",
   "id": "80751c65",
   "metadata": {},
   "source": [
    "## Đọc hiểu Hệ số hồi quy"
   ]
  },
  {
   "cell_type": "markdown",
   "id": "cb4727b3",
   "metadata": {},
   "source": [
    "**Xét dữ liệu gestation** <br>\n",
    "Mô hình hồi quy:\n",
    "<center>$\\begin{cases}\n",
    "    var[y]=0.6010/w_i\\\\\n",
    "    \\stackrel\\frown{\\mu}=-2.678+0.1538x\n",
    "  \\end{cases}$</center>\n",
    "Trong đó $w_i$ là trọng số (Births), $\\stackrel\\frown{\\mu}=E[y]$ với y là trung bình cân nặng và $x$ là số tuần tuổi <br>\n",
    "<br>\n",
    "Thành phần hệ thống của mô hình chỉ ra rằng, với mỗi tuần tuổi tăng lên, trung bình cân nặng của các em bé tăng thêm xấp xỉ 0.1538kg <br>\n",
    "Thành phần ngẫu nhiên của mô hình chỉ ra rằng, phương sai của cân nặng thực tế so với cân nặng ước lượng là $s^2=0.6010$ <br>"
   ]
  },
  {
   "cell_type": "markdown",
   "id": "da2ccedd",
   "metadata": {},
   "source": [
    "**Xét dữ liệu lungcap** <br>\n",
    "Mô hình hồi quy: <br>\n",
    "<center>$\\begin{cases}\n",
    "    var[log(FEV)]=0.02116\\\\\n",
    "    \\stackrel\\frown{\\mu}=E[log(FEV)]=-1.944+0.02339x_1+0.04280x_2+0.02932x_3-0.04607x_4\n",
    "  \\end{cases}$</center>\n",
    "Trong đó $x_1$ là tuổi, $x_2$ là chiều cao, $x_3$ là biến giả chiều cao, $x_4$ là biến giả hút thuốc <br>\n",
    "<br>\n",
    "Cách đọc hiểu mô hình sẽ khác đi vì biến đầu ra của mô hình là $log(FEV)$. Ví dụ, nếu $x_2$ (Ht) tăng thêm 1 đơn vị thì trung bình FEV tăng lên $\\exp(0.04280)=1.044$ giả định rằng tất cả các biến khác là cố định <br>\n",
    "Thành phần ngẫu nhiên của mô hình chỉ ra rằng, phương sai của log(FEV) thực tế so với cân nặng ước lượng được xem là không đổi ở mức 0.02116"
   ]
  },
  {
   "cell_type": "markdown",
   "id": "a0623a7a",
   "metadata": {},
   "source": [
    "## Kiểm định mô hình hồi quy tuyến tính: $t$-Tests\n",
    "### Mô hình hồi quy tuyến tính phân phối chuẩn\n",
    "Biến đầu ra từ đầu bài đến giờ không được giả định phân phối, chỉ có 2 giả định sau: <br>\n",
    "- Độc lập <br>\n",
    "- Phương sai không đổi <br>\n",
    "Tuy nhiên để hiểu rõ hơn về thành phần ngẫu nhiên của mô hình, chúng ta cần giả định quy luật phân phối của biến đầu ra. Phân phối chuẩn thường được sử dụng <br>\n",
    "Mô hình hồi quy tuyến tính phân phối chuẩn: <br>\n",
    "<center>$\\begin{cases}\n",
    "    y_i\\sim N(\\mu_i,\\sigma^2/w_i)\\\\\n",
    "    \\mu_i=\\beta_0+\\displaystyle\\sum_{j=1}^{p} \\beta_jx_{ji}\n",
    "  \\end{cases}$</center>"
   ]
  },
  {
   "cell_type": "markdown",
   "id": "33ab325f",
   "metadata": {},
   "source": [
    "### Phân phối của hệ số $\\stackrel\\frown{\\beta_j}$\n",
    "Ghi nhớ: Khi $y_i$ phân phối chuẩn thì các hệ số $\\stackrel\\frown{\\beta_j}$ cũng phân phối chuẩn với mô hình phân phối sau: <br>\n",
    "<center>$\\stackrel\\frown{\\beta_j}\\sim N(\\beta_j,var[\\stackrel\\frown{\\beta_j}])$</center>\n",
    "Khi $\\sigma^2$ đã biết thì <br>\n",
    "<center>$Z=\\cfrac{\\stackrel\\frown{\\beta_j}-\\beta_j}{se(\\stackrel\\frown{\\beta_j})}$</center>\n",
    "có phân phối chuẩn tắc <br>\n",
    "Khi $\\sigma^2$ chưa biết thì <br>\n",
    "<center>$T=\\cfrac{\\stackrel\\frown{\\beta_j}-\\beta_j}{se(\\stackrel\\frown{\\beta_j})}$</center>\n",
    "có phân phối Student $t$ với bậc tự do bằng $n-p'$. Lưu ý rằng phân phối Student $t$ hội tụ về chuẩn tắc khi n đủ lớn"
   ]
  },
  {
   "cell_type": "markdown",
   "id": "b62bd468",
   "metadata": {},
   "source": [
    "### Kiểm định cho $\\beta_j$\n",
    "Ta có giả thiết: <br>\n",
    "<center>$H_0:\\beta_j=\\beta_j^0 \\quad ; \\quad  H_A:\\beta_j\\neq\\beta_j^0$</center>\n",
    "Trong đó $\\beta_j^0$ là một giá trị cụ thể (thường xét $\\beta_j^0$ = 0) <br>\n",
    "Thống kê: <br>\n",
    "<center>$T=\\cfrac{\\stackrel\\frown{\\beta_j}-\\beta_j}{se(\\stackrel\\frown{\\beta_j})}$</center>\n",
    "được sử dụng để kiểm định giả thiết <br>\n",
    "<br>\n",
    "Kiểm định $t$-test kiểm tra rằng liệu $\\beta_j\\neq\\beta_j^0$ có ý nghĩa thống kê hay không trong mô hình hiện tại (mô hình các biến đầu vào đang được ước lượng)<br>"
   ]
  },
  {
   "cell_type": "code",
   "execution_count": 227,
   "id": "28972bde",
   "metadata": {},
   "outputs": [
    {
     "data": {
      "text/plain": [
       "\n",
       "Call:\n",
       "lm(formula = log(lungcap$FEV) ~ Age + Ht + Gender + Smoke, data = lungcap)\n",
       "\n",
       "Residuals:\n",
       "     Min       1Q   Median       3Q      Max \n",
       "-0.63278 -0.08657  0.01146  0.09540  0.40701 \n",
       "\n",
       "Coefficients:\n",
       "             Estimate Std. Error t value Pr(>|t|)    \n",
       "(Intercept) -1.943998   0.078639 -24.721  < 2e-16 ***\n",
       "Age          0.023387   0.003348   6.984  7.1e-12 ***\n",
       "Ht           0.042796   0.001679  25.489  < 2e-16 ***\n",
       "GenderM      0.029319   0.011719   2.502   0.0126 *  \n",
       "SmokeSmoker -0.046068   0.020910  -2.203   0.0279 *  \n",
       "---\n",
       "Signif. codes:  0 '***' 0.001 '**' 0.01 '*' 0.05 '.' 0.1 ' ' 1\n",
       "\n",
       "Residual standard error: 0.1455 on 649 degrees of freedom\n",
       "Multiple R-squared:  0.8106,\tAdjusted R-squared:  0.8095 \n",
       "F-statistic: 694.6 on 4 and 649 DF,  p-value: < 2.2e-16\n"
      ]
     },
     "metadata": {},
     "output_type": "display_data"
    }
   ],
   "source": [
    "summary(LC.m1)"
   ]
  },
  {
   "cell_type": "markdown",
   "id": "fad24f16",
   "metadata": {},
   "source": [
    "- Cột **estimate**: giá trị ước lượng với từng hệ số <br>\n",
    "- Cột **Std.Error**: giá trị độ lệch chuẩn tương ứng với từng hệ số <br>\n",
    "- Cột **t value**: giá trị thống kê $t$ để kiểm định giả thiết $H_0: \\beta_j=0$ <br>\n",
    "- Cột **Pr(>|t|)**: giá trị p-value cho kiểm định 2 phía (kiểm định $\\beta_j\\neq\\beta_j^0$) <br>"
   ]
  },
  {
   "cell_type": "code",
   "execution_count": 228,
   "id": "6ca0add8",
   "metadata": {},
   "outputs": [
    {
     "data": {
      "text/html": [
       "<table>\n",
       "<thead><tr><th></th><th scope=col>Estimate</th><th scope=col>Std. Error</th><th scope=col>t value</th><th scope=col>Pr(&gt;|t|)</th></tr></thead>\n",
       "<tbody>\n",
       "\t<tr><th scope=row>(Intercept)</th><td>-1.94400 </td><td>0.07864  </td><td>-24.72067</td><td>0.00000  </td></tr>\n",
       "\t<tr><th scope=row>Age</th><td> 0.02339 </td><td>0.00335  </td><td>  6.98449</td><td>0.00000  </td></tr>\n",
       "\t<tr><th scope=row>Ht</th><td> 0.04280 </td><td>0.00168  </td><td> 25.48933</td><td>0.00000  </td></tr>\n",
       "\t<tr><th scope=row>GenderM</th><td> 0.02932 </td><td>0.01172  </td><td>  2.50196</td><td>0.01260  </td></tr>\n",
       "\t<tr><th scope=row>SmokeSmoker</th><td>-0.04607 </td><td>0.02091  </td><td> -2.20311</td><td>0.02794  </td></tr>\n",
       "</tbody>\n",
       "</table>\n"
      ],
      "text/latex": [
       "\\begin{tabular}{r|llll}\n",
       "  & Estimate & Std. Error & t value & Pr(>\\textbar{}t\\textbar{})\\\\\n",
       "\\hline\n",
       "\t(Intercept) & -1.94400  & 0.07864   & -24.72067 & 0.00000  \\\\\n",
       "\tAge &  0.02339  & 0.00335   &   6.98449 & 0.00000  \\\\\n",
       "\tHt &  0.04280  & 0.00168   &  25.48933 & 0.00000  \\\\\n",
       "\tGenderM &  0.02932  & 0.01172   &   2.50196 & 0.01260  \\\\\n",
       "\tSmokeSmoker & -0.04607  & 0.02091   &  -2.20311 & 0.02794  \\\\\n",
       "\\end{tabular}\n"
      ],
      "text/markdown": [
       "\n",
       "| <!--/--> | Estimate | Std. Error | t value | Pr(>|t|) |\n",
       "|---|---|---|---|---|\n",
       "| (Intercept) | -1.94400  | 0.07864   | -24.72067 | 0.00000   |\n",
       "| Age |  0.02339  | 0.00335   |   6.98449 | 0.00000   |\n",
       "| Ht |  0.04280  | 0.00168   |  25.48933 | 0.00000   |\n",
       "| GenderM |  0.02932  | 0.01172   |   2.50196 | 0.01260   |\n",
       "| SmokeSmoker | -0.04607  | 0.02091   |  -2.20311 | 0.02794   |\n",
       "\n"
      ],
      "text/plain": [
       "            Estimate Std. Error t value   Pr(>|t|)\n",
       "(Intercept) -1.94400 0.07864    -24.72067 0.00000 \n",
       "Age          0.02339 0.00335      6.98449 0.00000 \n",
       "Ht           0.04280 0.00168     25.48933 0.00000 \n",
       "GenderM      0.02932 0.01172      2.50196 0.01260 \n",
       "SmokeSmoker -0.04607 0.02091     -2.20311 0.02794 "
      ]
     },
     "metadata": {},
     "output_type": "display_data"
    }
   ],
   "source": [
    "round(coef(summary(LC.m1)),5)"
   ]
  },
  {
   "cell_type": "markdown",
   "id": "6d7f9b75",
   "metadata": {},
   "source": [
    "**Ví dụ:** kiểm định cho giả thiết $H_0:\\beta_4=0$ và $H_A:\\beta_4\\neq0$ (hệ số $\\beta_4$ của biến giả Smoke) <br>\n",
    "Giá trị $t=-2.20311$ và $p-value=0.02794$ tương ứng với hệ số $\\beta_4$ cho thấy trạng thái hút thuốc có ý nghĩa thống kê khi mô hình bao gồm các biến đầu vào: Age, Ht và Gender. Khi mô hình bao gồm các biến đầu vào khác thì giá trị $t$ và $p-value$ cũng sẽ thay đổi"
   ]
  },
  {
   "cell_type": "markdown",
   "id": "2a428811",
   "metadata": {},
   "source": [
    "### Ước lượng khoảng cho $\\beta_j$\n",
    "Công thức khoảng tin cậy cho $\\beta_j$: <br>\n",
    "<center>$\\stackrel\\frown{\\beta_j}\\pm t_{\\alpha/2,n-p'}^*se(\\stackrel\\frown{\\beta_j})$</center>\n",
    "Khoảng tin cậy cho các hệ số được xác định bởi hàm $confint()$ trong R"
   ]
  },
  {
   "cell_type": "code",
   "execution_count": 229,
   "id": "3e770532",
   "metadata": {},
   "outputs": [
    {
     "data": {
      "text/html": [
       "<table>\n",
       "<thead><tr><th></th><th scope=col>2.5 %</th><th scope=col>97.5 %</th></tr></thead>\n",
       "<tbody>\n",
       "\t<tr><th scope=row>(Intercept)</th><td>-2.098414941</td><td>-1.789581413</td></tr>\n",
       "\t<tr><th scope=row>Age</th><td> 0.016812109</td><td> 0.029962319</td></tr>\n",
       "\t<tr><th scope=row>Ht</th><td> 0.039498923</td><td> 0.046092655</td></tr>\n",
       "\t<tr><th scope=row>GenderM</th><td> 0.006308481</td><td> 0.052330236</td></tr>\n",
       "\t<tr><th scope=row>SmokeSmoker</th><td>-0.087127344</td><td>-0.005007728</td></tr>\n",
       "</tbody>\n",
       "</table>\n"
      ],
      "text/latex": [
       "\\begin{tabular}{r|ll}\n",
       "  & 2.5 \\% & 97.5 \\%\\\\\n",
       "\\hline\n",
       "\t(Intercept) & -2.098414941 & -1.789581413\\\\\n",
       "\tAge &  0.016812109 &  0.029962319\\\\\n",
       "\tHt &  0.039498923 &  0.046092655\\\\\n",
       "\tGenderM &  0.006308481 &  0.052330236\\\\\n",
       "\tSmokeSmoker & -0.087127344 & -0.005007728\\\\\n",
       "\\end{tabular}\n"
      ],
      "text/markdown": [
       "\n",
       "| <!--/--> | 2.5 % | 97.5 % |\n",
       "|---|---|---|\n",
       "| (Intercept) | -2.098414941 | -1.789581413 |\n",
       "| Age |  0.016812109 |  0.029962319 |\n",
       "| Ht |  0.039498923 |  0.046092655 |\n",
       "| GenderM |  0.006308481 |  0.052330236 |\n",
       "| SmokeSmoker | -0.087127344 | -0.005007728 |\n",
       "\n"
      ],
      "text/plain": [
       "            2.5 %        97.5 %      \n",
       "(Intercept) -2.098414941 -1.789581413\n",
       "Age          0.016812109  0.029962319\n",
       "Ht           0.039498923  0.046092655\n",
       "GenderM      0.006308481  0.052330236\n",
       "SmokeSmoker -0.087127344 -0.005007728"
      ]
     },
     "metadata": {},
     "output_type": "display_data"
    }
   ],
   "source": [
    "confint(LC.m1)"
   ]
  },
  {
   "cell_type": "code",
   "execution_count": 230,
   "id": "2b53527b",
   "metadata": {},
   "outputs": [
    {
     "data": {
      "text/html": [
       "<table>\n",
       "<thead><tr><th></th><th scope=col>5 %</th><th scope=col>95 %</th></tr></thead>\n",
       "<tbody>\n",
       "\t<tr><th scope=row>(Intercept)</th><td>-2.07353203</td><td>-1.81446432</td></tr>\n",
       "\t<tr><th scope=row>Age</th><td> 0.01787163</td><td> 0.02890280</td></tr>\n",
       "\t<tr><th scope=row>Ht</th><td> 0.04003018</td><td> 0.04556139</td></tr>\n",
       "\t<tr><th scope=row>GenderM</th><td> 0.01001648</td><td> 0.04862224</td></tr>\n",
       "\t<tr><th scope=row>SmokeSmoker</th><td>-0.08051092</td><td>-0.01162416</td></tr>\n",
       "</tbody>\n",
       "</table>\n"
      ],
      "text/latex": [
       "\\begin{tabular}{r|ll}\n",
       "  & 5 \\% & 95 \\%\\\\\n",
       "\\hline\n",
       "\t(Intercept) & -2.07353203 & -1.81446432\\\\\n",
       "\tAge &  0.01787163 &  0.02890280\\\\\n",
       "\tHt &  0.04003018 &  0.04556139\\\\\n",
       "\tGenderM &  0.01001648 &  0.04862224\\\\\n",
       "\tSmokeSmoker & -0.08051092 & -0.01162416\\\\\n",
       "\\end{tabular}\n"
      ],
      "text/markdown": [
       "\n",
       "| <!--/--> | 5 % | 95 % |\n",
       "|---|---|---|\n",
       "| (Intercept) | -2.07353203 | -1.81446432 |\n",
       "| Age |  0.01787163 |  0.02890280 |\n",
       "| Ht |  0.04003018 |  0.04556139 |\n",
       "| GenderM |  0.01001648 |  0.04862224 |\n",
       "| SmokeSmoker | -0.08051092 | -0.01162416 |\n",
       "\n"
      ],
      "text/plain": [
       "            5 %         95 %       \n",
       "(Intercept) -2.07353203 -1.81446432\n",
       "Age          0.01787163  0.02890280\n",
       "Ht           0.04003018  0.04556139\n",
       "GenderM      0.01001648  0.04862224\n",
       "SmokeSmoker -0.08051092 -0.01162416"
      ]
     },
     "metadata": {},
     "output_type": "display_data"
    }
   ],
   "source": [
    "confint(LC.m1, level = 0.9)"
   ]
  },
  {
   "cell_type": "markdown",
   "id": "86bc9f79",
   "metadata": {},
   "source": [
    "### Ước lượng khoảng cho $\\mu$\n",
    "Công thức khoảng tin cậy cho $\\mu$: <br>\n",
    "<center>$\\stackrel\\frown{\\mu_g}\\pm t_{\\alpha/2,n-p'}^*se(\\stackrel\\frown{\\mu_g})$</center>\n",
    "Các bước xác định khoảng tin cậy cho $\\mu$ trên R"
   ]
  },
  {
   "cell_type": "code",
   "execution_count": 231,
   "id": "74953e82",
   "metadata": {},
   "outputs": [
    {
     "data": {
      "text/html": [
       "<ol class=list-inline>\n",
       "\t<li>'fit'</li>\n",
       "\t<li>'se.fit'</li>\n",
       "\t<li>'df'</li>\n",
       "\t<li>'residual.scale'</li>\n",
       "</ol>\n"
      ],
      "text/latex": [
       "\\begin{enumerate*}\n",
       "\\item 'fit'\n",
       "\\item 'se.fit'\n",
       "\\item 'df'\n",
       "\\item 'residual.scale'\n",
       "\\end{enumerate*}\n"
      ],
      "text/markdown": [
       "1. 'fit'\n",
       "2. 'se.fit'\n",
       "3. 'df'\n",
       "4. 'residual.scale'\n",
       "\n",
       "\n"
      ],
      "text/plain": [
       "[1] \"fit\"            \"se.fit\"         \"df\"             \"residual.scale\""
      ]
     },
     "metadata": {},
     "output_type": "display_data"
    }
   ],
   "source": [
    "new.df <- data.frame(Age = 18, Ht = 66, Gender = \"F\", Smoke = \"Smoker\")\n",
    "out <- predict(LC.m1, newdata = new.df, se.fit = TRUE)    # se.fit: do lech chuan cua fitted value\n",
    "names(out)"
   ]
  },
  {
   "cell_type": "code",
   "execution_count": 232,
   "id": "229896bb",
   "metadata": {},
   "outputs": [
    {
     "data": {
      "text/html": [
       "0.0235064385120298"
      ],
      "text/latex": [
       "0.0235064385120298"
      ],
      "text/markdown": [
       "0.0235064385120298"
      ],
      "text/plain": [
       "[1] 0.02350644"
      ]
     },
     "metadata": {},
     "output_type": "display_data"
    }
   ],
   "source": [
    "out$se.fit"
   ]
  },
  {
   "cell_type": "code",
   "execution_count": 233,
   "id": "b1840e36",
   "metadata": {},
   "outputs": [
    {
     "data": {
      "text/html": [
       "<table>\n",
       "<thead><tr><th scope=col>Lower</th><th scope=col>Estimate</th><th scope=col>Upper</th></tr></thead>\n",
       "<tbody>\n",
       "\t<tr><td>1.209268</td><td>1.255426</td><td>1.301584</td></tr>\n",
       "</tbody>\n",
       "</table>\n"
      ],
      "text/latex": [
       "\\begin{tabular}{r|lll}\n",
       " Lower & Estimate & Upper\\\\\n",
       "\\hline\n",
       "\t 1.209268 & 1.255426 & 1.301584\\\\\n",
       "\\end{tabular}\n"
      ],
      "text/markdown": [
       "\n",
       "| Lower | Estimate | Upper |\n",
       "|---|---|---|\n",
       "| 1.209268 | 1.255426 | 1.301584 |\n",
       "\n"
      ],
      "text/plain": [
       "  Lower    Estimate Upper   \n",
       "1 1.209268 1.255426 1.301584"
      ]
     },
     "metadata": {},
     "output_type": "display_data"
    }
   ],
   "source": [
    "tstar <- qt(df = LC.m1$df,p = 0.975)   # Do tin cay 95%\n",
    "ci.lo <- out$fit - tstar*out$se.fit\n",
    "ci.hi <- out$fit + tstar*out$se.fit\n",
    "CIinfo <- cbind(Lower = ci.lo, Estimate = out$fit, Upper = ci.hi)\n",
    "CIinfo"
   ]
  },
  {
   "cell_type": "markdown",
   "id": "0c93675b",
   "metadata": {},
   "source": [
    "Bảng trên cho thấy ước lượng khoảng của log(FEV), ta có thể quy ra ước lượng khoảng của FEV như sau"
   ]
  },
  {
   "cell_type": "code",
   "execution_count": 234,
   "id": "946a1c20",
   "metadata": {},
   "outputs": [
    {
     "data": {
      "text/html": [
       "<table>\n",
       "<thead><tr><th scope=col>Lower</th><th scope=col>Estimate</th><th scope=col>Upper</th></tr></thead>\n",
       "<tbody>\n",
       "\t<tr><td>3.351032</td><td>3.509334</td><td>3.675114</td></tr>\n",
       "</tbody>\n",
       "</table>\n"
      ],
      "text/latex": [
       "\\begin{tabular}{r|lll}\n",
       " Lower & Estimate & Upper\\\\\n",
       "\\hline\n",
       "\t 3.351032 & 3.509334 & 3.675114\\\\\n",
       "\\end{tabular}\n"
      ],
      "text/markdown": [
       "\n",
       "| Lower | Estimate | Upper |\n",
       "|---|---|---|\n",
       "| 3.351032 | 3.509334 | 3.675114 |\n",
       "\n"
      ],
      "text/plain": [
       "  Lower    Estimate Upper   \n",
       "1 3.351032 3.509334 3.675114"
      ]
     },
     "metadata": {},
     "output_type": "display_data"
    }
   ],
   "source": [
    "exp(CIinfo)"
   ]
  },
  {
   "cell_type": "markdown",
   "id": "0af65c59",
   "metadata": {},
   "source": [
    "Chúng ta có thể tạo 1 bảng ước lượng khoảng cho $\\mu$ cho các đối tượng quan sát là nữ, 18 tuổi có hút thuốc và chiều cao là bất kỳ"
   ]
  },
  {
   "cell_type": "code",
   "execution_count": 235,
   "id": "054b8974",
   "metadata": {},
   "outputs": [
    {
     "data": {
      "text/html": [
       "<table>\n",
       "<thead><tr><th scope=col>ht</th><th scope=col>FEVhat</th><th scope=col>SE</th><th scope=col>Lower</th><th scope=col>Upper</th><th scope=col>CI.Width</th></tr></thead>\n",
       "<tbody>\n",
       "\t<tr><td>46        </td><td>1.491095  </td><td>0.04886534</td><td>1.354669  </td><td>1.641259  </td><td>0.2865900 </td></tr>\n",
       "\t<tr><td>48        </td><td>1.624341  </td><td>0.04585644</td><td>1.484469  </td><td>1.777392  </td><td>0.2929226 </td></tr>\n",
       "\t<tr><td>50        </td><td>1.769494  </td><td>0.04289937</td><td>1.626540  </td><td>1.925011  </td><td>0.2984711 </td></tr>\n",
       "\t<tr><td>52        </td><td>1.927618  </td><td>0.04000563</td><td>1.781987  </td><td>2.085151  </td><td>0.3031639 </td></tr>\n",
       "\t<tr><td>54        </td><td>2.099873  </td><td>0.03719000</td><td>1.951990  </td><td>2.258959  </td><td>0.3069685 </td></tr>\n",
       "\t<tr><td>56        </td><td>2.287520  </td><td>0.03447163</td><td>2.137804  </td><td>2.447722  </td><td>0.3099183 </td></tr>\n",
       "\t<tr><td>58        </td><td>2.491936  </td><td>0.03187542</td><td>2.340743  </td><td>2.652894  </td><td>0.3121513 </td></tr>\n",
       "\t<tr><td>60        </td><td>2.714619  </td><td>0.02943370</td><td>2.562170  </td><td>2.876138  </td><td>0.3139672 </td></tr>\n",
       "\t<tr><td>62        </td><td>2.957201  </td><td>0.02718813</td><td>2.803464  </td><td>3.119368  </td><td>0.3159041 </td></tr>\n",
       "\t<tr><td>64        </td><td>3.221460  </td><td>0.02519123</td><td>3.065984  </td><td>3.384820  </td><td>0.3188364 </td></tr>\n",
       "\t<tr><td>66        </td><td>3.509334  </td><td>0.02350644</td><td>3.351032  </td><td>3.675114  </td><td>0.3240817 </td></tr>\n",
       "\t<tr><td>68        </td><td>3.822932  </td><td>0.02220493</td><td>3.659826  </td><td>3.993308  </td><td>0.3334820 </td></tr>\n",
       "\t<tr><td>70        </td><td>4.164555  </td><td>0.02135689</td><td>3.993518  </td><td>4.342917  </td><td>0.3493998 </td></tr>\n",
       "\t<tr><td>72        </td><td>4.536705  </td><td>0.02101728</td><td>4.353286  </td><td>4.727852  </td><td>0.3745665 </td></tr>\n",
       "\t<tr><td>74        </td><td>4.942111  </td><td>0.02121053</td><td>4.740502  </td><td>5.152294  </td><td>0.4117924 </td></tr>\n",
       "</tbody>\n",
       "</table>\n"
      ],
      "text/latex": [
       "\\begin{tabular}{r|llllll}\n",
       " ht & FEVhat & SE & Lower & Upper & CI.Width\\\\\n",
       "\\hline\n",
       "\t 46         & 1.491095   & 0.04886534 & 1.354669   & 1.641259   & 0.2865900 \\\\\n",
       "\t 48         & 1.624341   & 0.04585644 & 1.484469   & 1.777392   & 0.2929226 \\\\\n",
       "\t 50         & 1.769494   & 0.04289937 & 1.626540   & 1.925011   & 0.2984711 \\\\\n",
       "\t 52         & 1.927618   & 0.04000563 & 1.781987   & 2.085151   & 0.3031639 \\\\\n",
       "\t 54         & 2.099873   & 0.03719000 & 1.951990   & 2.258959   & 0.3069685 \\\\\n",
       "\t 56         & 2.287520   & 0.03447163 & 2.137804   & 2.447722   & 0.3099183 \\\\\n",
       "\t 58         & 2.491936   & 0.03187542 & 2.340743   & 2.652894   & 0.3121513 \\\\\n",
       "\t 60         & 2.714619   & 0.02943370 & 2.562170   & 2.876138   & 0.3139672 \\\\\n",
       "\t 62         & 2.957201   & 0.02718813 & 2.803464   & 3.119368   & 0.3159041 \\\\\n",
       "\t 64         & 3.221460   & 0.02519123 & 3.065984   & 3.384820   & 0.3188364 \\\\\n",
       "\t 66         & 3.509334   & 0.02350644 & 3.351032   & 3.675114   & 0.3240817 \\\\\n",
       "\t 68         & 3.822932   & 0.02220493 & 3.659826   & 3.993308   & 0.3334820 \\\\\n",
       "\t 70         & 4.164555   & 0.02135689 & 3.993518   & 4.342917   & 0.3493998 \\\\\n",
       "\t 72         & 4.536705   & 0.02101728 & 4.353286   & 4.727852   & 0.3745665 \\\\\n",
       "\t 74         & 4.942111   & 0.02121053 & 4.740502   & 5.152294   & 0.4117924 \\\\\n",
       "\\end{tabular}\n"
      ],
      "text/markdown": [
       "\n",
       "| ht | FEVhat | SE | Lower | Upper | CI.Width |\n",
       "|---|---|---|---|---|---|\n",
       "| 46         | 1.491095   | 0.04886534 | 1.354669   | 1.641259   | 0.2865900  |\n",
       "| 48         | 1.624341   | 0.04585644 | 1.484469   | 1.777392   | 0.2929226  |\n",
       "| 50         | 1.769494   | 0.04289937 | 1.626540   | 1.925011   | 0.2984711  |\n",
       "| 52         | 1.927618   | 0.04000563 | 1.781987   | 2.085151   | 0.3031639  |\n",
       "| 54         | 2.099873   | 0.03719000 | 1.951990   | 2.258959   | 0.3069685  |\n",
       "| 56         | 2.287520   | 0.03447163 | 2.137804   | 2.447722   | 0.3099183  |\n",
       "| 58         | 2.491936   | 0.03187542 | 2.340743   | 2.652894   | 0.3121513  |\n",
       "| 60         | 2.714619   | 0.02943370 | 2.562170   | 2.876138   | 0.3139672  |\n",
       "| 62         | 2.957201   | 0.02718813 | 2.803464   | 3.119368   | 0.3159041  |\n",
       "| 64         | 3.221460   | 0.02519123 | 3.065984   | 3.384820   | 0.3188364  |\n",
       "| 66         | 3.509334   | 0.02350644 | 3.351032   | 3.675114   | 0.3240817  |\n",
       "| 68         | 3.822932   | 0.02220493 | 3.659826   | 3.993308   | 0.3334820  |\n",
       "| 70         | 4.164555   | 0.02135689 | 3.993518   | 4.342917   | 0.3493998  |\n",
       "| 72         | 4.536705   | 0.02101728 | 4.353286   | 4.727852   | 0.3745665  |\n",
       "| 74         | 4.942111   | 0.02121053 | 4.740502   | 5.152294   | 0.4117924  |\n",
       "\n"
      ],
      "text/plain": [
       "   ht FEVhat   SE         Lower    Upper    CI.Width \n",
       "1  46 1.491095 0.04886534 1.354669 1.641259 0.2865900\n",
       "2  48 1.624341 0.04585644 1.484469 1.777392 0.2929226\n",
       "3  50 1.769494 0.04289937 1.626540 1.925011 0.2984711\n",
       "4  52 1.927618 0.04000563 1.781987 2.085151 0.3031639\n",
       "5  54 2.099873 0.03719000 1.951990 2.258959 0.3069685\n",
       "6  56 2.287520 0.03447163 2.137804 2.447722 0.3099183\n",
       "7  58 2.491936 0.03187542 2.340743 2.652894 0.3121513\n",
       "8  60 2.714619 0.02943370 2.562170 2.876138 0.3139672\n",
       "9  62 2.957201 0.02718813 2.803464 3.119368 0.3159041\n",
       "10 64 3.221460 0.02519123 3.065984 3.384820 0.3188364\n",
       "11 66 3.509334 0.02350644 3.351032 3.675114 0.3240817\n",
       "12 68 3.822932 0.02220493 3.659826 3.993308 0.3334820\n",
       "13 70 4.164555 0.02135689 3.993518 4.342917 0.3493998\n",
       "14 72 4.536705 0.02101728 4.353286 4.727852 0.3745665\n",
       "15 74 4.942111 0.02121053 4.740502 5.152294 0.4117924"
      ]
     },
     "metadata": {},
     "output_type": "display_data"
    }
   ],
   "source": [
    "newHt <- seq(min(lungcap$Ht), max(lungcap$Ht), by = 2)   #tao mang du lieu\n",
    "newlogFEV <- predict(LC.m1, se.fit = TRUE,\n",
    "                     newdata = data.frame(Age = 18, Ht=newHt, Gender = \"F\", Smoke = \"Smoker\"))   # du bao gia tri trung binh\n",
    "ci.lo <- exp(newlogFEV$fit - tstar*newlogFEV$se.fit)\n",
    "ci.hi <- exp(newlogFEV$fit + tstar*newlogFEV$se.fit)\n",
    "cbind(ht = newHt, FEVhat = exp(newlogFEV$fit), SE = newlogFEV$se.fit,\n",
    "      Lower = ci.lo, Upper = ci.hi, CI.Width = ci.hi - ci.lo)"
   ]
  },
  {
   "cell_type": "markdown",
   "id": "eb46ab37",
   "metadata": {},
   "source": [
    "## Phân tích phương sai\n",
    "Giá trị dự đoán của mô hình hồi quy tuyến tính được xác định bởi công thức: <br>\n",
    "<center>$\\stackrel\\frown{\\mu}_i=\\stackrel\\frown{\\beta}_0+\\displaystyle\\sum_{j=1}^{p} \\stackrel\\frown{\\beta}_jx_{ji}$</center>\n",
    "Ta có: <br>\n",
    "<center>$y_i=\\stackrel\\frown{\\mu}_i+(y_i-\\stackrel\\frown{\\mu}_i)$</center>\n",
    "Nói cách khác: Dữ liệu quan sát = giá trị dự đoán + phần dư <br>\n",
    "Suy ra : <br>\n",
    "<center>$y_i-\\bar{y}_w=(\\stackrel\\frown{\\mu}_i-\\bar{y}_w)+(y_i-\\stackrel\\frown{\\mu}_i)$</center>\n",
    "<br>\n",
    "Trong đó $\\bar{y}_w$ là giá trị trung bình có trọng số của $y_i$ ($\\bar{y}_w=\\sum_{i=1}^{n} w_iy_i/\\sum_{i=1}^{n} w_i$)"
   ]
  },
  {
   "cell_type": "markdown",
   "id": "62218698",
   "metadata": {},
   "source": [
    "Quy ước: <br>\n",
    "- $SST=\\sum_{i=1}^{n} w_i(y_i-\\bar{y}_w)^2$: Tổng phương sai (total sum of square)\n",
    "- $SSReg=\\sum_{i=1}^{n} w_i(\\stackrel\\frown{\\mu}_i-\\bar{y}_w)^2$: Phương sai giá trị dự đoán (regression sum of square)\n",
    "- $RSS=\\sum_{i=1}^{n} w_i(y_i-\\stackrel\\frown{\\mu}_i)^2$: Phương sai phần dư (residual sum of square)\n",
    "<br>\n",
    "Suy ra: <br>\n",
    "<center>$SST=SSReg+RSS$</center>\n",
    "(do $\\sum_{i=1}^{n} (\\stackrel\\frown{\\mu}_i-\\bar{y}_w)(y_i-\\stackrel\\frown{\\mu}_i)=0$)"
   ]
  },
  {
   "cell_type": "markdown",
   "id": "07a30a6a",
   "metadata": {},
   "source": [
    "Phương trình trên cho thấy: phương sai của biến đầu ra = phương sai giá trị dự đoán + phương sai phần dư <br>\n",
    "- Thành phần hệ thống: Phương sai giá trị dự đoán\n",
    "- Thành phần ngẫu nhiên: Phương sai phần dư"
   ]
  },
  {
   "cell_type": "markdown",
   "id": "cea5e376",
   "metadata": {},
   "source": [
    "Phân tích phương sai cho chúng ta hiểu biết về nguồn gốc của tổng phương sai (từ thành phần hệ thống hay từ thành phần ngẫu nhiên)"
   ]
  },
  {
   "cell_type": "markdown",
   "id": "c2a2f983",
   "metadata": {},
   "source": [
    "**Kiểm định sự ảnh hưởng của biến đầu vào tới biến đầu ra** <br>\n",
    "Giả thiết không: $H_0:\\beta_j=0$ cho tất cả các biến đầu vào $j=0,...,p$ <br>\n",
    "- $RSS/\\sigma^2$ có phân phối chi-square với $n-p'$ bậc tự do\n",
    "- $SSReg/\\sigma^2$ có phân phối chi-square với $p'-1$ bậc tự do \n",
    "<center>$F=\\cfrac{SSReg/(p'-1)}{RSS/(n-p')}=\\cfrac{MSReg}{MSE}$</center>"
   ]
  },
  {
   "cell_type": "markdown",
   "id": "7d4e5ca1",
   "metadata": {},
   "source": [
    "Trong đó: <br>\n",
    "- Phân phối F có $(p'-1,n-p')$ bậc tự do\n",
    "- $MSE$: trung bình phương sai không chệch của phần dư\n",
    "- $MSReg$: trung bình phương sai không chệch của hệ số ước lượng "
   ]
  },
  {
   "attachments": {
    "image.png": {
     "image/png": "[encoded data removed]"
    }
   },
   "cell_type": "markdown",
   "id": "89b91b41",
   "metadata": {},
   "source": [
    "Bảng phân tích phương sai cho mô hình hồi quy tuyến tính\n",
    "![image.png](attachment:image.png)"
   ]
  },
  {
   "cell_type": "markdown",
   "id": "424dc6d0",
   "metadata": {},
   "source": [
    "Giá trị F lớn thể hiện phương sai từ thành phần hệ thống (phương sai các hệ số ước lượng) là lớn hơn tương đối so với phương sai từ phần dư và ngược lại"
   ]
  },
  {
   "cell_type": "code",
   "execution_count": 237,
   "id": "a80fd973",
   "metadata": {},
   "outputs": [
    {
     "data": {
      "text/html": [
       "<dl class=dl-horizontal>\n",
       "\t<dt>value</dt>\n",
       "\t\t<dd>694.58040070678</dd>\n",
       "\t<dt>numdf</dt>\n",
       "\t\t<dd>4</dd>\n",
       "\t<dt>dendf</dt>\n",
       "\t\t<dd>649</dd>\n",
       "</dl>\n"
      ],
      "text/latex": [
       "\\begin{description*}\n",
       "\\item[value] 694.58040070678\n",
       "\\item[numdf] 4\n",
       "\\item[dendf] 649\n",
       "\\end{description*}\n"
      ],
      "text/markdown": [
       "value\n",
       ":   694.58040070678numdf\n",
       ":   4dendf\n",
       ":   649\n",
       "\n"
      ],
      "text/plain": [
       "   value    numdf    dendf \n",
       "694.5804   4.0000 649.0000 "
      ]
     },
     "metadata": {},
     "output_type": "display_data"
    }
   ],
   "source": [
    "summary(LC.m1)$fstatistic"
   ]
  },
  {
   "cell_type": "markdown",
   "id": "bfabfc4f",
   "metadata": {},
   "source": [
    "**Hệ số xác định $R^2$** thể hiện tỷ lệ giữa phương sai hệ số ước lượng và tổng phương sai <br>\n",
    "<center>$R^2=\\cfrac{SSReg}{SST}=1-\\cfrac{RSS}{SST}$</center>\n",
    "Ta thấy $R^2\\in[0,1]$ <br>\n",
    "$R^2$ còn được gọi là multiple-$R^2$ vì $R^2$ cũng chính là hệ số tương quan Pearson giữa $y_i$ và $\\stackrel\\frown{\\mu}_i$"
   ]
  },
  {
   "cell_type": "markdown",
   "id": "04e06459",
   "metadata": {},
   "source": [
    "Nhận thấy rằng khi tăng số lượng biến đầu vào không làm thay đổi $RSS$ tuy nhiên hệ số xác định $R^2$ sẽ tăng lên mặc dù các biến đầu vào có thể không làm tăng độ chính xác của mô hình hồi quy<br>\n",
    "Vì lý do trên, ta sử dụng hệ số xác định điều chỉnh $\\bar{R}^2$ (điều chỉnh để không phụ thuộc vào bậc tự do)"
   ]
  },
  {
   "cell_type": "markdown",
   "id": "a5d01728",
   "metadata": {},
   "source": [
    "<center>$\\bar{R}^2=1-\\cfrac{RSS/(n-p')}{SST/(n-1)}=1-(1-R^2)\\cfrac{n-1}{n-p'}$</center>"
   ]
  },
  {
   "cell_type": "markdown",
   "id": "bbb019e9",
   "metadata": {},
   "source": [
    "$\\bar{R}^2$ có thể là số âm, xảy ra khi $MSReg<MSE$ biểu thị rằng mô hình không có ý nghĩa"
   ]
  },
  {
   "cell_type": "markdown",
   "id": "5627964a",
   "metadata": {},
   "source": [
    "## So sánh các mô hình lồng nhau\n",
    "### Phân tích phương sai khi so sánh mô hình lồng nhau\n",
    "Mô hình A được gọi là lồng trong mô hình B khi tất cả các biến đầu ra của mô hình A đều nằm trong mô hình B <br>\n",
    "Ví dụ:"
   ]
  },
  {
   "attachments": {
    "image.png": {
     "image/png": "[encoded data removed]"
    }
   },
   "cell_type": "markdown",
   "id": "6414a86f",
   "metadata": {},
   "source": [
    "![image.png](attachment:image.png)"
   ]
  },
  {
   "cell_type": "markdown",
   "id": "273db8b5",
   "metadata": {},
   "source": [
    "Nhiệm vụ: cần xác định mô hình B (phức tạp hơn) có ý nghĩa hơn mô hình A hay không <br>\n",
    "Ta thấy khi so sánh mô hình A và mô hình B, hệ số $\\beta_2$ và $\\beta_3$ trong mô hình A bằng 0 <br>\n",
    "Ta có giả thiết $H_0:\\beta_2=\\beta_3=0$ và giả thiết $H_1:\\beta_0$ và $\\beta_1$ không đồng thời bằng 0 <br>\n",
    "Xét 2 mô hình sau:"
   ]
  },
  {
   "cell_type": "code",
   "execution_count": null,
   "id": "f69edd40",
   "metadata": {},
   "outputs": [],
   "source": [
    "LC.A <- lm(log(FEV) ~ Age               + Smoke, data = lungcap)\n",
    "LC.B <- lm(log(FEV) ~ Age + Ht + Gender + Smoke, data = lungcap)"
   ]
  },
  {
   "cell_type": "code",
   "execution_count": null,
   "id": "e0089574",
   "metadata": {},
   "outputs": [],
   "source": [
    "RSS.A <- sum(resid(LC.A)^2)    # resid() tinh phan du\n",
    "RSS.B <- sum(resid(LC.B)^2)\n",
    "c(ModelA = RSS.A, ModelB = RSS.B)"
   ]
  },
  {
   "cell_type": "markdown",
   "id": "5d98a007",
   "metadata": {},
   "source": [
    "Hiệu RSS của mô hình A và mô hình B được gọi là **tổng bình phương** (Sum of square - SS)"
   ]
  },
  {
   "cell_type": "code",
   "execution_count": null,
   "id": "45852bc3",
   "metadata": {},
   "outputs": [],
   "source": [
    "SS <- RSS.A - RSS.B; SS"
   ]
  },
  {
   "cell_type": "code",
   "execution_count": null,
   "id": "3867e23d",
   "metadata": {},
   "outputs": [],
   "source": [
    "DF <- df.residual(LC.A) - df.residual(LC.B); DF"
   ]
  },
  {
   "cell_type": "markdown",
   "id": "15f40ee3",
   "metadata": {},
   "source": [
    "Giá trị SS thể hiện sự thay đổi (giảm xuống) của phương sai phần dư khi sử dụng mô hình A thay vì mô hình B. Tuy nhiên ta nhận thấy có sự giảm xuống của bậc tự do ở mô hình B sang mô hình A<br>\n",
    "Phương pháp kiểm định giả thiết tốt hơn là so sánh SS/(hiệu bậc tự do) và (RSS của mô hình B)/(số bậc tự do của mô hình B)"
   ]
  },
  {
   "cell_type": "code",
   "execution_count": null,
   "id": "d10439f0",
   "metadata": {},
   "outputs": [],
   "source": [
    "df.B <-df.residual(LC.B); df.B"
   ]
  },
  {
   "cell_type": "code",
   "execution_count": null,
   "id": "08c7d43a",
   "metadata": {},
   "outputs": [],
   "source": [
    "Fstat <- (SS/DF)/(RSS.B/df.B); Fstat"
   ]
  },
  {
   "cell_type": "markdown",
   "id": "3053d130",
   "metadata": {},
   "source": [
    "p-value của phân phối F với bậc tự do (2,649)"
   ]
  },
  {
   "cell_type": "code",
   "execution_count": null,
   "id": "e3955cac",
   "metadata": {},
   "outputs": [],
   "source": [
    "pf(Fstat, df1 = DF, df2=df.B, lower.tail = FALSE)"
   ]
  },
  {
   "cell_type": "markdown",
   "id": "5f08f420",
   "metadata": {},
   "source": [
    "Giá trị p-value gần bằng 0 chứng tỏ rằng giả thiết Mô hình B khác Mô hình A là có ý nghĩa thống kê. Trong R, ta có thể sử dụng hàm $anova()$"
   ]
  },
  {
   "cell_type": "code",
   "execution_count": null,
   "id": "26e422be",
   "metadata": {},
   "outputs": [],
   "source": [
    "anova(LC.A, LC.B)"
   ]
  },
  {
   "cell_type": "markdown",
   "id": "7395e310",
   "metadata": {},
   "source": [
    "### Phân tích phương sai tuần tự\n",
    "Phân tích phương sai tuần tự thường xuyên được sử dụng "
   ]
  },
  {
   "cell_type": "code",
   "execution_count": null,
   "id": "77583ef9",
   "metadata": {},
   "outputs": [],
   "source": [
    "LC.0 <- lm(log(FEV) ~ 1, data = lungcap) # khong co ben dau vao\n",
    "LC.1 <- update(LC.0, . ~ . + Age)        # chi co Age la bien dau vao\n",
    "LC.2 <- update(LC.1, . ~ . + Ht)         # them Ht la bien dau vao\n",
    "LC.3 <- update(LC.2, . ~ . + Gender)\n",
    "LC.4 <- update(LC.3, . ~ . + Smoke)"
   ]
  },
  {
   "cell_type": "markdown",
   "id": "294f8a9c",
   "metadata": {},
   "source": [
    "Tính toán RSS"
   ]
  },
  {
   "cell_type": "code",
   "execution_count": null,
   "id": "1f0950c7",
   "metadata": {},
   "outputs": [],
   "source": [
    "RSS.0 <- sum(resid(LC.0)^2)\n",
    "RSS.1 <- sum(resid(LC.1)^2)\n",
    "RSS.2 <- sum(resid(LC.2)^2)\n",
    "RSS.3 <- sum(resid(LC.3)^2)\n",
    "RSS.4 <- sum(resid(LC.4)^2)\n",
    "RSS.list <- c(Model4 = RSS.4, Model3 = RSS.3, Model2 = RSS.2, Model1 = RSS.1, Model0 = RSS.0)\n",
    "RSS.list"
   ]
  },
  {
   "cell_type": "markdown",
   "id": "db361622",
   "metadata": {},
   "source": [
    "Ta nhận thấy rằng mô hình càng phức tạp thì RSS càng nhỏ"
   ]
  },
  {
   "cell_type": "code",
   "execution_count": null,
   "id": "fbcb01af",
   "metadata": {},
   "outputs": [],
   "source": [
    "SS.list <- diff(RSS.list); SS.list"
   ]
  },
  {
   "cell_type": "markdown",
   "id": "e9c2db57",
   "metadata": {},
   "source": [
    "Bậc tự do chênh lệch 1 đơn vị khi chuyển giữa 2 mô hình liền kề. Chúng ta tính toán RSS để xác định được $\\sigma^2=MSE$, sử dụng phân phối F"
   ]
  },
  {
   "cell_type": "code",
   "execution_count": null,
   "id": "0f18ff00",
   "metadata": {},
   "outputs": [],
   "source": [
    "s2 <- summary(LC.4)$sigma^2         # xac dinh MSE\n",
    "F.list <- (SS.list/1)/s2; F.list    # tinh F"
   ]
  },
  {
   "cell_type": "code",
   "execution_count": null,
   "id": "f7592df5",
   "metadata": {},
   "outputs": [],
   "source": [
    "P.list <- pf(F.list, 1, df.residual(LC.4), lower.tail = FALSE)\n",
    "round(P.list, 6)"
   ]
  },
  {
   "cell_type": "markdown",
   "id": "7becf84d",
   "metadata": {},
   "source": [
    "Các kết quả trên có thể đạt được bằng hàm anova() tron R"
   ]
  },
  {
   "cell_type": "code",
   "execution_count": null,
   "id": "6b12e386",
   "metadata": {},
   "outputs": [],
   "source": [
    "anova(LC.4)"
   ]
  },
  {
   "cell_type": "markdown",
   "id": "0f1e8512",
   "metadata": {},
   "source": [
    "Khi xét đến biến Smoke, chúng ta đang xét đến ảnh hưởng của biến Smoke khi các biến còn lại cũng ở trong mô hình. Nói cách khác, $F$-test cho biến Smoke được điều chỉnh bởi các biến Age, Ht, Gender. Nói chung, các kiểm định $F$-test tuần tự trong ANOVA luôn được điều chỉnh bởi các biến hiện có trong mô hình <br>\n",
    "Bởi vì $F$-test được điều chỉnh bởi các biến khác trong mô hình, nên có rất nhiều trường hợp mà $F$-test có thể được xem xét khi xác định ảnh hưởng của biến Smoke. Một số ví dụ: <br>\n",
    "- Kiểm định cho biến Smoke mà không điều chỉnh với biến nào khác\n",
    "- Kiểm định cho Smoke với điều chỉnh của biến Age\n",
    "- Kiểm định cho Smoke với điều chỉnh của biến Ht\n",
    "- Kiểm định cho Smoke với điều chỉnh của 2 biến Age và Gender"
   ]
  },
  {
   "cell_type": "markdown",
   "id": "107793a1",
   "metadata": {},
   "source": [
    "Thứ tự trong mô hình của 1 biến cần kiểm định là quan trọng trong kiểm định $F$-test <br>\n",
    "Trái lại, trong kiểm định $t$-test, thứ tự của biến trong mô hình là không quan trọng <br>\n",
    "Bảng ANOVA hiển thị kết quả kiểm định $F$-test theo thứ tự cho trước. Mô hình ở hàng trên là mô hình lồng trong mô hình hàng dưới. Thứ tự của các biến là quan trọng <br>\n",
    "Xét mô hình LC.4.new với thứ tự các biến thay đổi so với mô hình LC.4"
   ]
  },
  {
   "cell_type": "code",
   "execution_count": null,
   "id": "5d55c735",
   "metadata": {},
   "outputs": [],
   "source": [
    "LC.4.rev <- lm(log(FEV) ~ Smoke + Gender + Ht + Age, data = lungcap)\n",
    "anova(LC.4.rev)"
   ]
  },
  {
   "cell_type": "markdown",
   "id": "989e2dfc",
   "metadata": {},
   "source": [
    "Mức độ ý nghĩa của biến Smoke tùy thuộc vào vị trí của biến trong mô hình khi kiểm định dùng ANOVA"
   ]
  },
  {
   "cell_type": "markdown",
   "id": "f713bde5",
   "metadata": {},
   "source": [
    "### Hồi quy song song và hồi quy độc lập\n",
    "Xem xét ý nghĩa thống kê khi kết hợp biến định tính trong các cặp mô hình lồng nhau <br>\n",
    "Trường hợp ví dụ: data lungcap, sử dụng biến chiều cao (Ht) và trạng thái hút thuốc (Smoke) <br>\n",
    "Mô hình thu được với cặp biến trên: <br>\n",
    "<center>$\\stackrel\\frown{\\mu}=-2.277+0.05222x_2-0.006830x_4$</center>\n",
    "với RSS = 14.82 và bậc tự do = 651 \n"
   ]
  },
  {
   "cell_type": "code",
   "execution_count": null,
   "id": "9b4cde25",
   "metadata": {},
   "outputs": [],
   "source": [
    "mod.1 <- lm(log(FEV) ~ Ht + Smoke, data = lungcap)\n",
    "summary(mod.1)"
   ]
  },
  {
   "cell_type": "markdown",
   "id": "8213ce21",
   "metadata": {},
   "source": [
    "$x_4=0$ đối với người hút thuốc, $x_4=1$ đối với người không hút thuốc, thay vào mô hình ta có <br>\n",
    "<center>$\\stackrel\\frown{\\mu}=\\begin{cases}\n",
    "    -2.277+0.05222x_2 \\quad (x_4=0)\\\\\n",
    "    -2.284+0.05222x_2 \\quad (x_4=1)\n",
    "  \\end{cases}$</center>"
   ]
  },
  {
   "cell_type": "markdown",
   "id": "0467943c",
   "metadata": {},
   "source": [
    "Mô hình trên có 2 đường thẳng với hệ số của biến $x_2$ và thành phần ngẫu nhiên $\\sigma^2$ hoàn toàn giống nhau chỉ khác hệ số chặn, mô hình trên được gọi là **Hồi quy song song** <br>\n",
    "Nhìn lại ma trận hệ số ước lượng của mô hình trên, ta thấy biến Smoke không có ý nghĩa thống kê"
   ]
  },
  {
   "cell_type": "markdown",
   "id": "d5c114fb",
   "metadata": {},
   "source": [
    "Để thay đổi cả hệ số biến $x_2$ và hệ số chặn của mô hình trên, ta có thể thêm 1 biến tương tác giữa chiều cao và trạng thái hút thuốc <br>\n",
    "Ta có mô hình: <br>\n",
    "<center>$\\stackrel\\frown{\\mu}=-2.281+0.05230x_2-0.002294x_4+0.002294x_2x_4$</center>"
   ]
  },
  {
   "cell_type": "code",
   "execution_count": null,
   "id": "b8d45352",
   "metadata": {},
   "outputs": [],
   "source": [
    "LC.model <- lm(log(FEV) ~ Ht + Smoke + Ht:Smoke, data = lungcap)\n",
    "summary(LC.model)"
   ]
  },
  {
   "cell_type": "markdown",
   "id": "403dc9aa",
   "metadata": {},
   "source": [
    "$x_4=0$ đối với người hút thuốc, $x_4=1$ đối với người không hút thuốc, thay vào mô hình ta có <br>\n",
    "<center>$\\stackrel\\frown{\\mu}=\\begin{cases}\n",
    "    -2.281+0.05230x_2 \\quad (x_4=0)\\\\\n",
    "    -2.137+0.05000x_2 \\quad (x_4=1)\n",
    "  \\end{cases}$</center>"
   ]
  },
  {
   "cell_type": "markdown",
   "id": "359f5076",
   "metadata": {},
   "source": [
    "Mô hình trên không được coi là 2 mô hình hồi quy độc lập vì cả 2 mô hình có chung thành phần ngẫu nhiên $\\sigma^2$ <br>\n",
    "Kiểm định cho các hệ số $\\beta_j$ để xác định mức ý nghĩa thống kê. Ta thấy biến Smoke và biến tương tác giữa Ht và Smoke không có ý nghĩa thống kê. Quy trình trên cho ta thấy được biến Ht có ý nghĩa  thống kê đến log(FEV) hơn biến Smoke"
   ]
  },
  {
   "cell_type": "code",
   "execution_count": null,
   "id": "7bb01236",
   "metadata": {},
   "outputs": [],
   "source": [
    "anova(LC.model)"
   ]
  },
  {
   "cell_type": "markdown",
   "id": "0805f8de",
   "metadata": {},
   "source": [
    "### Quy tắc cận biên\n",
    "- Nếu trong mô hình có biến định lượng bậc cao, thì mô hình cũng nên có biến định lượng đó bậc thấp hơn (ví dụ nếu mô hình có biến $x^2$ thì mô hình cũng nên có $x$)\n",
    "- Nếu mô hình có biến tương tác của các biến định tính thì mô hình cũng nên có các biến riêng lẻ tương ứng với biến tương tác đó và các biến tương tác bậc thấp hơn (ví dụ mô hình có biến tương tác A.B.C thì mô hình nên có các biến A, B, C, A.B, A.C, B.C)\n",
    "- Nếu mô hình có biến tương tác của cả biến định tính và biến định lượng thì mô hình cũng nên có các biến riêng lẻ tương ứng với biến tương tác đó"
   ]
  },
  {
   "cell_type": "markdown",
   "id": "c8162ca0",
   "metadata": {},
   "source": [
    "## Lựa chọn giữa các mô hình không lồng nhau\n",
    "2 tiêu chuẩn lựa chọn mô hình: chính xác hơn và tiết kiệm hơn <br>\n",
    "Xác định độ chính xác bằng $RSS$ (RSS càng nhỏ càng tốt). RSS gần như luôn giảm khi thêm một biến mới vào mô hình. Thêm nhiều biến mới có thể tăng độ chính xác nhưng cũng tăng độ phức tạp của mô hình <br>\n",
    "Chỉ số AIC cân bằng giữa 2 tiêu chuẩn trên bằng cách đo lường độ chính xác bằng $RSS$ nhưng đồng thời trừ đi số lượng hệ số cần ước lượng trong mô hình (khi phương sai $\\sigma^2$ là chưa biết)<br>\n",
    "<center>$AIC=nlog(RSS/n)+2p'$</center>"
   ]
  },
  {
   "cell_type": "markdown",
   "id": "39479d8a",
   "metadata": {},
   "source": [
    "AIC càng nhỏ càng tốt (tiến về $-\\infty$)"
   ]
  },
  {
   "cell_type": "markdown",
   "id": "bfbbf64d",
   "metadata": {},
   "source": [
    "Một chỉ số khác được sử dụng (khi phương sai $\\sigma^2$ là chưa biết): <br>\n",
    "<center>$BIC=nlog(RSS/n)+p'log(n)$</center>"
   ]
  },
  {
   "cell_type": "markdown",
   "id": "97cba0ff",
   "metadata": {},
   "source": [
    "BIC lựa chọn mô hình có tính tiết kiệm cao hơn (vì $log(n)>2$ với n > 8) <br>\n",
    "AIC và BIC được sử dụng cho các mục tiêu khác nhau: <br>\n",
    "- AIC được sử dụng nhiều khi cần mô hình có thể dự đoán tốt hơn\n",
    "- BIC được sử dụng nhiều khi cần nhiều bằng chứng hơn để thêm một biến mới vào mô hình"
   ]
  },
  {
   "cell_type": "markdown",
   "id": "5f2286e2",
   "metadata": {},
   "source": [
    "Cả AIC và BIC đều được tính toán khi sử dụng câu lệnh $extractAIC()$ trong R <br>\n",
    "Ví dụ với dữ liệu lungcap, so sánh 2 mô hình sau"
   ]
  },
  {
   "attachments": {
    "image.png": {
     "image/png": "[encoded data removed]"
    }
   },
   "cell_type": "markdown",
   "id": "d852a26f",
   "metadata": {},
   "source": [
    "![image.png](attachment:image.png)"
   ]
  },
  {
   "cell_type": "code",
   "execution_count": null,
   "id": "c4525c50",
   "metadata": {},
   "outputs": [],
   "source": [
    "LC.A <- lm(log(FEV) ~ Age + Smoke, data = lungcap)\n",
    "extractAIC(LC.A)"
   ]
  },
  {
   "cell_type": "code",
   "execution_count": null,
   "id": "4ee26804",
   "metadata": {},
   "outputs": [],
   "source": [
    "LC.B <- lm(log(FEV) ~ Ht + Smoke, data = lungcap)\n",
    "extractAIC(LC.B)"
   ]
  },
  {
   "cell_type": "markdown",
   "id": "45a46837",
   "metadata": {},
   "source": [
    "Vì AIC của mô hình B là thấp hơn nên mô hình B tốt hơn theo chỉ tiêu AIC (chỉ tiêu đầu tiên là số hệ số được ước lượng trong mô hình)"
   ]
  },
  {
   "cell_type": "code",
   "execution_count": null,
   "id": "90b36364",
   "metadata": {},
   "outputs": [],
   "source": [
    "k <- log(length(lungcap$FEV))\n",
    "extractAIC(LC.A, k = k)"
   ]
  },
  {
   "cell_type": "code",
   "execution_count": null,
   "id": "bf70948d",
   "metadata": {},
   "outputs": [],
   "source": [
    "extractAIC(LC.B, k = k)"
   ]
  },
  {
   "cell_type": "markdown",
   "id": "0817c9a7",
   "metadata": {},
   "source": [
    "BIC của mô hình B thấp hơn nên mô hình B tốt hơn theo chỉ tiêu BIC. Vậy cả AIC và BIC đều chỉ ra rằng, sử dụng biến Ht và Smoke hiệu quả hơn sử dụng biến Age và Smoke"
   ]
  },
  {
   "cell_type": "markdown",
   "id": "1f080db7",
   "metadata": {},
   "source": [
    "## Công cụ điều chỉnh mô hình\n",
    "### Thêm hoặc bớt biến đầu vào\n",
    "R có hàm hỗ trợ việc kiểm tra bỏ biến lần lượt $add1()$ hoặc thêm biến lần lượt $drop1()$ <br>\n",
    "Xét dữ liệu lungcap"
   ]
  },
  {
   "cell_type": "code",
   "execution_count": null,
   "id": "bd2f1ff5",
   "metadata": {},
   "outputs": [],
   "source": [
    "drop1(lm(log(FEV) ~ Age + Ht + Gender + Smoke, data = lungcap), test = \"F\")  # tra them ket qua F-test"
   ]
  },
  {
   "cell_type": "markdown",
   "id": "4ef2063a",
   "metadata": {},
   "source": [
    "Ta thấy nếu không bỏ đi biến nào thì AIC nhỏ nhất (mô hình tốt nhất)"
   ]
  },
  {
   "cell_type": "code",
   "execution_count": null,
   "id": "4e20fbf6",
   "metadata": {},
   "outputs": [],
   "source": [
    "LC.full <- lm(log(FEV) ~ Age + Ht + Gender + Smoke, data = lungcap)\n",
    "add1(lm(log(FEV) ~ Smoke, data = lungcap), LC.full, test = \"F\")  # tra them ket qua F-test"
   ]
  },
  {
   "cell_type": "markdown",
   "id": "b9a89e4b",
   "metadata": {},
   "source": [
    "Từ mô hình đơn giản $log(FEV)\\sim Smoke$, thêm lần lượt các biến khác vào mô hình. Ta thấy thêm bất cứ biến nào cũng khiến mô hình có AIC tốt hơn. Vì Ht có AIC tốt nhất nên chúng ta thêm Ht vào mô hình và tiếp tục kiểm tra"
   ]
  },
  {
   "cell_type": "markdown",
   "id": "9b27f75c",
   "metadata": {
    "slideshow": {
     "slide_type": "slide"
    }
   },
   "source": [
    "### Phương pháp tự động chọn mô hình\n",
    "3 phương pháp tự động lựa chọn mô hình phổ biến nhất: hồi quy lùi, hồi quy tiến và hồi quy từng bước "
   ]
  },
  {
   "cell_type": "markdown",
   "id": "135d5066",
   "metadata": {
    "slideshow": {
     "slide_type": "subslide"
    }
   },
   "source": [
    "**Hồi quy tiến**\n",
    "- Bắt đầu với một số biến cơ bản (thường chỉ là hằng số $\\beta_0$)\n",
    "- Thêm lần lượt các biến chưa ở trong mô hình vào mô hình, tính toán AIC (BIC)\n",
    "- Biến nào khiến AIC (BIC) nhỏ nhất, thêm biến đó vào mô hình và lặp lại với các biến chưa ở trong mô hình"
   ]
  },
  {
   "cell_type": "markdown",
   "id": "68c5c645",
   "metadata": {
    "slideshow": {
     "slide_type": "subslide"
    }
   },
   "source": [
    "**Hồi quy lùi** ngược lại với hồi quy tiến\n",
    "- Bắt đầu với tất cả biến\n",
    "- Bỏ lần lượt các biến ở trong mô hình vào mô hình, tính toán AIC (BIC)\n",
    "- Biến nào khiến AIC (BIC) nhỏ nhất, bỏ biến đó khỏi mô hình và lặp lại với các biến còn ở trong mô hình"
   ]
  },
  {
   "cell_type": "markdown",
   "id": "00753737",
   "metadata": {
    "slideshow": {
     "slide_type": "subslide"
    }
   },
   "source": [
    "**Hồi quy từng bước** <br>\n",
    "- Đối với biến chưa ở trong mô hình, thêm mỗi lần 1 biến; đối với biến đã ở trong mô hình, bỏ mỗi lần 1 biến (tức là vừa thêm biến vừa bỏ biến) và tính toán AIC (BIC)\n",
    "- Lựa chọn mô hình có AIC (BIC) nhỏ nhất. Các biến tương tác có thể được tính đến trong mô hình nếu mô hình đã có các biến đơn lẻ tương ứng"
   ]
  },
  {
   "cell_type": "markdown",
   "id": "719d6091",
   "metadata": {},
   "source": [
    "Xét dữ liệu lungcap"
   ]
  },
  {
   "cell_type": "code",
   "execution_count": null,
   "id": "bfd2dbd3",
   "metadata": {},
   "outputs": [],
   "source": [
    "min.model <- lm(log(FEV) ~ Age + Ht + Gender + Smoke, data = lungcap)\n",
    "max.model <- lm(log(FEV) ~ (Age + Ht + Gender + Smoke)^2, data = lungcap)\n",
    "\n",
    "auto.forward <- step(min.model, direction = \"forward\",\n",
    "                    scope = list(lower = min.model, upper = max.model))\n",
    "auto.backward <- step(max.model, direction = \"backward\",\n",
    "                    scope = list(lower = min.model, upper = max.model))\n",
    "auto.both <- step(min.model, direction = \"both\",\n",
    "                    scope = list(lower = min.model, upper = max.model))"
   ]
  },
  {
   "cell_type": "code",
   "execution_count": null,
   "id": "151a9778",
   "metadata": {},
   "outputs": [],
   "source": [
    "signif(coef(auto.forward), 3)\n",
    "signif(coef(auto.backward), 3)\n",
    "signif(coef(auto.both), 3)"
   ]
  },
  {
   "cell_type": "markdown",
   "id": "c2b7494d",
   "metadata": {},
   "source": [
    "Mô hình được lựa chọn có thể không phù hợp và 3 phương pháp không đồng thời gợi ý cùng một mô hình"
   ]
  },
  {
   "cell_type": "markdown",
   "id": "dfd072d4",
   "metadata": {},
   "source": [
    "### Cẩn trọng khi sử dụng phương pháp tự động\n",
    "- Các phương pháp tự động không sử dụng các hiểu biết về dữ liệu\n",
    "- Phương pháp tính không được kiểm định\n",
    "- Các phương pháp kiểm định thống kê cho các tham số không được sử dụng"
   ]
  },
  {
   "cell_type": "markdown",
   "id": "c70b9a47",
   "metadata": {},
   "source": [
    "# Case study\n",
    "data: dental <br>\n",
    "- Country: tên nước\n",
    "- Indus: đất nước phát triển hoặc đang phát triển\n",
    "- Sugar: trung bình lượng đường tiêu thụ (kg)\n",
    "- DMFT: số răng sâu, rụng ở trẻ 12 tuổi"
   ]
  },
  {
   "cell_type": "code",
   "execution_count": null,
   "id": "f95606a3",
   "metadata": {},
   "outputs": [],
   "source": [
    "data(dental); summary(dental)"
   ]
  },
  {
   "cell_type": "code",
   "execution_count": null,
   "id": "6d103409",
   "metadata": {},
   "outputs": [],
   "source": [
    "head(dental$Non)"
   ]
  },
  {
   "cell_type": "markdown",
   "id": "9020878f",
   "metadata": {},
   "source": [
    "Biểu đồ số lượng trung bình các răng sâu, rụng theo lượng đường tiêu thụ trung bình của các nước"
   ]
  },
  {
   "cell_type": "code",
   "execution_count": null,
   "id": "2833ad6c",
   "metadata": {},
   "outputs": [],
   "source": [
    "plot(DMFT ~Sugar, las = 1, data = dental, pch = ifelse(Indus == \"Ind\", 19, 1),\n",
    "     xlab = \"Mean annual sugar consumption\\n(kg/person/year)\",\n",
    "     ylab = \"Mean DMFT at age 12\")\n",
    "legend(\"topleft\", pch = c(19,1), legend = c(\"Indus\", \"Non-indus\"))"
   ]
  },
  {
   "cell_type": "markdown",
   "id": "c0458c22",
   "metadata": {},
   "source": [
    "Biểu đồ thể hiện sự khác nhau của số lượng trung bình các răng sâu, rụng theo kiểu hình phát triển/đang phát triển"
   ]
  },
  {
   "cell_type": "code",
   "execution_count": null,
   "id": "188f6f19",
   "metadata": {},
   "outputs": [],
   "source": [
    "boxplot(DMFT ~ Indus, data = dental, las = 1,\n",
    "        ylab = \"Mean DMFT at age 12\",\n",
    "        xlab = \"Type of country\")"
   ]
  },
  {
   "cell_type": "code",
   "execution_count": null,
   "id": "f664b433",
   "metadata": {},
   "outputs": [],
   "source": [
    "lm.dental <- lm(DMFT ~ Sugar*Indus, data = dental)\n",
    "anova(lm.dental)"
   ]
  },
  {
   "cell_type": "markdown",
   "id": "71d19876",
   "metadata": {},
   "source": [
    "Trong bảng ANOVA, biến Sugar có ý nghĩa thống kê và không bị điều chỉnh bởi các biến khác <br>\n",
    "Biến Indus không có ý nghĩa thống kê sau khi bị điều chỉnh bởi Sugar <br>\n",
    "Biến tương tác Sugar:Indus có ý nghĩa thống kê sau khi đã điều chỉnh bởi Sugar and Indus <br>\n",
    "(trong kiểm định F thứ tự của các biến đầu vào ảnh hưởng đến kết quả kiểm định)"
   ]
  },
  {
   "cell_type": "code",
   "execution_count": null,
   "id": "3ff271d9",
   "metadata": {},
   "outputs": [],
   "source": [
    "coef(summary(lm.dental))"
   ]
  },
  {
   "cell_type": "markdown",
   "id": "89297e04",
   "metadata": {},
   "source": [
    "Kết quả này cho thấy, trong trường hợp Indus==\"Ind\" (biến giả NonIndus = 0), biến Sugar không còn ý nghĩa thống kê. Thêm vào đó, hệ số của biến Sugar là âm, có nghĩa là tiêu thụ nhiều đường hơn khiến ít răng bị sâu hơn (mặc dù không có ý nghĩa thống kê) <br>\n",
    "(Trong kiểm định t, thứ tự của các biến đầu vào không ảnh hưởng đến kết quả kiểm định hệ số)"
   ]
  },
  {
   "cell_type": "code",
   "execution_count": null,
   "id": "11f38014",
   "metadata": {},
   "outputs": [],
   "source": [
    "contrasts(dental$Indus)"
   ]
  },
  {
   "cell_type": "code",
   "execution_count": null,
   "id": "d6214ede",
   "metadata": {},
   "outputs": [],
   "source": [
    "sum(coef(lm.dental) [c(2,4)])"
   ]
  },
  {
   "cell_type": "markdown",
   "id": "4ea00c7f",
   "metadata": {},
   "source": [
    "Đối với nước đang phát triển, hệ số của lượng đường tiêu thụ là số dương. Vẽ biểu đồ mô hình ước lượng để thấy rõ hơn"
   ]
  },
  {
   "cell_type": "code",
   "execution_count": null,
   "id": "30ca44f9",
   "metadata": {},
   "outputs": [],
   "source": [
    "plot(DMFT ~Sugar, las = 1, data = dental, pch = ifelse(Indus == \"Ind\", 19, 1),\n",
    "     xlab = \"Mean annual sugar consumption\\n(kg/person/year)\",\n",
    "     ylab = \"Mean DMFT at age 12\")\n",
    "legend(\"topleft\", pch = c(19,1), legend = c(\"Indus\", \"Non-indus\"))\n",
    "dental.cf <- coef(lm.dental)\n",
    "\n",
    "abline(a = dental.cf[1], b = dental.cf[2], lwd = 2, lty = 1)\n",
    "abline(a = sum(dental.cf[c(1,3)]), b = sum(dental.cf[c(2,4)]), lwd = 2, lty = 2)"
   ]
  },
  {
   "cell_type": "markdown",
   "id": "6422cbbd",
   "metadata": {},
   "source": [
    "Ta quyết định giữ biến tương tác Sugar:Indus. Theo quy tắc cận biên, ta giữ đồng thời 2 biến riêng lẻ Sugar và Indus trong mô hình"
   ]
  },
  {
   "cell_type": "markdown",
   "id": "80b1d804",
   "metadata": {},
   "source": [
    "Vậy đọc hiểu mô hình như thế nào? <br>\n",
    "Với nước chưa công nghiệp hóa, việc tăng lượng đường tiêu thụ trung bình có liên quan đến việc tăng số lượng răng sâu và rụng. Mỗi kg đường tiêu thụ tăng lên thì đi kèm với việc tăng $-0.01307+0.06004=0.04698$ số răng sâu, rụng của trẻ 12 tuổi <br>\n",
    "Đối với các nước phát triển, trung bình số răng rụng ở trẻ 12 tuổi không cho thấy sự liên quan đến lượng đường tiêu thụ"
   ]
  }
 ],
 "metadata": {
  "kernelspec": {
   "display_name": "R",
   "language": "R",
   "name": "ir"
  },
  "language_info": {
   "codemirror_mode": "r",
   "file_extension": ".r",
   "mimetype": "text/x-r-source",
   "name": "R",
   "pygments_lexer": "r",
   "version": "3.6.1"
  }
 },
 "nbformat": 4,
 "nbformat_minor": 5
}
